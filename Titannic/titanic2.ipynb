{
 "metadata": {
  "kernelspec": {
   "language": "python",
   "display_name": "Python 3",
   "name": "python3"
  },
  "language_info": {
   "name": "python",
   "version": "3.7.12",
   "mimetype": "text/x-python",
   "codemirror_mode": {
    "name": "ipython",
    "version": 3
   },
   "pygments_lexer": "ipython3",
   "nbconvert_exporter": "python",
   "file_extension": ".py"
  }
 },
 "nbformat_minor": 4,
 "nbformat": 4,
 "cells": [
  {
   "cell_type": "code",
   "source": [
    "#导入相关包\n",
    "import warnings \n",
    "warnings.filterwarnings('ignore')\n",
    "import numpy as np\n",
    "import pandas as pd\n",
    "import seaborn as sns\n",
    "#设置sns样式\n",
    "sns.set(style='white',context='notebook',palette='muted')\n",
    "import matplotlib.pyplot as plt\n",
    "#导入数据\n",
    "train=pd.read_csv('train.csv')\n",
    "test=pd.read_csv('test.csv')"
   ],
   "metadata": {
    "_uuid": "8f2839f25d086af736a60e9eeb907d3b93b6e0e5",
    "_cell_guid": "b1076dfc-b9ad-4769-8c92-a6c4dae69d19",
    "execution": {
     "iopub.status.busy": "2022-07-08T08:15:43.134784Z",
     "iopub.execute_input": "2022-07-08T08:15:43.135219Z",
     "iopub.status.idle": "2022-07-08T08:15:44.363461Z",
     "shell.execute_reply.started": "2022-07-08T08:15:43.135127Z",
     "shell.execute_reply": "2022-07-08T08:15:44.361918Z"
    },
    "trusted": true
   },
   "execution_count": 115,
   "outputs": []
  },
  {
   "cell_type": "markdown",
   "source": [
    "理解数据"
   ],
   "metadata": {}
  },
  {
   "cell_type": "code",
   "source": [
    "#分别查看实验数据集和预测数据集数据\n",
    "print('实验数据大小:',train.shape)\n",
    "print('预测数据大小:',test.shape)"
   ],
   "metadata": {
    "execution": {
     "iopub.status.busy": "2022-07-08T08:15:44.365988Z",
     "iopub.execute_input": "2022-07-08T08:15:44.366576Z",
     "iopub.status.idle": "2022-07-08T08:15:44.377358Z",
     "shell.execute_reply.started": "2022-07-08T08:15:44.366524Z",
     "shell.execute_reply": "2022-07-08T08:15:44.372010Z"
    },
    "trusted": true
   },
   "execution_count": 116,
   "outputs": [
    {
     "name": "stdout",
     "output_type": "stream",
     "text": [
      "实验数据大小: (891, 12)\n",
      "预测数据大小: (418, 11)\n"
     ]
    }
   ]
  },
  {
   "cell_type": "markdown",
   "source": [
    "该数据集共1309条数据，其中实验数据891条，预测数据418条；实验数据比预测数据多了一列：即标签\"result\"。"
   ],
   "metadata": {}
  },
  {
   "cell_type": "markdown",
   "source": [
    "记录数据异常值、缺失值情况，方便下一步进行数据预处理。"
   ],
   "metadata": {}
  },
  {
   "cell_type": "code",
   "source": [
    "#将实验数据和预测数据合并\n",
    "full=train.append(test,ignore_index=True)\n",
    "full.describe()"
   ],
   "metadata": {
    "execution": {
     "iopub.status.busy": "2022-07-08T08:15:44.378657Z",
     "iopub.execute_input": "2022-07-08T08:15:44.379285Z",
     "iopub.status.idle": "2022-07-08T08:15:44.443596Z",
     "shell.execute_reply.started": "2022-07-08T08:15:44.379251Z",
     "shell.execute_reply": "2022-07-08T08:15:44.442610Z"
    },
    "trusted": true
   },
   "execution_count": 117,
   "outputs": [
    {
     "data": {
      "text/plain": "               Age         Fare        Parch  PassengerId       Pclass  \\\ncount  1046.000000  1308.000000  1309.000000  1309.000000  1309.000000   \nmean     29.881138    33.295479     0.385027   655.000000     2.294882   \nstd      14.413493    51.758668     0.865560   378.020061     0.837836   \nmin       0.170000     0.000000     0.000000     1.000000     1.000000   \n25%      21.000000     7.895800     0.000000   328.000000     2.000000   \n50%      28.000000    14.454200     0.000000   655.000000     3.000000   \n75%      39.000000    31.275000     0.000000   982.000000     3.000000   \nmax      80.000000   512.329200     9.000000  1309.000000     3.000000   \n\n             SibSp    Survived  \ncount  1309.000000  891.000000  \nmean      0.498854    0.383838  \nstd       1.041658    0.486592  \nmin       0.000000    0.000000  \n25%       0.000000    0.000000  \n50%       0.000000    0.000000  \n75%       1.000000    1.000000  \nmax       8.000000    1.000000  ",
      "text/html": "<div>\n<style scoped>\n    .dataframe tbody tr th:only-of-type {\n        vertical-align: middle;\n    }\n\n    .dataframe tbody tr th {\n        vertical-align: top;\n    }\n\n    .dataframe thead th {\n        text-align: right;\n    }\n</style>\n<table border=\"1\" class=\"dataframe\">\n  <thead>\n    <tr style=\"text-align: right;\">\n      <th></th>\n      <th>Age</th>\n      <th>Fare</th>\n      <th>Parch</th>\n      <th>PassengerId</th>\n      <th>Pclass</th>\n      <th>SibSp</th>\n      <th>Survived</th>\n    </tr>\n  </thead>\n  <tbody>\n    <tr>\n      <th>count</th>\n      <td>1046.000000</td>\n      <td>1308.000000</td>\n      <td>1309.000000</td>\n      <td>1309.000000</td>\n      <td>1309.000000</td>\n      <td>1309.000000</td>\n      <td>891.000000</td>\n    </tr>\n    <tr>\n      <th>mean</th>\n      <td>29.881138</td>\n      <td>33.295479</td>\n      <td>0.385027</td>\n      <td>655.000000</td>\n      <td>2.294882</td>\n      <td>0.498854</td>\n      <td>0.383838</td>\n    </tr>\n    <tr>\n      <th>std</th>\n      <td>14.413493</td>\n      <td>51.758668</td>\n      <td>0.865560</td>\n      <td>378.020061</td>\n      <td>0.837836</td>\n      <td>1.041658</td>\n      <td>0.486592</td>\n    </tr>\n    <tr>\n      <th>min</th>\n      <td>0.170000</td>\n      <td>0.000000</td>\n      <td>0.000000</td>\n      <td>1.000000</td>\n      <td>1.000000</td>\n      <td>0.000000</td>\n      <td>0.000000</td>\n    </tr>\n    <tr>\n      <th>25%</th>\n      <td>21.000000</td>\n      <td>7.895800</td>\n      <td>0.000000</td>\n      <td>328.000000</td>\n      <td>2.000000</td>\n      <td>0.000000</td>\n      <td>0.000000</td>\n    </tr>\n    <tr>\n      <th>50%</th>\n      <td>28.000000</td>\n      <td>14.454200</td>\n      <td>0.000000</td>\n      <td>655.000000</td>\n      <td>3.000000</td>\n      <td>0.000000</td>\n      <td>0.000000</td>\n    </tr>\n    <tr>\n      <th>75%</th>\n      <td>39.000000</td>\n      <td>31.275000</td>\n      <td>0.000000</td>\n      <td>982.000000</td>\n      <td>3.000000</td>\n      <td>1.000000</td>\n      <td>1.000000</td>\n    </tr>\n    <tr>\n      <th>max</th>\n      <td>80.000000</td>\n      <td>512.329200</td>\n      <td>9.000000</td>\n      <td>1309.000000</td>\n      <td>3.000000</td>\n      <td>8.000000</td>\n      <td>1.000000</td>\n    </tr>\n  </tbody>\n</table>\n</div>"
     },
     "execution_count": 117,
     "metadata": {},
     "output_type": "execute_result"
    }
   ]
  },
  {
   "cell_type": "markdown",
   "source": [
    "无明显的异常值，几乎所有数据均在正常范围内。"
   ],
   "metadata": {}
  },
  {
   "cell_type": "code",
   "source": [
    "full.info()"
   ],
   "metadata": {
    "execution": {
     "iopub.status.busy": "2022-07-08T08:15:44.445736Z",
     "iopub.execute_input": "2022-07-08T08:15:44.446245Z",
     "iopub.status.idle": "2022-07-08T08:15:44.462973Z",
     "shell.execute_reply.started": "2022-07-08T08:15:44.446214Z",
     "shell.execute_reply": "2022-07-08T08:15:44.461921Z"
    },
    "trusted": true
   },
   "execution_count": 118,
   "outputs": [
    {
     "name": "stdout",
     "output_type": "stream",
     "text": [
      "<class 'pandas.core.frame.DataFrame'>\n",
      "RangeIndex: 1309 entries, 0 to 1308\n",
      "Data columns (total 12 columns):\n",
      "Age            1046 non-null float64\n",
      "Cabin          295 non-null object\n",
      "Embarked       1307 non-null object\n",
      "Fare           1308 non-null float64\n",
      "Name           1309 non-null object\n",
      "Parch          1309 non-null int64\n",
      "PassengerId    1309 non-null int64\n",
      "Pclass         1309 non-null int64\n",
      "Sex            1309 non-null object\n",
      "SibSp          1309 non-null int64\n",
      "Survived       891 non-null float64\n",
      "Ticket         1309 non-null object\n",
      "dtypes: float64(3), int64(4), object(5)\n",
      "memory usage: 122.8+ KB\n"
     ]
    }
   ]
  },
  {
   "cell_type": "markdown",
   "source": [
    "Age/Cabin/Embarked/Fare四项数据有缺失值，其中Cabin字段缺失近四分之三的数据。"
   ],
   "metadata": {}
  },
  {
   "cell_type": "markdown",
   "source": [
    "结合图表查看各个特征与标签间的关系："
   ],
   "metadata": {}
  },
  {
   "cell_type": "markdown",
   "source": [
    " Embarked与Survived：法国登船的乘客生存率较高"
   ],
   "metadata": {}
  },
  {
   "cell_type": "code",
   "source": [
    "sns.barplot(data=train,x='Embarked',y='Survived')"
   ],
   "metadata": {
    "execution": {
     "iopub.status.busy": "2022-07-08T08:15:44.464486Z",
     "iopub.execute_input": "2022-07-08T08:15:44.464857Z",
     "iopub.status.idle": "2022-07-08T08:15:44.784627Z",
     "shell.execute_reply.started": "2022-07-08T08:15:44.464824Z",
     "shell.execute_reply": "2022-07-08T08:15:44.783776Z"
    },
    "trusted": true
   },
   "execution_count": 119,
   "outputs": [
    {
     "data": {
      "text/plain": "<matplotlib.axes._subplots.AxesSubplot at 0x2622dc2ab00>"
     },
     "execution_count": 119,
     "metadata": {},
     "output_type": "execute_result"
    },
    {
     "data": {
      "text/plain": "<Figure size 432x288 with 1 Axes>",
      "image/png": "[encoded data removed]"
     },
     "metadata": {},
     "output_type": "display_data"
    }
   ]
  },
  {
   "cell_type": "code",
   "source": [
    "#计算不同类型embarked的乘客，其生存率为多少\n",
    "print('Embarked为\"S\"的乘客，其生存率为%.2f'%full['Survived'][full['Embarked']=='S'].value_counts(normalize=True)[1])\n",
    "print('Embarked为\"C\"的乘客，其生存率为%.2f'%full['Survived'][full['Embarked']=='C'].value_counts(normalize=True)[1])\n",
    "print('Embarked为\"Q\"的乘客，其生存率为%.2f'%full['Survived'][full['Embarked']=='Q'].value_counts(normalize=True)[1])"
   ],
   "metadata": {
    "execution": {
     "iopub.status.busy": "2022-07-08T08:15:44.785991Z",
     "iopub.execute_input": "2022-07-08T08:15:44.786491Z",
     "iopub.status.idle": "2022-07-08T08:15:44.800622Z",
     "shell.execute_reply.started": "2022-07-08T08:15:44.786461Z",
     "shell.execute_reply": "2022-07-08T08:15:44.799545Z"
    },
    "trusted": true
   },
   "execution_count": 120,
   "outputs": [
    {
     "name": "stdout",
     "output_type": "stream",
     "text": [
      "Embarked为\"S\"的乘客，其生存率为0.34\n",
      "Embarked为\"C\"的乘客，其生存率为0.55\n",
      "Embarked为\"Q\"的乘客，其生存率为0.39\n"
     ]
    }
   ]
  },
  {
   "cell_type": "markdown",
   "source": [
    "法国登船乘客生存率较高原因可能与其头等舱乘客比例较高有关，因此继续查看不同登船地点乘客各舱位乘客数量情况。"
   ],
   "metadata": {}
  },
  {
   "cell_type": "code",
   "source": [
    "#法国登船乘客生存率较高原因可能与其头等舱乘客比例较高有关\n",
    "sns.factorplot('Pclass',col='Embarked',data=train,kind='count',size=3)"
   ],
   "metadata": {
    "execution": {
     "iopub.status.busy": "2022-07-08T08:15:44.802287Z",
     "iopub.execute_input": "2022-07-08T08:15:44.802867Z",
     "iopub.status.idle": "2022-07-08T08:15:45.314421Z",
     "shell.execute_reply.started": "2022-07-08T08:15:44.802831Z",
     "shell.execute_reply": "2022-07-08T08:15:45.313157Z"
    },
    "trusted": true
   },
   "execution_count": 121,
   "outputs": [
    {
     "data": {
      "text/plain": "<seaborn.axisgrid.FacetGrid at 0x2622db87b70>"
     },
     "execution_count": 121,
     "metadata": {},
     "output_type": "execute_result"
    },
    {
     "data": {
      "text/plain": "<Figure size 648x216 with 3 Axes>",
      "image/png": "[encoded data removed]"
     },
     "metadata": {},
     "output_type": "display_data"
    }
   ]
  },
  {
   "cell_type": "markdown",
   "source": [
    "果然，法国登船的乘客其头等舱所占比例更高"
   ],
   "metadata": {}
  },
  {
   "cell_type": "markdown",
   "source": [
    "Parch与Survived：当乘客同行的父母及子女数量适中时，生存率较高"
   ],
   "metadata": {}
  },
  {
   "cell_type": "code",
   "source": [
    "sns.barplot(data=train,x='Parch',y='Survived')"
   ],
   "metadata": {
    "execution": {
     "iopub.status.busy": "2022-07-08T08:15:45.316229Z",
     "iopub.execute_input": "2022-07-08T08:15:45.316711Z",
     "iopub.status.idle": "2022-07-08T08:15:45.686144Z",
     "shell.execute_reply.started": "2022-07-08T08:15:45.316648Z",
     "shell.execute_reply": "2022-07-08T08:15:45.684887Z"
    },
    "trusted": true
   },
   "execution_count": 122,
   "outputs": [
    {
     "data": {
      "text/plain": "<matplotlib.axes._subplots.AxesSubplot at 0x2622ddf0978>"
     },
     "execution_count": 122,
     "metadata": {},
     "output_type": "execute_result"
    },
    {
     "data": {
      "text/plain": "<Figure size 432x288 with 1 Axes>",
      "image/png": "[encoded data removed]"
     },
     "metadata": {},
     "output_type": "display_data"
    }
   ]
  },
  {
   "cell_type": "markdown",
   "source": [
    "SibSp与Survived：当乘客同行的同辈数量适中时生存率较高"
   ],
   "metadata": {}
  },
  {
   "cell_type": "code",
   "source": [
    "sns.barplot(data=train,x='SibSp',y='Survived')"
   ],
   "metadata": {
    "execution": {
     "iopub.status.busy": "2022-07-08T08:15:45.688178Z",
     "iopub.execute_input": "2022-07-08T08:15:45.689011Z",
     "iopub.status.idle": "2022-07-08T08:15:46.139755Z",
     "shell.execute_reply.started": "2022-07-08T08:15:45.688958Z",
     "shell.execute_reply": "2022-07-08T08:15:46.138564Z"
    },
    "trusted": true
   },
   "execution_count": 123,
   "outputs": [
    {
     "data": {
      "text/plain": "<matplotlib.axes._subplots.AxesSubplot at 0x2622de5d128>"
     },
     "execution_count": 123,
     "metadata": {},
     "output_type": "execute_result"
    },
    {
     "data": {
      "text/plain": "<Figure size 432x288 with 1 Axes>",
      "image/png": "[encoded data removed]"
     },
     "metadata": {},
     "output_type": "display_data"
    }
   ]
  },
  {
   "cell_type": "markdown",
   "source": [
    "Pclass与Survived：乘客客舱等级越高，生存率越高"
   ],
   "metadata": {}
  },
  {
   "cell_type": "code",
   "source": [
    "sns.barplot(data=train,x='Pclass',y='Survived')"
   ],
   "metadata": {
    "execution": {
     "iopub.status.busy": "2022-07-08T08:15:46.144917Z",
     "iopub.execute_input": "2022-07-08T08:15:46.145448Z",
     "iopub.status.idle": "2022-07-08T08:15:46.433899Z",
     "shell.execute_reply.started": "2022-07-08T08:15:46.145417Z",
     "shell.execute_reply": "2022-07-08T08:15:46.433071Z"
    },
    "trusted": true
   },
   "execution_count": 124,
   "outputs": [
    {
     "data": {
      "text/plain": "<matplotlib.axes._subplots.AxesSubplot at 0x2622dec38d0>"
     },
     "execution_count": 124,
     "metadata": {},
     "output_type": "execute_result"
    },
    {
     "data": {
      "text/plain": "<Figure size 432x288 with 1 Axes>",
      "image/png": "[encoded data removed]"
     },
     "metadata": {},
     "output_type": "display_data"
    }
   ]
  },
  {
   "cell_type": "markdown",
   "source": [
    "Sex与Survived：女性的生存率远高于男性"
   ],
   "metadata": {}
  },
  {
   "cell_type": "code",
   "source": [
    "sns.barplot(data=train,x='Sex',y='Survived')"
   ],
   "metadata": {
    "execution": {
     "iopub.status.busy": "2022-07-08T08:15:46.435069Z",
     "iopub.execute_input": "2022-07-08T08:15:46.435520Z",
     "iopub.status.idle": "2022-07-08T08:15:46.686933Z",
     "shell.execute_reply.started": "2022-07-08T08:15:46.435492Z",
     "shell.execute_reply": "2022-07-08T08:15:46.685916Z"
    },
    "trusted": true
   },
   "execution_count": 125,
   "outputs": [
    {
     "data": {
      "text/plain": "<matplotlib.axes._subplots.AxesSubplot at 0x2622df1b668>"
     },
     "execution_count": 125,
     "metadata": {},
     "output_type": "execute_result"
    },
    {
     "data": {
      "text/plain": "<Figure size 432x288 with 1 Axes>",
      "image/png": "[encoded data removed]"
     },
     "metadata": {},
     "output_type": "display_data"
    }
   ]
  },
  {
   "cell_type": "markdown",
   "source": [
    "Age与Survived：当乘客年龄段在0-10岁期间时生存率会较高"
   ],
   "metadata": {}
  },
  {
   "cell_type": "code",
   "source": [
    "#创建坐标轴\n",
    "ageFacet=sns.FacetGrid(train,hue='Survived',aspect=3)\n",
    "#作图，选择图形类型\n",
    "ageFacet.map(sns.kdeplot,'Age',shade=True)\n",
    "#其他信息：坐标轴范围、标签等\n",
    "ageFacet.set(xlim=(0,train['Age'].max()))\n",
    "ageFacet.add_legend()"
   ],
   "metadata": {
    "execution": {
     "iopub.status.busy": "2022-07-08T08:15:46.688562Z",
     "iopub.execute_input": "2022-07-08T08:15:46.688899Z",
     "iopub.status.idle": "2022-07-08T08:15:47.201255Z",
     "shell.execute_reply.started": "2022-07-08T08:15:46.688870Z",
     "shell.execute_reply": "2022-07-08T08:15:47.199926Z"
    },
    "trusted": true
   },
   "execution_count": 126,
   "outputs": [
    {
     "data": {
      "text/plain": "<seaborn.axisgrid.FacetGrid at 0x2622df5fb38>"
     },
     "execution_count": 126,
     "metadata": {},
     "output_type": "execute_result"
    },
    {
     "data": {
      "text/plain": "<Figure size 696.425x216 with 1 Axes>",
      "image/png": "[encoded data removed]"
     },
     "metadata": {},
     "output_type": "display_data"
    }
   ]
  },
  {
   "cell_type": "markdown",
   "source": [
    "Fare与Survived：当票价低于18左右时乘客生存率较低，票价越高生存率一般越高"
   ],
   "metadata": {}
  },
  {
   "cell_type": "code",
   "source": [
    "#创建坐标轴\n",
    "ageFacet=sns.FacetGrid(train,hue='Survived',aspect=3)\n",
    "ageFacet.map(sns.kdeplot,'Fare',shade=True)\n",
    "ageFacet.set(xlim=(0,150))\n",
    "ageFacet.add_legend()"
   ],
   "metadata": {
    "execution": {
     "iopub.status.busy": "2022-07-08T08:15:47.202981Z",
     "iopub.execute_input": "2022-07-08T08:15:47.203771Z",
     "iopub.status.idle": "2022-07-08T08:15:47.720350Z",
     "shell.execute_reply.started": "2022-07-08T08:15:47.203721Z",
     "shell.execute_reply": "2022-07-08T08:15:47.719206Z"
    },
    "trusted": true
   },
   "execution_count": 127,
   "outputs": [
    {
     "data": {
      "text/plain": "<seaborn.axisgrid.FacetGrid at 0x2622ded32e8>"
     },
     "execution_count": 127,
     "metadata": {},
     "output_type": "execute_result"
    },
    {
     "data": {
      "text/plain": "<Figure size 696.425x216 with 1 Axes>",
      "image/png": "[encoded data removed]"
     },
     "metadata": {},
     "output_type": "display_data"
    }
   ]
  },
  {
   "cell_type": "markdown",
   "source": [
    "查看票价的分布特征"
   ],
   "metadata": {}
  },
  {
   "cell_type": "code",
   "source": [
    "#查看fare分布\n",
    "farePlot=sns.distplot(full['Fare'][full['Fare'].notnull()],label='skewness:%.2f'%(full['Fare'].skew()))\n",
    "farePlot.legend(loc='best')"
   ],
   "metadata": {
    "execution": {
     "iopub.status.busy": "2022-07-08T08:15:47.721823Z",
     "iopub.execute_input": "2022-07-08T08:15:47.722170Z",
     "iopub.status.idle": "2022-07-08T08:15:48.102710Z",
     "shell.execute_reply.started": "2022-07-08T08:15:47.722139Z",
     "shell.execute_reply": "2022-07-08T08:15:48.101561Z"
    },
    "trusted": true
   },
   "execution_count": 128,
   "outputs": [
    {
     "data": {
      "text/plain": "<matplotlib.legend.Legend at 0x2622efeeb70>"
     },
     "execution_count": 128,
     "metadata": {},
     "output_type": "execute_result"
    },
    {
     "data": {
      "text/plain": "<Figure size 432x288 with 1 Axes>",
      "image/png": "[encoded data removed]"
     },
     "metadata": {},
     "output_type": "display_data"
    }
   ]
  },
  {
   "cell_type": "markdown",
   "source": [
    "fare的分布呈左偏的形态，其偏度skewness=4.37较大，说明数据偏移平均值较多，因此我们需要对数据进行对数化处理，防止数据权重分布不均匀。"
   ],
   "metadata": {}
  },
  {
   "cell_type": "code",
   "source": [
    "#对数化处理fare值\n",
    "full['Fare']=full['Fare'].map(lambda x: np.log(x) if x>0 else 0)"
   ],
   "metadata": {
    "execution": {
     "iopub.status.busy": "2022-07-08T08:15:48.104297Z",
     "iopub.execute_input": "2022-07-08T08:15:48.104657Z",
     "iopub.status.idle": "2022-07-08T08:15:48.113979Z",
     "shell.execute_reply.started": "2022-07-08T08:15:48.104625Z",
     "shell.execute_reply": "2022-07-08T08:15:48.112532Z"
    },
    "trusted": true
   },
   "execution_count": 129,
   "outputs": []
  },
  {
   "cell_type": "markdown",
   "source": [
    "数据预处理"
   ],
   "metadata": {}
  },
  {
   "cell_type": "markdown",
   "source": [
    "Cabin缺失值填充"
   ],
   "metadata": {}
  },
  {
   "cell_type": "code",
   "source": [
    "#对Cabin缺失值进行处理，利用U（Unknown）填充缺失值\n",
    "full['Cabin']=full['Cabin'].fillna('U')\n",
    "full['Cabin'].head()"
   ],
   "metadata": {
    "execution": {
     "iopub.status.busy": "2022-07-08T08:15:48.115322Z",
     "iopub.execute_input": "2022-07-08T08:15:48.115727Z",
     "iopub.status.idle": "2022-07-08T08:15:48.130024Z",
     "shell.execute_reply.started": "2022-07-08T08:15:48.115667Z",
     "shell.execute_reply": "2022-07-08T08:15:48.129063Z"
    },
    "trusted": true
   },
   "execution_count": 130,
   "outputs": [
    {
     "data": {
      "text/plain": "0       U\n1     C85\n2       U\n3    C123\n4       U\nName: Cabin, dtype: object"
     },
     "execution_count": 130,
     "metadata": {},
     "output_type": "execute_result"
    }
   ]
  },
  {
   "cell_type": "markdown",
   "source": [
    "Embarked缺失值填充"
   ],
   "metadata": {}
  },
  {
   "cell_type": "code",
   "source": [
    "#对Embarked缺失值进行处理，查看缺失值情况\n",
    "full[full['Embarked'].isnull()]"
   ],
   "metadata": {
    "execution": {
     "iopub.status.busy": "2022-07-08T08:15:48.131241Z",
     "iopub.execute_input": "2022-07-08T08:15:48.132329Z",
     "iopub.status.idle": "2022-07-08T08:15:48.153941Z",
     "shell.execute_reply.started": "2022-07-08T08:15:48.132296Z",
     "shell.execute_reply": "2022-07-08T08:15:48.152930Z"
    },
    "trusted": true
   },
   "execution_count": 131,
   "outputs": [
    {
     "data": {
      "text/plain": "      Age Cabin Embarked      Fare                                       Name  \\\n61   38.0   B28      NaN  4.382027                        Icard, Miss. Amelie   \n829  62.0   B28      NaN  4.382027  Stone, Mrs. George Nelson (Martha Evelyn)   \n\n     Parch  PassengerId  Pclass     Sex  SibSp  Survived  Ticket  \n61       0           62       1  female      0       1.0  113572  \n829      0          830       1  female      0       1.0  113572  ",
      "text/html": "<div>\n<style scoped>\n    .dataframe tbody tr th:only-of-type {\n        vertical-align: middle;\n    }\n\n    .dataframe tbody tr th {\n        vertical-align: top;\n    }\n\n    .dataframe thead th {\n        text-align: right;\n    }\n</style>\n<table border=\"1\" class=\"dataframe\">\n  <thead>\n    <tr style=\"text-align: right;\">\n      <th></th>\n      <th>Age</th>\n      <th>Cabin</th>\n      <th>Embarked</th>\n      <th>Fare</th>\n      <th>Name</th>\n      <th>Parch</th>\n      <th>PassengerId</th>\n      <th>Pclass</th>\n      <th>Sex</th>\n      <th>SibSp</th>\n      <th>Survived</th>\n      <th>Ticket</th>\n    </tr>\n  </thead>\n  <tbody>\n    <tr>\n      <th>61</th>\n      <td>38.0</td>\n      <td>B28</td>\n      <td>NaN</td>\n      <td>4.382027</td>\n      <td>Icard, Miss. Amelie</td>\n      <td>0</td>\n      <td>62</td>\n      <td>1</td>\n      <td>female</td>\n      <td>0</td>\n      <td>1.0</td>\n      <td>113572</td>\n    </tr>\n    <tr>\n      <th>829</th>\n      <td>62.0</td>\n      <td>B28</td>\n      <td>NaN</td>\n      <td>4.382027</td>\n      <td>Stone, Mrs. George Nelson (Martha Evelyn)</td>\n      <td>0</td>\n      <td>830</td>\n      <td>1</td>\n      <td>female</td>\n      <td>0</td>\n      <td>1.0</td>\n      <td>113572</td>\n    </tr>\n  </tbody>\n</table>\n</div>"
     },
     "execution_count": 131,
     "metadata": {},
     "output_type": "execute_result"
    }
   ]
  },
  {
   "cell_type": "markdown",
   "source": [
    "查看Embarked数据分布情况，可知在英国南安普顿登船可能性最大，因此以此填充缺失值。"
   ],
   "metadata": {}
  },
  {
   "cell_type": "code",
   "source": [
    "full['Embarked'].value_counts()"
   ],
   "metadata": {
    "execution": {
     "iopub.status.busy": "2022-07-08T08:15:48.155796Z",
     "iopub.execute_input": "2022-07-08T08:15:48.156157Z",
     "iopub.status.idle": "2022-07-08T08:15:48.165907Z",
     "shell.execute_reply.started": "2022-07-08T08:15:48.156125Z",
     "shell.execute_reply": "2022-07-08T08:15:48.164838Z"
    },
    "trusted": true
   },
   "execution_count": 132,
   "outputs": [
    {
     "data": {
      "text/plain": "S    914\nC    270\nQ    123\nName: Embarked, dtype: int64"
     },
     "execution_count": 132,
     "metadata": {},
     "output_type": "execute_result"
    }
   ]
  },
  {
   "cell_type": "code",
   "source": [
    "full['Embarked']=full['Embarked'].fillna('S')"
   ],
   "metadata": {
    "execution": {
     "iopub.status.busy": "2022-07-08T08:15:48.167557Z",
     "iopub.execute_input": "2022-07-08T08:15:48.167934Z",
     "iopub.status.idle": "2022-07-08T08:15:48.175867Z",
     "shell.execute_reply.started": "2022-07-08T08:15:48.167902Z",
     "shell.execute_reply": "2022-07-08T08:15:48.174882Z"
    },
    "trusted": true
   },
   "execution_count": 133,
   "outputs": []
  },
  {
   "cell_type": "markdown",
   "source": [
    "Fare缺失值填充"
   ],
   "metadata": {}
  },
  {
   "cell_type": "code",
   "source": [
    "#查看缺失数据情况，该乘客乘坐3等舱，登船港口为法国，舱位未知\n",
    "full[full['Fare'].isnull()]"
   ],
   "metadata": {
    "execution": {
     "iopub.status.busy": "2022-07-08T08:15:48.177509Z",
     "iopub.execute_input": "2022-07-08T08:15:48.178186Z",
     "iopub.status.idle": "2022-07-08T08:15:48.196006Z",
     "shell.execute_reply.started": "2022-07-08T08:15:48.178154Z",
     "shell.execute_reply": "2022-07-08T08:15:48.194813Z"
    },
    "trusted": true
   },
   "execution_count": 134,
   "outputs": [
    {
     "data": {
      "text/plain": "Empty DataFrame\nColumns: [Age, Cabin, Embarked, Fare, Name, Parch, PassengerId, Pclass, Sex, SibSp, Survived, Ticket]\nIndex: []",
      "text/html": "<div>\n<style scoped>\n    .dataframe tbody tr th:only-of-type {\n        vertical-align: middle;\n    }\n\n    .dataframe tbody tr th {\n        vertical-align: top;\n    }\n\n    .dataframe thead th {\n        text-align: right;\n    }\n</style>\n<table border=\"1\" class=\"dataframe\">\n  <thead>\n    <tr style=\"text-align: right;\">\n      <th></th>\n      <th>Age</th>\n      <th>Cabin</th>\n      <th>Embarked</th>\n      <th>Fare</th>\n      <th>Name</th>\n      <th>Parch</th>\n      <th>PassengerId</th>\n      <th>Pclass</th>\n      <th>Sex</th>\n      <th>SibSp</th>\n      <th>Survived</th>\n      <th>Ticket</th>\n    </tr>\n  </thead>\n  <tbody>\n  </tbody>\n</table>\n</div>"
     },
     "execution_count": 134,
     "metadata": {},
     "output_type": "execute_result"
    }
   ]
  },
  {
   "cell_type": "markdown",
   "source": [
    "利用3等舱，登船港口为英国，舱位未知旅客的平均票价来填充缺失值。"
   ],
   "metadata": {}
  },
  {
   "cell_type": "code",
   "source": [
    "full['Fare']=full['Fare'].fillna(full[(full['Pclass']==3)&(full['Embarked']=='S')&(full['Cabin']=='U')]['Fare'].mean())"
   ],
   "metadata": {
    "execution": {
     "iopub.status.busy": "2022-07-08T08:15:48.200340Z",
     "iopub.execute_input": "2022-07-08T08:15:48.201749Z",
     "iopub.status.idle": "2022-07-08T08:15:48.210541Z",
     "shell.execute_reply.started": "2022-07-08T08:15:48.201693Z",
     "shell.execute_reply": "2022-07-08T08:15:48.209377Z"
    },
    "trusted": true
   },
   "execution_count": 135,
   "outputs": []
  },
  {
   "cell_type": "markdown",
   "source": [
    "特征工程"
   ],
   "metadata": {}
  },
  {
   "cell_type": "markdown",
   "source": [
    " Name中的头衔信息-Title"
   ],
   "metadata": {}
  },
  {
   "cell_type": "code",
   "source": [
    "#构造新特征Title\n",
    "full['Title']=full['Name'].map(lambda x:x.split(',')[1].split('.')[0].strip())\n",
    "#查看title数据分布\n",
    "full['Title'].value_counts()"
   ],
   "metadata": {
    "execution": {
     "iopub.status.busy": "2022-07-08T08:15:48.211995Z",
     "iopub.execute_input": "2022-07-08T08:15:48.212369Z",
     "iopub.status.idle": "2022-07-08T08:15:48.229725Z",
     "shell.execute_reply.started": "2022-07-08T08:15:48.212338Z",
     "shell.execute_reply": "2022-07-08T08:15:48.228934Z"
    },
    "trusted": true
   },
   "execution_count": 136,
   "outputs": [
    {
     "data": {
      "text/plain": "Mr              757\nMiss            260\nMrs             197\nMaster           61\nRev               8\nDr                8\nCol               4\nMs                2\nMajor             2\nMlle              2\nLady              1\nCapt              1\nDona              1\nJonkheer          1\nDon               1\nMme               1\nthe Countess      1\nSir               1\nName: Title, dtype: int64"
     },
     "execution_count": 136,
     "metadata": {},
     "output_type": "execute_result"
    }
   ]
  },
  {
   "cell_type": "markdown",
   "source": [
    "将相近的Title信息整合在一起："
   ],
   "metadata": {}
  },
  {
   "cell_type": "code",
   "source": [
    "#将title信息进行整合\n",
    "TitleDict={}\n",
    "TitleDict['Mr']='Mr'\n",
    "TitleDict['Mlle']='Miss'\n",
    "TitleDict['Miss']='Miss'\n",
    "TitleDict['Master']='Master'\n",
    "TitleDict['Jonkheer']='Master'\n",
    "TitleDict['Mme']='Mrs'\n",
    "TitleDict['Ms']='Mrs'\n",
    "TitleDict['Mrs']='Mrs'\n",
    "TitleDict['Don']='Royalty'\n",
    "TitleDict['Sir']='Royalty'\n",
    "TitleDict['the Countess']='Royalty'\n",
    "TitleDict['Dona']='Royalty'\n",
    "TitleDict['Lady']='Royalty'\n",
    "TitleDict['Capt']='Officer'\n",
    "TitleDict['Col']='Officer'\n",
    "TitleDict['Major']='Officer'\n",
    "TitleDict['Dr']='Officer'\n",
    "TitleDict['Rev']='Officer'\n",
    "\n",
    "full['Title']=full['Title'].map(TitleDict)\n",
    "full['Title'].value_counts()"
   ],
   "metadata": {
    "execution": {
     "iopub.status.busy": "2022-07-08T08:15:48.231516Z",
     "iopub.execute_input": "2022-07-08T08:15:48.232140Z",
     "iopub.status.idle": "2022-07-08T08:15:48.247872Z",
     "shell.execute_reply.started": "2022-07-08T08:15:48.232104Z",
     "shell.execute_reply": "2022-07-08T08:15:48.246743Z"
    },
    "trusted": true
   },
   "execution_count": 137,
   "outputs": [
    {
     "data": {
      "text/plain": "Mr         757\nMiss       262\nMrs        200\nMaster      62\nOfficer     23\nRoyalty      5\nName: Title, dtype: int64"
     },
     "execution_count": 137,
     "metadata": {},
     "output_type": "execute_result"
    }
   ]
  },
  {
   "cell_type": "markdown",
   "source": [
    "可视化观察新特征与标签间关系"
   ],
   "metadata": {}
  },
  {
   "cell_type": "code",
   "source": [
    "#可视化分析Title与Survived之间关系\n",
    "sns.barplot(data=full,x='Title',y='Survived')"
   ],
   "metadata": {
    "execution": {
     "iopub.status.busy": "2022-07-08T08:15:48.249846Z",
     "iopub.execute_input": "2022-07-08T08:15:48.250299Z",
     "iopub.status.idle": "2022-07-08T08:15:48.650897Z",
     "shell.execute_reply.started": "2022-07-08T08:15:48.250255Z",
     "shell.execute_reply": "2022-07-08T08:15:48.649828Z"
    },
    "trusted": true
   },
   "execution_count": 138,
   "outputs": [
    {
     "data": {
      "text/plain": "<matplotlib.axes._subplots.AxesSubplot at 0x2622f0ffb00>"
     },
     "execution_count": 138,
     "metadata": {},
     "output_type": "execute_result"
    },
    {
     "data": {
      "text/plain": "<Figure size 432x288 with 1 Axes>",
      "image/png": "[encoded data removed]"
     },
     "metadata": {},
     "output_type": "display_data"
    }
   ]
  },
  {
   "cell_type": "markdown",
   "source": [
    "头衔为'Mr'及'Officer'的乘客，生存率明显较低。"
   ],
   "metadata": {}
  },
  {
   "cell_type": "markdown",
   "source": [
    "FamilyNum及FamilySize信息"
   ],
   "metadata": {}
  },
  {
   "cell_type": "markdown",
   "source": [
    "将Parch及SibSp字段整合得到一名乘客同行家庭成员总人数FamilyNum的字段，再根据家庭成员具体人数的多少得到家庭规模FamilySize这个新字段。"
   ],
   "metadata": {}
  },
  {
   "cell_type": "code",
   "source": [
    "full['familyNum']=full['Parch']+full['SibSp']+1\n",
    "#查看familyNum与Survived\n",
    "sns.barplot(data=full,x='familyNum',y='Survived')"
   ],
   "metadata": {
    "execution": {
     "iopub.status.busy": "2022-07-08T08:15:48.652240Z",
     "iopub.execute_input": "2022-07-08T08:15:48.652579Z",
     "iopub.status.idle": "2022-07-08T08:15:49.167891Z",
     "shell.execute_reply.started": "2022-07-08T08:15:48.652549Z",
     "shell.execute_reply": "2022-07-08T08:15:49.166766Z"
    },
    "trusted": true
   },
   "execution_count": 139,
   "outputs": [
    {
     "data": {
      "text/plain": "<matplotlib.axes._subplots.AxesSubplot at 0x2622f14c940>"
     },
     "execution_count": 139,
     "metadata": {},
     "output_type": "execute_result"
    },
    {
     "data": {
      "text/plain": "<Figure size 432x288 with 1 Axes>",
      "image/png": "[encoded data removed]"
     },
     "metadata": {},
     "output_type": "display_data"
    }
   ]
  },
  {
   "cell_type": "markdown",
   "source": [
    "家庭成员人数在2-4人时，乘客的生存率较高，当没有家庭成员同行或家庭成员人数过多时生存率较低。"
   ],
   "metadata": {}
  },
  {
   "cell_type": "code",
   "source": [
    "#我们按照家庭成员人数多少，将家庭规模分为“小、中、大”三类：\n",
    "def familysize(familyNum):\n",
    "    if familyNum==1:\n",
    "        return 0\n",
    "    elif (familyNum>=2)&(familyNum<=4):\n",
    "        return 1\n",
    "    else:\n",
    "        return 2\n",
    "\n",
    "full['familySize']=full['familyNum'].map(familysize)\n",
    "full['familySize'].value_counts()"
   ],
   "metadata": {
    "execution": {
     "iopub.status.busy": "2022-07-08T08:15:49.169455Z",
     "iopub.execute_input": "2022-07-08T08:15:49.169811Z",
     "iopub.status.idle": "2022-07-08T08:15:49.183212Z",
     "shell.execute_reply.started": "2022-07-08T08:15:49.169781Z",
     "shell.execute_reply": "2022-07-08T08:15:49.181754Z"
    },
    "trusted": true
   },
   "execution_count": 140,
   "outputs": [
    {
     "data": {
      "text/plain": "0    790\n1    437\n2     82\nName: familySize, dtype: int64"
     },
     "execution_count": 140,
     "metadata": {},
     "output_type": "execute_result"
    }
   ]
  },
  {
   "cell_type": "code",
   "source": [
    "#查看familySize与Survived\n",
    "sns.barplot(data=full,x='familySize',y='Survived')"
   ],
   "metadata": {
    "execution": {
     "iopub.status.busy": "2022-07-08T08:15:49.185429Z",
     "iopub.execute_input": "2022-07-08T08:15:49.185910Z",
     "iopub.status.idle": "2022-07-08T08:15:49.472915Z",
     "shell.execute_reply.started": "2022-07-08T08:15:49.185862Z",
     "shell.execute_reply": "2022-07-08T08:15:49.471691Z"
    },
    "trusted": true
   },
   "execution_count": 141,
   "outputs": [
    {
     "data": {
      "text/plain": "<matplotlib.axes._subplots.AxesSubplot at 0x2622f179940>"
     },
     "execution_count": 141,
     "metadata": {},
     "output_type": "execute_result"
    },
    {
     "data": {
      "text/plain": "<Figure size 432x288 with 1 Axes>",
      "image/png": "[encoded data removed]"
     },
     "metadata": {},
     "output_type": "display_data"
    }
   ]
  },
  {
   "cell_type": "markdown",
   "source": [
    "当家庭规模适中时，乘客的生存率更高。"
   ],
   "metadata": {}
  },
  {
   "cell_type": "markdown",
   "source": [
    "Cabin客舱类型信息-Deck"
   ],
   "metadata": {}
  },
  {
   "cell_type": "code",
   "source": [
    "#提取Cabin字段首字母\n",
    "full['Deck']=full['Cabin'].map(lambda x:x[0])\n",
    "#查看不同Deck类型乘客的生存率\n",
    "sns.barplot(data=full,x='Deck',y='Survived')"
   ],
   "metadata": {
    "execution": {
     "iopub.status.busy": "2022-07-08T08:15:49.481307Z",
     "iopub.execute_input": "2022-07-08T08:15:49.481667Z",
     "iopub.status.idle": "2022-07-08T08:15:49.976498Z",
     "shell.execute_reply.started": "2022-07-08T08:15:49.481638Z",
     "shell.execute_reply": "2022-07-08T08:15:49.974926Z"
    },
    "trusted": true
   },
   "execution_count": 142,
   "outputs": [
    {
     "data": {
      "text/plain": "<matplotlib.axes._subplots.AxesSubplot at 0x2622f216208>"
     },
     "execution_count": 142,
     "metadata": {},
     "output_type": "execute_result"
    },
    {
     "data": {
      "text/plain": "<Figure size 432x288 with 1 Axes>",
      "image/png": "[encoded data removed]"
     },
     "metadata": {},
     "output_type": "display_data"
    }
   ]
  },
  {
   "cell_type": "markdown",
   "source": [
    "当乘客的客舱类型为B/D/E时，生存率较高；当客舱类型为U/T时，生存率较低。"
   ],
   "metadata": {}
  },
  {
   "cell_type": "markdown",
   "source": [
    "共票号乘客数量TickCot及TickGroup"
   ],
   "metadata": {}
  },
  {
   "cell_type": "code",
   "source": [
    "#提取各票号的乘客数量\n",
    "TickCountDict={}\n",
    "TickCountDict=full['Ticket'].value_counts()\n",
    "TickCountDict.head()"
   ],
   "metadata": {
    "execution": {
     "iopub.status.busy": "2022-07-08T08:15:49.978142Z",
     "iopub.execute_input": "2022-07-08T08:15:49.978505Z",
     "iopub.status.idle": "2022-07-08T08:15:49.989554Z",
     "shell.execute_reply.started": "2022-07-08T08:15:49.978464Z",
     "shell.execute_reply": "2022-07-08T08:15:49.988598Z"
    },
    "trusted": true
   },
   "execution_count": 143,
   "outputs": [
    {
     "data": {
      "text/plain": "CA. 2343        11\n1601             8\nCA 2144          8\nS.O.C. 14879     7\n347082           7\nName: Ticket, dtype: int64"
     },
     "execution_count": 143,
     "metadata": {},
     "output_type": "execute_result"
    }
   ]
  },
  {
   "cell_type": "code",
   "source": [
    "#将同票号乘客数量数据并入数据集中\n",
    "full['TickCot']=full['Ticket'].map(TickCountDict)\n",
    "full['TickCot'].head()"
   ],
   "metadata": {
    "execution": {
     "iopub.status.busy": "2022-07-08T08:15:49.990981Z",
     "iopub.execute_input": "2022-07-08T08:15:49.992007Z",
     "iopub.status.idle": "2022-07-08T08:15:50.001671Z",
     "shell.execute_reply.started": "2022-07-08T08:15:49.991957Z",
     "shell.execute_reply": "2022-07-08T08:15:50.000648Z"
    },
    "trusted": true
   },
   "execution_count": 144,
   "outputs": [
    {
     "data": {
      "text/plain": "0    1\n1    2\n2    1\n3    2\n4    1\nName: TickCot, dtype: int64"
     },
     "execution_count": 144,
     "metadata": {},
     "output_type": "execute_result"
    }
   ]
  },
  {
   "cell_type": "code",
   "source": [
    "#查看TickCot与Survived之间关系\n",
    "sns.barplot(data=full,x='TickCot',y='Survived')"
   ],
   "metadata": {
    "execution": {
     "iopub.status.busy": "2022-07-08T08:15:50.003066Z",
     "iopub.execute_input": "2022-07-08T08:15:50.003590Z",
     "iopub.status.idle": "2022-07-08T08:15:50.522256Z",
     "shell.execute_reply.started": "2022-07-08T08:15:50.003549Z",
     "shell.execute_reply": "2022-07-08T08:15:50.521118Z"
    },
    "trusted": true
   },
   "execution_count": 145,
   "outputs": [
    {
     "data": {
      "text/plain": "<matplotlib.axes._subplots.AxesSubplot at 0x2622f28bcf8>"
     },
     "execution_count": 145,
     "metadata": {},
     "output_type": "execute_result"
    },
    {
     "data": {
      "text/plain": "<Figure size 432x288 with 1 Axes>",
      "image/png": "[encoded data removed]"
     },
     "metadata": {},
     "output_type": "display_data"
    }
   ]
  },
  {
   "cell_type": "markdown",
   "source": [
    "当TickCot大小适中时，乘客生存率较高。"
   ],
   "metadata": {}
  },
  {
   "cell_type": "code",
   "source": [
    "#按照TickCot大小，将TickGroup分为三类。\n",
    "def TickCountGroup(num):\n",
    "    if (num>=2)&(num<=4):\n",
    "        return 0\n",
    "    elif (num==1)|((num>=5)&(num<=8)):\n",
    "        return 1\n",
    "    else :\n",
    "        return 2\n",
    "#得到各位乘客TickGroup的类别\n",
    "full['TickGroup']=full['TickCot'].map(TickCountGroup)\n",
    "#查看TickGroup与Survived之间关系\n",
    "sns.barplot(data=full,x='TickGroup',y='Survived')\n"
   ],
   "metadata": {
    "execution": {
     "iopub.status.busy": "2022-07-08T08:15:50.523325Z",
     "iopub.execute_input": "2022-07-08T08:15:50.523639Z",
     "iopub.status.idle": "2022-07-08T08:15:50.944918Z",
     "shell.execute_reply.started": "2022-07-08T08:15:50.523612Z",
     "shell.execute_reply": "2022-07-08T08:15:50.943742Z"
    },
    "trusted": true
   },
   "execution_count": 146,
   "outputs": [
    {
     "data": {
      "text/plain": "<matplotlib.axes._subplots.AxesSubplot at 0x2622f300f60>"
     },
     "execution_count": 146,
     "metadata": {},
     "output_type": "execute_result"
    },
    {
     "data": {
      "text/plain": "<Figure size 432x288 with 1 Axes>",
      "image/png": "[encoded data removed]"
     },
     "metadata": {},
     "output_type": "display_data"
    }
   ]
  },
  {
   "cell_type": "markdown",
   "source": [
    "Age缺失值填充-构建随机森林模型预测缺失的数据"
   ],
   "metadata": {}
  },
  {
   "cell_type": "markdown",
   "source": [
    "查看Age与Parch、Pclass、Sex、SibSp、Title、familyNum、familySize、Deck、TickCot、TickGroup等变量的相关系数大小，筛选出相关性较高的变量构建预测模型。"
   ],
   "metadata": {}
  },
  {
   "cell_type": "code",
   "source": [
    "#查看缺失值情况\n",
    "full[full['Age'].isnull()].head()"
   ],
   "metadata": {
    "execution": {
     "iopub.status.busy": "2022-07-08T08:15:50.946663Z",
     "iopub.execute_input": "2022-07-08T08:15:50.947412Z",
     "iopub.status.idle": "2022-07-08T08:15:50.970082Z",
     "shell.execute_reply.started": "2022-07-08T08:15:50.947367Z",
     "shell.execute_reply": "2022-07-08T08:15:50.968918Z"
    },
    "trusted": true
   },
   "execution_count": 147,
   "outputs": [
    {
     "data": {
      "text/plain": "    Age Cabin Embarked      Fare                           Name  Parch  \\\n5   NaN     U        Q  2.135148               Moran, Mr. James      0   \n17  NaN     U        S  2.564949   Williams, Mr. Charles Eugene      0   \n19  NaN     U        C  1.977547        Masselmani, Mrs. Fatima      0   \n26  NaN     U        C  1.977547        Emir, Mr. Farred Chehab      0   \n28  NaN     U        Q  2.064226  O'Dwyer, Miss. Ellen \"Nellie\"      0   \n\n    PassengerId  Pclass     Sex  SibSp  Survived  Ticket Title  familyNum  \\\n5             6       3    male      0       0.0  330877    Mr          1   \n17           18       2    male      0       1.0  244373    Mr          1   \n19           20       3  female      0       1.0    2649   Mrs          1   \n26           27       3    male      0       0.0    2631    Mr          1   \n28           29       3  female      0       1.0  330959  Miss          1   \n\n    familySize Deck  TickCot  TickGroup  \n5            0    U        1          1  \n17           0    U        1          1  \n19           0    U        1          1  \n26           0    U        1          1  \n28           0    U        1          1  ",
      "text/html": "<div>\n<style scoped>\n    .dataframe tbody tr th:only-of-type {\n        vertical-align: middle;\n    }\n\n    .dataframe tbody tr th {\n        vertical-align: top;\n    }\n\n    .dataframe thead th {\n        text-align: right;\n    }\n</style>\n<table border=\"1\" class=\"dataframe\">\n  <thead>\n    <tr style=\"text-align: right;\">\n      <th></th>\n      <th>Age</th>\n      <th>Cabin</th>\n      <th>Embarked</th>\n      <th>Fare</th>\n      <th>Name</th>\n      <th>Parch</th>\n      <th>PassengerId</th>\n      <th>Pclass</th>\n      <th>Sex</th>\n      <th>SibSp</th>\n      <th>Survived</th>\n      <th>Ticket</th>\n      <th>Title</th>\n      <th>familyNum</th>\n      <th>familySize</th>\n      <th>Deck</th>\n      <th>TickCot</th>\n      <th>TickGroup</th>\n    </tr>\n  </thead>\n  <tbody>\n    <tr>\n      <th>5</th>\n      <td>NaN</td>\n      <td>U</td>\n      <td>Q</td>\n      <td>2.135148</td>\n      <td>Moran, Mr. James</td>\n      <td>0</td>\n      <td>6</td>\n      <td>3</td>\n      <td>male</td>\n      <td>0</td>\n      <td>0.0</td>\n      <td>330877</td>\n      <td>Mr</td>\n      <td>1</td>\n      <td>0</td>\n      <td>U</td>\n      <td>1</td>\n      <td>1</td>\n    </tr>\n    <tr>\n      <th>17</th>\n      <td>NaN</td>\n      <td>U</td>\n      <td>S</td>\n      <td>2.564949</td>\n      <td>Williams, Mr. Charles Eugene</td>\n      <td>0</td>\n      <td>18</td>\n      <td>2</td>\n      <td>male</td>\n      <td>0</td>\n      <td>1.0</td>\n      <td>244373</td>\n      <td>Mr</td>\n      <td>1</td>\n      <td>0</td>\n      <td>U</td>\n      <td>1</td>\n      <td>1</td>\n    </tr>\n    <tr>\n      <th>19</th>\n      <td>NaN</td>\n      <td>U</td>\n      <td>C</td>\n      <td>1.977547</td>\n      <td>Masselmani, Mrs. Fatima</td>\n      <td>0</td>\n      <td>20</td>\n      <td>3</td>\n      <td>female</td>\n      <td>0</td>\n      <td>1.0</td>\n      <td>2649</td>\n      <td>Mrs</td>\n      <td>1</td>\n      <td>0</td>\n      <td>U</td>\n      <td>1</td>\n      <td>1</td>\n    </tr>\n    <tr>\n      <th>26</th>\n      <td>NaN</td>\n      <td>U</td>\n      <td>C</td>\n      <td>1.977547</td>\n      <td>Emir, Mr. Farred Chehab</td>\n      <td>0</td>\n      <td>27</td>\n      <td>3</td>\n      <td>male</td>\n      <td>0</td>\n      <td>0.0</td>\n      <td>2631</td>\n      <td>Mr</td>\n      <td>1</td>\n      <td>0</td>\n      <td>U</td>\n      <td>1</td>\n      <td>1</td>\n    </tr>\n    <tr>\n      <th>28</th>\n      <td>NaN</td>\n      <td>U</td>\n      <td>Q</td>\n      <td>2.064226</td>\n      <td>O'Dwyer, Miss. Ellen \"Nellie\"</td>\n      <td>0</td>\n      <td>29</td>\n      <td>3</td>\n      <td>female</td>\n      <td>0</td>\n      <td>1.0</td>\n      <td>330959</td>\n      <td>Miss</td>\n      <td>1</td>\n      <td>0</td>\n      <td>U</td>\n      <td>1</td>\n      <td>1</td>\n    </tr>\n  </tbody>\n</table>\n</div>"
     },
     "execution_count": 147,
     "metadata": {},
     "output_type": "execute_result"
    }
   ]
  },
  {
   "cell_type": "code",
   "source": [
    "#筛选数据集\n",
    "AgePre=full[['Age','Parch','Pclass','SibSp','Title','familyNum','TickCot']]\n",
    "#进行one-hot编码\n",
    "AgePre=pd.get_dummies(AgePre)\n",
    "ParAge=pd.get_dummies(AgePre['Parch'],prefix='Parch')\n",
    "SibAge=pd.get_dummies(AgePre['SibSp'],prefix='SibSp')\n",
    "PclAge=pd.get_dummies(AgePre['Pclass'],prefix='Pclass')\n",
    "#查看变量间相关性\n",
    "AgeCorrDf=pd.DataFrame()\n",
    "AgeCorrDf=AgePre.corr()\n",
    "AgeCorrDf['Age'].sort_values()"
   ],
   "metadata": {
    "execution": {
     "iopub.status.busy": "2022-07-08T08:15:50.972019Z",
     "iopub.execute_input": "2022-07-08T08:15:50.972481Z",
     "iopub.status.idle": "2022-07-08T08:15:50.996430Z",
     "shell.execute_reply.started": "2022-07-08T08:15:50.972436Z",
     "shell.execute_reply": "2022-07-08T08:15:50.995570Z"
    },
    "trusted": true
   },
   "execution_count": 148,
   "outputs": [
    {
     "data": {
      "text/plain": "Pclass          -0.408106\nTitle_Master    -0.385380\nTitle_Miss      -0.282977\nSibSp           -0.243699\nfamilyNum       -0.240229\nTickCot         -0.185284\nParch           -0.150917\nTitle_Royalty    0.057337\nTitle_Officer    0.166771\nTitle_Mr         0.183965\nTitle_Mrs        0.215091\nAge              1.000000\nName: Age, dtype: float64"
     },
     "execution_count": 148,
     "metadata": {},
     "output_type": "execute_result"
    }
   ]
  },
  {
   "cell_type": "code",
   "source": [
    "#拼接数据\n",
    "AgePre=pd.concat([AgePre,ParAge,SibAge,PclAge],axis=1)\n",
    "AgePre.head()"
   ],
   "metadata": {
    "execution": {
     "iopub.status.busy": "2022-07-08T08:15:50.998118Z",
     "iopub.execute_input": "2022-07-08T08:15:50.998848Z",
     "iopub.status.idle": "2022-07-08T08:15:51.021566Z",
     "shell.execute_reply.started": "2022-07-08T08:15:50.998803Z",
     "shell.execute_reply": "2022-07-08T08:15:51.020244Z"
    },
    "trusted": true
   },
   "execution_count": 149,
   "outputs": [
    {
     "data": {
      "text/plain": "    Age  Parch  Pclass  SibSp  familyNum  TickCot  Title_Master  Title_Miss  \\\n0  22.0      0       3      1          2        1             0           0   \n1  38.0      0       1      1          2        2             0           0   \n2  26.0      0       3      0          1        1             0           1   \n3  35.0      0       1      1          2        2             0           0   \n4  35.0      0       3      0          1        1             0           0   \n\n   Title_Mr  Title_Mrs    ...     SibSp_0  SibSp_1  SibSp_2  SibSp_3  SibSp_4  \\\n0         1          0    ...           0        1        0        0        0   \n1         0          1    ...           0        1        0        0        0   \n2         0          0    ...           1        0        0        0        0   \n3         0          1    ...           0        1        0        0        0   \n4         1          0    ...           1        0        0        0        0   \n\n   SibSp_5  SibSp_8  Pclass_1  Pclass_2  Pclass_3  \n0        0        0         0         0         1  \n1        0        0         1         0         0  \n2        0        0         0         0         1  \n3        0        0         1         0         0  \n4        0        0         0         0         1  \n\n[5 rows x 30 columns]",
      "text/html": "<div>\n<style scoped>\n    .dataframe tbody tr th:only-of-type {\n        vertical-align: middle;\n    }\n\n    .dataframe tbody tr th {\n        vertical-align: top;\n    }\n\n    .dataframe thead th {\n        text-align: right;\n    }\n</style>\n<table border=\"1\" class=\"dataframe\">\n  <thead>\n    <tr style=\"text-align: right;\">\n      <th></th>\n      <th>Age</th>\n      <th>Parch</th>\n      <th>Pclass</th>\n      <th>SibSp</th>\n      <th>familyNum</th>\n      <th>TickCot</th>\n      <th>Title_Master</th>\n      <th>Title_Miss</th>\n      <th>Title_Mr</th>\n      <th>Title_Mrs</th>\n      <th>...</th>\n      <th>SibSp_0</th>\n      <th>SibSp_1</th>\n      <th>SibSp_2</th>\n      <th>SibSp_3</th>\n      <th>SibSp_4</th>\n      <th>SibSp_5</th>\n      <th>SibSp_8</th>\n      <th>Pclass_1</th>\n      <th>Pclass_2</th>\n      <th>Pclass_3</th>\n    </tr>\n  </thead>\n  <tbody>\n    <tr>\n      <th>0</th>\n      <td>22.0</td>\n      <td>0</td>\n      <td>3</td>\n      <td>1</td>\n      <td>2</td>\n      <td>1</td>\n      <td>0</td>\n      <td>0</td>\n      <td>1</td>\n      <td>0</td>\n      <td>...</td>\n      <td>0</td>\n      <td>1</td>\n      <td>0</td>\n      <td>0</td>\n      <td>0</td>\n      <td>0</td>\n      <td>0</td>\n      <td>0</td>\n      <td>0</td>\n      <td>1</td>\n    </tr>\n    <tr>\n      <th>1</th>\n      <td>38.0</td>\n      <td>0</td>\n      <td>1</td>\n      <td>1</td>\n      <td>2</td>\n      <td>2</td>\n      <td>0</td>\n      <td>0</td>\n      <td>0</td>\n      <td>1</td>\n      <td>...</td>\n      <td>0</td>\n      <td>1</td>\n      <td>0</td>\n      <td>0</td>\n      <td>0</td>\n      <td>0</td>\n      <td>0</td>\n      <td>1</td>\n      <td>0</td>\n      <td>0</td>\n    </tr>\n    <tr>\n      <th>2</th>\n      <td>26.0</td>\n      <td>0</td>\n      <td>3</td>\n      <td>0</td>\n      <td>1</td>\n      <td>1</td>\n      <td>0</td>\n      <td>1</td>\n      <td>0</td>\n      <td>0</td>\n      <td>...</td>\n      <td>1</td>\n      <td>0</td>\n      <td>0</td>\n      <td>0</td>\n      <td>0</td>\n      <td>0</td>\n      <td>0</td>\n      <td>0</td>\n      <td>0</td>\n      <td>1</td>\n    </tr>\n    <tr>\n      <th>3</th>\n      <td>35.0</td>\n      <td>0</td>\n      <td>1</td>\n      <td>1</td>\n      <td>2</td>\n      <td>2</td>\n      <td>0</td>\n      <td>0</td>\n      <td>0</td>\n      <td>1</td>\n      <td>...</td>\n      <td>0</td>\n      <td>1</td>\n      <td>0</td>\n      <td>0</td>\n      <td>0</td>\n      <td>0</td>\n      <td>0</td>\n      <td>1</td>\n      <td>0</td>\n      <td>0</td>\n    </tr>\n    <tr>\n      <th>4</th>\n      <td>35.0</td>\n      <td>0</td>\n      <td>3</td>\n      <td>0</td>\n      <td>1</td>\n      <td>1</td>\n      <td>0</td>\n      <td>0</td>\n      <td>1</td>\n      <td>0</td>\n      <td>...</td>\n      <td>1</td>\n      <td>0</td>\n      <td>0</td>\n      <td>0</td>\n      <td>0</td>\n      <td>0</td>\n      <td>0</td>\n      <td>0</td>\n      <td>0</td>\n      <td>1</td>\n    </tr>\n  </tbody>\n</table>\n<p>5 rows × 30 columns</p>\n</div>"
     },
     "execution_count": 149,
     "metadata": {},
     "output_type": "execute_result"
    }
   ]
  },
  {
   "cell_type": "code",
   "source": [
    "#拆分实验集和预测集\n",
    "AgeKnown=AgePre[AgePre['Age'].notnull()]\n",
    "AgeUnKnown=AgePre[AgePre['Age'].isnull()]\n",
    "\n",
    "#生成实验数据的特征和标签\n",
    "AgeKnown_X=AgeKnown.drop(['Age'],axis=1)\n",
    "AgeKnown_y=AgeKnown['Age']\n",
    "#生成预测数据的特征\n",
    "AgeUnKnown_X=AgeUnKnown.drop(['Age'],axis=1)\n",
    "\n",
    "#利用随机森林构建模型\n",
    "from sklearn.ensemble import RandomForestRegressor\n",
    "rfr=RandomForestRegressor(random_state=None,n_estimators=500,n_jobs=-1)\n",
    "rfr.fit(AgeKnown_X,AgeKnown_y)\n",
    "\n",
    "#模型得分\n",
    "rfr.score(AgeKnown_X,AgeKnown_y)"
   ],
   "metadata": {
    "execution": {
     "iopub.status.busy": "2022-07-08T08:15:51.023243Z",
     "iopub.execute_input": "2022-07-08T08:15:51.023732Z",
     "iopub.status.idle": "2022-07-08T08:15:53.065042Z",
     "shell.execute_reply.started": "2022-07-08T08:15:51.023664Z",
     "shell.execute_reply": "2022-07-08T08:15:53.063712Z"
    },
    "trusted": true
   },
   "execution_count": 150,
   "outputs": [
    {
     "data": {
      "text/plain": "0.5871983055325247"
     },
     "execution_count": 150,
     "metadata": {},
     "output_type": "execute_result"
    }
   ]
  },
  {
   "cell_type": "code",
   "source": [
    "#预测年龄\n",
    "AgeUnKnown_y=rfr.predict(AgeUnKnown_X)\n",
    "#填充预测数据\n",
    "full.loc[full['Age'].isnull(),['Age']]=AgeUnKnown_y\n",
    "full.info()  #此时已无缺失值"
   ],
   "metadata": {
    "execution": {
     "iopub.status.busy": "2022-07-08T08:15:53.066534Z",
     "iopub.execute_input": "2022-07-08T08:15:53.067019Z",
     "iopub.status.idle": "2022-07-08T08:15:53.291339Z",
     "shell.execute_reply.started": "2022-07-08T08:15:53.066985Z",
     "shell.execute_reply": "2022-07-08T08:15:53.290137Z"
    },
    "trusted": true
   },
   "execution_count": 151,
   "outputs": [
    {
     "name": "stdout",
     "output_type": "stream",
     "text": [
      "<class 'pandas.core.frame.DataFrame'>\n",
      "RangeIndex: 1309 entries, 0 to 1308\n",
      "Data columns (total 18 columns):\n",
      "Age            1309 non-null float64\n",
      "Cabin          1309 non-null object\n",
      "Embarked       1309 non-null object\n",
      "Fare           1309 non-null float64\n",
      "Name           1309 non-null object\n",
      "Parch          1309 non-null int64\n",
      "PassengerId    1309 non-null int64\n",
      "Pclass         1309 non-null int64\n",
      "Sex            1309 non-null object\n",
      "SibSp          1309 non-null int64\n",
      "Survived       891 non-null float64\n",
      "Ticket         1309 non-null object\n",
      "Title          1309 non-null object\n",
      "familyNum      1309 non-null int64\n",
      "familySize     1309 non-null int64\n",
      "Deck           1309 non-null object\n",
      "TickCot        1309 non-null int64\n",
      "TickGroup      1309 non-null int64\n",
      "dtypes: float64(3), int64(8), object(7)\n",
      "memory usage: 184.2+ KB\n"
     ]
    }
   ]
  },
  {
   "cell_type": "markdown",
   "source": [
    "虽然通过分析数据已有特征与标签的关系可以构建有效的预测模型，但是部分具有明显共同特征的用户可能与整体模型逻辑并不一致。如果将这部分具有同组效应的用户识别出来并对其数据加以修正，就可以有效提高模型的准确率。在Titancic案例中，我们主要探究相同姓氏的乘客是否存在明显的同组效应。\n",
    "\n",
    "提取两部分数据，分别查看其“姓氏”是否存在同组效应（因为性别和年龄与乘客生存率关系最为密切，因此用这两个特征作为分类条件）：\n",
    "\n",
    "12岁以上男性：找出男性中同姓氏均获救的部分；\n",
    "女性以及年龄在12岁以下儿童：找出女性及儿童中同姓氏均遇难的部分。\n"
   ],
   "metadata": {}
  },
  {
   "cell_type": "code",
   "source": [
    "#提取乘客的姓氏及相应的乘客数\n",
    "full['Surname']=full['Name'].map(lambda x:x.split(',')[0].strip())\n",
    "SurNameDict={}\n",
    "SurNameDict=full['Surname'].value_counts()\n",
    "full['SurnameNum']=full['Surname'].map(SurNameDict)\n",
    "\n",
    "#将数据分为两组\n",
    "MaleDf=full[(full['Sex']=='male')&(full['Age']>12)&(full['familyNum']>=2)]\n",
    "FemChildDf=full[((full['Sex']=='female')|(full['Age']<=12))&(full['familyNum']>=2)]"
   ],
   "metadata": {
    "execution": {
     "iopub.status.busy": "2022-07-08T08:15:53.293126Z",
     "iopub.execute_input": "2022-07-08T08:15:53.293573Z",
     "iopub.status.idle": "2022-07-08T08:15:53.313418Z",
     "shell.execute_reply.started": "2022-07-08T08:15:53.293527Z",
     "shell.execute_reply": "2022-07-08T08:15:53.312185Z"
    },
    "trusted": true
   },
   "execution_count": 152,
   "outputs": []
  },
  {
   "cell_type": "code",
   "source": [
    "#分析男性同组效应\n",
    "MSurNamDf=MaleDf['Survived'].groupby(MaleDf['Surname']).mean()\n",
    "MSurNamDf.head()\n",
    "MSurNamDf.value_counts()"
   ],
   "metadata": {
    "execution": {
     "iopub.status.busy": "2022-07-08T08:15:53.315275Z",
     "iopub.execute_input": "2022-07-08T08:15:53.316056Z",
     "iopub.status.idle": "2022-07-08T08:15:53.332600Z",
     "shell.execute_reply.started": "2022-07-08T08:15:53.316008Z",
     "shell.execute_reply": "2022-07-08T08:15:53.331252Z"
    },
    "trusted": true
   },
   "execution_count": 153,
   "outputs": [
    {
     "data": {
      "text/plain": "0.0    89\n1.0    19\n0.5     3\nName: Survived, dtype: int64"
     },
     "execution_count": 153,
     "metadata": {},
     "output_type": "execute_result"
    }
   ]
  },
  {
   "cell_type": "markdown",
   "source": [
    "大多数同姓氏的男性存在“同生共死”的特点，因此利用该同组效应，我们对生存率为1的姓氏里的男性数据进行修正，提升其预测为“可以幸存”的概率。"
   ],
   "metadata": {}
  },
  {
   "cell_type": "code",
   "source": [
    "#获得生存率为1的姓氏\n",
    "MSurNamDict={}\n",
    "MSurNamDict=MSurNamDf[MSurNamDf.values==1].index\n",
    "MSurNamDict"
   ],
   "metadata": {
    "execution": {
     "iopub.status.busy": "2022-07-08T08:15:53.334168Z",
     "iopub.execute_input": "2022-07-08T08:15:53.334478Z",
     "iopub.status.idle": "2022-07-08T08:15:53.342318Z",
     "shell.execute_reply.started": "2022-07-08T08:15:53.334450Z",
     "shell.execute_reply": "2022-07-08T08:15:53.341204Z"
    },
    "trusted": true
   },
   "execution_count": 154,
   "outputs": [
    {
     "data": {
      "text/plain": "Index(['Beane', 'Beckwith', 'Bishop', 'Cardeza', 'Chambers', 'Dick',\n       'Duff Gordon', 'Frauenthal', 'Frolicher-Stehli', 'Goldenberg',\n       'Greenfield', 'Harder', 'Hoyt', 'Kimball', 'Lindqvist', 'McCoy',\n       'Nakid', 'Persson', 'Taylor'],\n      dtype='object', name='Surname')"
     },
     "execution_count": 154,
     "metadata": {},
     "output_type": "execute_result"
    }
   ]
  },
  {
   "cell_type": "code",
   "source": [
    "#分析女性及儿童同组效应\n",
    "FCSurNamDf=FemChildDf['Survived'].groupby(FemChildDf['Surname']).mean()\n",
    "FCSurNamDf.head()\n",
    "FCSurNamDf.value_counts()"
   ],
   "metadata": {
    "execution": {
     "iopub.status.busy": "2022-07-08T08:15:53.344175Z",
     "iopub.execute_input": "2022-07-08T08:15:53.344903Z",
     "iopub.status.idle": "2022-07-08T08:15:53.361487Z",
     "shell.execute_reply.started": "2022-07-08T08:15:53.344857Z",
     "shell.execute_reply": "2022-07-08T08:15:53.360695Z"
    },
    "trusted": true
   },
   "execution_count": 155,
   "outputs": [
    {
     "data": {
      "text/plain": "1.000000    115\n0.000000     27\n0.750000      2\n0.333333      1\n0.142857      1\nName: Survived, dtype: int64"
     },
     "execution_count": 155,
     "metadata": {},
     "output_type": "execute_result"
    }
   ]
  },
  {
   "cell_type": "markdown",
   "source": [
    "与男性组特征相似，女性及儿童也存在明显的“同生共死”的特点，因此利用同组效应，对生存率为0的姓氏里的女性及儿童数据进行修正，提升其预测为“并未幸存”的概率。"
   ],
   "metadata": {}
  },
  {
   "cell_type": "code",
   "source": [
    "#获得生存率为0的姓氏\n",
    "FCSurNamDict={}\n",
    "FCSurNamDict=FCSurNamDf[FCSurNamDf.values==0].index\n",
    "FCSurNamDict"
   ],
   "metadata": {
    "execution": {
     "iopub.status.busy": "2022-07-08T08:15:53.362954Z",
     "iopub.execute_input": "2022-07-08T08:15:53.363956Z",
     "iopub.status.idle": "2022-07-08T08:15:53.371530Z",
     "shell.execute_reply.started": "2022-07-08T08:15:53.363919Z",
     "shell.execute_reply": "2022-07-08T08:15:53.370643Z"
    },
    "trusted": true
   },
   "execution_count": 156,
   "outputs": [
    {
     "data": {
      "text/plain": "Index(['Ahlin', 'Arnold-Franchi', 'Barbara', 'Boulos', 'Bourke', 'Caram',\n       'Danbom', 'Ford', 'Goodwin', 'Ilmakangas', 'Johnston', 'Jussila',\n       'Lahtinen', 'Lefebre', 'Lobb', 'Palsson', 'Panula', 'Rice', 'Robins',\n       'Rosblom', 'Sage', 'Skoog', 'Strom', 'Turpin', 'Van Impe',\n       'Vander Planke', 'Zabour'],\n      dtype='object', name='Surname')"
     },
     "execution_count": 156,
     "metadata": {},
     "output_type": "execute_result"
    }
   ]
  },
  {
   "cell_type": "markdown",
   "source": [
    "对数据集中这些姓氏的两组数据数据分别进行修正：\n",
    "\n",
    "男性数据修正为：1、性别改为女；2、年龄改为5；\n",
    "\n",
    "女性及儿童数据修正为：1、性别改为男；2、年龄改为60。"
   ],
   "metadata": {}
  },
  {
   "cell_type": "code",
   "source": [
    "#对数据集中这些姓氏的男性数据进行修正：1、性别改为女；2、年龄改为5。\n",
    "full.loc[(full['Survived'].isnull())&(full['Surname'].isin(MSurNamDict))&(full['Sex']=='male'),'Age']=5\n",
    "full.loc[(full['Survived'].isnull())&(full['Surname'].isin(MSurNamDict))&(full['Sex']=='male'),'Sex']='female'\n",
    "\n",
    "#对数据集中这些姓氏的女性及儿童的数据进行修正：1、性别改为男；2、年龄改为60。\n",
    "full.loc[(full['Survived'].isnull())&(full['Surname'].isin(FCSurNamDict))&((full['Sex']=='female')|(full['Age']<=12)),'Age']=60\n",
    "full.loc[(full['Survived'].isnull())&(full['Surname'].isin(FCSurNamDict))&((full['Sex']=='female')|(full['Age']<=12)),'Sex']='male'"
   ],
   "metadata": {
    "execution": {
     "iopub.status.busy": "2022-07-08T08:15:53.372917Z",
     "iopub.execute_input": "2022-07-08T08:15:53.373872Z",
     "iopub.status.idle": "2022-07-08T08:15:53.391976Z",
     "shell.execute_reply.started": "2022-07-08T08:15:53.373839Z",
     "shell.execute_reply": "2022-07-08T08:15:53.390802Z"
    },
    "trusted": true
   },
   "execution_count": 157,
   "outputs": []
  },
  {
   "cell_type": "markdown",
   "source": [
    "在对数据进行分析处理的过程中，数据的维度更高了，为提升数据有效性需要对数据进行降维处理。通过找出与乘客生存率“Survived”相关性更高的特征，剔除重复的且相关性较低的特征，从而实现数据降维。"
   ],
   "metadata": {}
  },
  {
   "cell_type": "code",
   "source": [
    "#人工筛选\n",
    "fullSel=full.drop(['Cabin','Name','Ticket','PassengerId','Surname','SurnameNum'],axis=1)\n",
    "#查看各特征与标签的相关性\n",
    "corrDf=pd.DataFrame()\n",
    "corrDf=fullSel.corr()\n",
    "corrDf['Survived'].sort_values(ascending=True)"
   ],
   "metadata": {
    "execution": {
     "iopub.status.busy": "2022-07-08T08:15:53.393659Z",
     "iopub.execute_input": "2022-07-08T08:15:53.394357Z",
     "iopub.status.idle": "2022-07-08T08:15:53.413572Z",
     "shell.execute_reply.started": "2022-07-08T08:15:53.394311Z",
     "shell.execute_reply": "2022-07-08T08:15:53.412488Z"
    },
    "trusted": true
   },
   "execution_count": 158,
   "outputs": [
    {
     "data": {
      "text/plain": "Pclass       -0.338481\nTickGroup    -0.319278\nAge          -0.059353\nSibSp        -0.035322\nfamilyNum     0.016639\nTickCot       0.064962\nParch         0.081629\nfamilySize    0.108631\nFare          0.331805\nSurvived      1.000000\nName: Survived, dtype: float64"
     },
     "execution_count": 158,
     "metadata": {},
     "output_type": "execute_result"
    }
   ]
  },
  {
   "cell_type": "markdown",
   "source": [
    "通过热力图，查看Survived与其他特征间相关性大小。"
   ],
   "metadata": {}
  },
  {
   "cell_type": "code",
   "source": [
    "#热力图，查看Survived与其他特征间相关性大小\n",
    "plt.figure(figsize=(8,8))\n",
    "sns.heatmap(fullSel[['Survived','Age','Embarked','Fare','Parch','Pclass',\n",
    "                    'Sex','SibSp','Title','familyNum','familySize','Deck',\n",
    "                     'TickCot','TickGroup']].corr(),cmap='BrBG',annot=True,\n",
    "           linewidths=.5)\n",
    "plt.xticks(rotation=45)"
   ],
   "metadata": {
    "execution": {
     "iopub.status.busy": "2022-07-08T08:15:53.415653Z",
     "iopub.execute_input": "2022-07-08T08:15:53.416748Z",
     "iopub.status.idle": "2022-07-08T08:15:54.154596Z",
     "shell.execute_reply.started": "2022-07-08T08:15:53.416703Z",
     "shell.execute_reply": "2022-07-08T08:15:54.153380Z"
    },
    "trusted": true
   },
   "execution_count": 159,
   "outputs": [
    {
     "data": {
      "text/plain": "(array([0.5, 1.5, 2.5, 3.5, 4.5, 5.5, 6.5, 7.5, 8.5, 9.5]),\n <a list of 10 Text xticklabel objects>)"
     },
     "execution_count": 159,
     "metadata": {},
     "output_type": "execute_result"
    },
    {
     "data": {
      "text/plain": "<Figure size 576x576 with 2 Axes>",
      "image/png": "[encoded data removed]"
     },
     "metadata": {},
     "output_type": "display_data"
    }
   ]
  },
  {
   "cell_type": "markdown",
   "source": [
    "先人工初步筛除与标签预测明显不相关或相关度很低的特征，再查看剩余特征与标签之间的相关性大小做进一步降维。"
   ],
   "metadata": {}
  },
  {
   "cell_type": "code",
   "source": [
    "fullSel=fullSel.drop(['familyNum','SibSp','TickCot','Parch'],axis=1)\n",
    "#one-hot编码\n",
    "fullSel=pd.get_dummies(fullSel)\n",
    "PclassDf=pd.get_dummies(full['Pclass'],prefix='Pclass')\n",
    "TickGroupDf=pd.get_dummies(full['TickGroup'],prefix='TickGroup')\n",
    "familySizeDf=pd.get_dummies(full['familySize'],prefix='familySize')\n",
    "\n",
    "fullSel=pd.concat([fullSel,PclassDf,TickGroupDf,familySizeDf],axis=1)"
   ],
   "metadata": {
    "execution": {
     "iopub.status.busy": "2022-07-08T08:15:54.156072Z",
     "iopub.execute_input": "2022-07-08T08:15:54.156511Z",
     "iopub.status.idle": "2022-07-08T08:15:54.176584Z",
     "shell.execute_reply.started": "2022-07-08T08:15:54.156474Z",
     "shell.execute_reply": "2022-07-08T08:15:54.175426Z"
    },
    "trusted": true
   },
   "execution_count": 160,
   "outputs": []
  },
  {
   "cell_type": "code",
   "source": [
    "#拆分实验数据与预测数据\n",
    "experData=fullSel[fullSel['Survived'].notnull()]\n",
    "preData=fullSel[fullSel['Survived'].isnull()]\n",
    "\n",
    "experData_X=experData.drop('Survived',axis=1)\n",
    "experData_y=experData['Survived']\n",
    "preData_X=preData.drop('Survived',axis=1)\n",
    "\n",
    "#导入机器学习算法库\n",
    "from sklearn.ensemble import RandomForestClassifier,GradientBoostingClassifier,ExtraTreesClassifier\n",
    "from sklearn.discriminant_analysis import LinearDiscriminantAnalysis\n",
    "from sklearn.linear_model import LogisticRegression\n",
    "from sklearn.neighbors import KNeighborsClassifier\n",
    "from sklearn.tree import DecisionTreeClassifier\n",
    "from sklearn.svm import SVC\n",
    "from sklearn.model_selection import GridSearchCV,cross_val_score,StratifiedKFold\n",
    "\n",
    "#设置kfold，交叉采样法拆分数据集\n",
    "kfold=StratifiedKFold(n_splits=10)\n",
    "\n",
    "#汇总不同模型算法\n",
    "classifiers=[]\n",
    "classifiers.append(SVC())\n",
    "classifiers.append(DecisionTreeClassifier())\n",
    "classifiers.append(RandomForestClassifier())\n",
    "classifiers.append(ExtraTreesClassifier())\n",
    "classifiers.append(GradientBoostingClassifier())\n",
    "classifiers.append(KNeighborsClassifier())\n",
    "classifiers.append(LogisticRegression())\n",
    "classifiers.append(LinearDiscriminantAnalysis())"
   ],
   "metadata": {
    "execution": {
     "iopub.status.busy": "2022-07-08T08:15:54.178313Z",
     "iopub.execute_input": "2022-07-08T08:15:54.179379Z",
     "iopub.status.idle": "2022-07-08T08:15:54.206315Z",
     "shell.execute_reply.started": "2022-07-08T08:15:54.179340Z",
     "shell.execute_reply": "2022-07-08T08:15:54.205046Z"
    },
    "trusted": true
   },
   "execution_count": 161,
   "outputs": []
  },
  {
   "cell_type": "markdown",
   "source": [
    "比较各种算法结果，进一步选择模型"
   ],
   "metadata": {}
  },
  {
   "cell_type": "code",
   "source": [
    "#不同机器学习交叉验证结果汇总\n",
    "cv_results=[]\n",
    "for classifier in classifiers:\n",
    "    cv_results.append(cross_val_score(classifier,experData_X,experData_y,\n",
    "                                      scoring='accuracy',cv=kfold,n_jobs=-1))"
   ],
   "metadata": {
    "execution": {
     "iopub.status.busy": "2022-07-08T08:15:54.208847Z",
     "iopub.execute_input": "2022-07-08T08:15:54.209193Z",
     "iopub.status.idle": "2022-07-08T08:15:59.053367Z",
     "shell.execute_reply.started": "2022-07-08T08:15:54.209162Z",
     "shell.execute_reply": "2022-07-08T08:15:59.052328Z"
    },
    "trusted": true
   },
   "execution_count": 162,
   "outputs": []
  },
  {
   "cell_type": "markdown",
   "source": [
    "求出模型得分的均值和标准差"
   ],
   "metadata": {}
  },
  {
   "cell_type": "code",
   "source": [
    "#求出模型得分的均值和标准差\n",
    "cv_means=[]\n",
    "cv_std=[]\n",
    "for cv_result in cv_results:\n",
    "    cv_means.append(cv_result.mean())\n",
    "    cv_std.append(cv_result.std())\n",
    "    \n",
    "#汇总数据\n",
    "cvResDf=pd.DataFrame({'cv_mean':cv_means,\n",
    "                     'cv_std':cv_std,\n",
    "                     'algorithm':['SVC','DecisionTreeCla','RandomForestCla','ExtraTreesCla',\n",
    "                                  'GradientBoostingCla','KNN','LR','LinearDiscrimiAna']})\n",
    "\n",
    "cvResDf"
   ],
   "metadata": {
    "execution": {
     "iopub.status.busy": "2022-07-08T08:15:59.054713Z",
     "iopub.execute_input": "2022-07-08T08:15:59.055033Z",
     "iopub.status.idle": "2022-07-08T08:15:59.071829Z",
     "shell.execute_reply.started": "2022-07-08T08:15:59.055002Z",
     "shell.execute_reply": "2022-07-08T08:15:59.070937Z"
    },
    "trusted": true
   },
   "execution_count": 163,
   "outputs": [
    {
     "data": {
      "text/plain": "    cv_mean    cv_std            algorithm\n0  0.829410  0.040698                  SVC\n1  0.786850  0.045750      DecisionTreeCla\n2  0.812555  0.043477      RandomForestCla\n3  0.799135  0.043156        ExtraTreesCla\n4  0.839534  0.039110  GradientBoostingCla\n5  0.798085  0.040520                  KNN\n6  0.828298  0.029173                   LR\n7  0.823841  0.027174    LinearDiscrimiAna",
      "text/html": "<div>\n<style scoped>\n    .dataframe tbody tr th:only-of-type {\n        vertical-align: middle;\n    }\n\n    .dataframe tbody tr th {\n        vertical-align: top;\n    }\n\n    .dataframe thead th {\n        text-align: right;\n    }\n</style>\n<table border=\"1\" class=\"dataframe\">\n  <thead>\n    <tr style=\"text-align: right;\">\n      <th></th>\n      <th>cv_mean</th>\n      <th>cv_std</th>\n      <th>algorithm</th>\n    </tr>\n  </thead>\n  <tbody>\n    <tr>\n      <th>0</th>\n      <td>0.829410</td>\n      <td>0.040698</td>\n      <td>SVC</td>\n    </tr>\n    <tr>\n      <th>1</th>\n      <td>0.786850</td>\n      <td>0.045750</td>\n      <td>DecisionTreeCla</td>\n    </tr>\n    <tr>\n      <th>2</th>\n      <td>0.812555</td>\n      <td>0.043477</td>\n      <td>RandomForestCla</td>\n    </tr>\n    <tr>\n      <th>3</th>\n      <td>0.799135</td>\n      <td>0.043156</td>\n      <td>ExtraTreesCla</td>\n    </tr>\n    <tr>\n      <th>4</th>\n      <td>0.839534</td>\n      <td>0.039110</td>\n      <td>GradientBoostingCla</td>\n    </tr>\n    <tr>\n      <th>5</th>\n      <td>0.798085</td>\n      <td>0.040520</td>\n      <td>KNN</td>\n    </tr>\n    <tr>\n      <th>6</th>\n      <td>0.828298</td>\n      <td>0.029173</td>\n      <td>LR</td>\n    </tr>\n    <tr>\n      <th>7</th>\n      <td>0.823841</td>\n      <td>0.027174</td>\n      <td>LinearDiscrimiAna</td>\n    </tr>\n  </tbody>\n</table>\n</div>"
     },
     "execution_count": 163,
     "metadata": {},
     "output_type": "execute_result"
    }
   ]
  },
  {
   "cell_type": "markdown",
   "source": [
    "可视化查看不同算法的表现情况"
   ],
   "metadata": {}
  },
  {
   "cell_type": "code",
   "source": [
    "# sns.barplot(data=cvResDf,x='cv_mean',y='algorithm',**{'xerr':cv_std})\n",
    "\n",
    "cvResFacet=sns.FacetGrid(cvResDf.sort_values(by='cv_mean',ascending=False),sharex=False,\n",
    "            sharey=False,aspect=2)\n",
    "cvResFacet.map(sns.barplot,'cv_mean','algorithm',**{'xerr':cv_std},\n",
    "               palette='muted')\n",
    "cvResFacet.set(xlim=(0.7,0.9))\n",
    "cvResFacet.add_legend()"
   ],
   "metadata": {
    "execution": {
     "iopub.status.busy": "2022-07-08T08:15:59.073221Z",
     "iopub.execute_input": "2022-07-08T08:15:59.073815Z",
     "iopub.status.idle": "2022-07-08T08:15:59.560542Z",
     "shell.execute_reply.started": "2022-07-08T08:15:59.073782Z",
     "shell.execute_reply": "2022-07-08T08:15:59.559085Z"
    },
    "trusted": true
   },
   "execution_count": 164,
   "outputs": [
    {
     "data": {
      "text/plain": "<seaborn.axisgrid.FacetGrid at 0x26229896be0>"
     },
     "execution_count": 164,
     "metadata": {},
     "output_type": "execute_result"
    },
    {
     "data": {
      "text/plain": "<Figure size 440.8x216 with 1 Axes>",
      "image/png": "[encoded data removed]"
     },
     "metadata": {},
     "output_type": "display_data"
    }
   ]
  },
  {
   "cell_type": "markdown",
   "source": [
    "综合以上模型表现，考虑选择GradientBoostingCla、LR、RandomForestCla三种模型进一步对比。\n",
    "\n",
    "分别建立GradientBoostingClassifier,LogisticRegression以及RandomForestClassifier模型，并进行模型调优。"
   ],
   "metadata": {}
  },
  {
   "cell_type": "code",
   "source": [
    "#GradientBoostingClassifier模型\n",
    "GBC = GradientBoostingClassifier()\n",
    "gb_param_grid = {'loss' : [\"deviance\"],\n",
    "              'n_estimators' : [100,200,300],\n",
    "              'learning_rate': [0.1, 0.05, 0.01],\n",
    "              'max_depth': [4, 8],\n",
    "              'min_samples_leaf': [100,150],\n",
    "              'max_features': [0.3, 0.1]\n",
    "              }\n",
    "modelgsGBC = GridSearchCV(GBC,param_grid = gb_param_grid, cv=kfold, \n",
    "                                     scoring=\"accuracy\", n_jobs= -1, verbose = 1)\n",
    "modelgsGBC.fit(experData_X,experData_y)\n",
    "print(modelgsGBC.best_params_,modelgsGBC.best_score_)"
   ],
   "metadata": {
    "execution": {
     "iopub.status.busy": "2022-07-08T08:15:59.562279Z",
     "iopub.execute_input": "2022-07-08T08:15:59.563022Z",
     "iopub.status.idle": "2022-07-08T08:16:45.981277Z",
     "shell.execute_reply.started": "2022-07-08T08:15:59.562983Z",
     "shell.execute_reply": "2022-07-08T08:16:45.980068Z"
    },
    "trusted": true
   },
   "execution_count": 165,
   "outputs": [
    {
     "name": "stdout",
     "output_type": "stream",
     "text": [
      "Fitting 10 folds for each of 72 candidates, totalling 720 fits\n"
     ]
    },
    {
     "name": "stderr",
     "output_type": "stream",
     "text": [
      "[Parallel(n_jobs=-1)]: Done  18 tasks      | elapsed:    6.3s\n",
      "[Parallel(n_jobs=-1)]: Done 168 tasks      | elapsed:    7.8s\n",
      "[Parallel(n_jobs=-1)]: Done 418 tasks      | elapsed:   10.1s\n",
      "[Parallel(n_jobs=-1)]: Done 720 out of 720 | elapsed:   12.8s finished\n"
     ]
    },
    {
     "name": "stdout",
     "output_type": "stream",
     "text": [
      "{'learning_rate': 0.1, 'loss': 'deviance', 'max_depth': 4, 'max_features': 0.3, 'min_samples_leaf': 150, 'n_estimators': 300} 0.8428731762065096\n"
     ]
    }
   ]
  },
  {
   "cell_type": "code",
   "execution_count": 166,
   "outputs": [
    {
     "name": "stdout",
     "output_type": "stream",
     "text": [
      "Fitting 10 folds for each of 6 candidates, totalling 60 fits\n"
     ]
    },
    {
     "name": "stderr",
     "output_type": "stream",
     "text": [
      "[Parallel(n_jobs=-1)]: Done  18 tasks      | elapsed:    6.0s\n",
      "[Parallel(n_jobs=-1)]: Done  60 out of  60 | elapsed:    6.1s finished\n"
     ]
    },
    {
     "name": "stdout",
     "output_type": "stream",
     "text": [
      "{'C': 1, 'penalty': 'l1'} 0.8316498316498316\n"
     ]
    }
   ],
   "source": [
    "#LogisticRegression模型\n",
    "LR=LogisticRegression()\n",
    "LR_param_grid = {'C' : [1,2,3],\n",
    "                'penalty':['l1','l2']}\n",
    "modelgsLR = GridSearchCV(LR,param_grid = LR_param_grid, cv=kfold,\n",
    "                                     scoring=\"accuracy\", n_jobs= -1, verbose = 1)\n",
    "modelgsLR.fit(experData_X,experData_y)\n",
    "print(modelgsLR.best_params_,modelgsLR.best_score_)"
   ],
   "metadata": {
    "collapsed": false,
    "pycharm": {
     "name": "#%%\n"
    }
   }
  },
  {
   "cell_type": "code",
   "execution_count": 167,
   "outputs": [
    {
     "name": "stdout",
     "output_type": "stream",
     "text": [
      "Fitting 10 folds for each of 180 candidates, totalling 1800 fits\n"
     ]
    },
    {
     "name": "stderr",
     "output_type": "stream",
     "text": [
      "[Parallel(n_jobs=-1)]: Done  18 tasks      | elapsed:    6.0s\n",
      "[Parallel(n_jobs=-1)]: Done 335 tasks      | elapsed:    7.3s\n",
      "[Parallel(n_jobs=-1)]: Done 1335 tasks      | elapsed:   11.7s\n",
      "[Parallel(n_jobs=-1)]: Done 1800 out of 1800 | elapsed:   14.1s finished\n"
     ]
    },
    {
     "name": "stdout",
     "output_type": "stream",
     "text": [
      "{'max_depth': 7, 'n_estimators': 22} 0.8383838383838383\n"
     ]
    }
   ],
   "source": [
    "RFC=RandomForestClassifier(max_features ='sqrt',\n",
    "                  random_state=10,warm_start=True)\n",
    "RFC_param_grid = {'n_estimators':list(range(20,40,1)),\n",
    "                'max_depth':list(range(3,20,2))\n",
    "                  }\n",
    "modelRFC = GridSearchCV(RFC,param_grid =RFC_param_grid, cv=kfold,\n",
    "                                     scoring=\"accuracy\", n_jobs= -1, verbose = 1)\n",
    "modelRFC.fit(experData_X,experData_y)\n",
    "print(modelRFC.best_params_,modelRFC.best_score_)"
   ],
   "metadata": {
    "collapsed": false,
    "pycharm": {
     "name": "#%%RandomForestClassifier模型\n"
    }
   }
  },
  {
   "cell_type": "code",
   "execution_count": 178,
   "outputs": [
    {
     "data": {
      "text/plain": "VotingClassifier(estimators=[('gbc', GradientBoostingClassifier(criterion='friedman_mse', init=None,\n              learning_rate=0.1, loss='deviance', max_depth=4,\n              max_features=0.3, max_leaf_nodes=None,\n              min_impurity_decrease=0.0, min_impurity_split=None,\n              min_samples_leaf=150...estimators=22, n_jobs=1,\n            oob_score=False, random_state=10, verbose=0, warm_start=True))],\n         flatten_transform=None, n_jobs=1, voting='soft', weights=None)"
     },
     "execution_count": 178,
     "metadata": {},
     "output_type": "execute_result"
    }
   ],
   "source": [
    "from sklearn.ensemble import VotingClassifier\n",
    "GBC1=GradientBoostingClassifier(learning_rate= 0.1, loss='deviance', max_depth=4, max_features=0.3, min_samples_leaf=150, n_estimators=300)\n",
    "LR1=LogisticRegression(C=1, penalty='l1')\n",
    "RFC1=RandomForestClassifier(max_depth=7, n_estimators=22,max_features ='sqrt',\n",
    "                  random_state=10,warm_start=True)\n",
    "eclf1 = VotingClassifier(estimators=[('gbc', GBC1), ('lr', LR1), ('rfc', RFC1)], voting='soft')\n",
    "eclf1.fit(experData_X,experData_y)"
   ],
   "metadata": {
    "collapsed": false,
    "pycharm": {
     "name": "#%%混合模型\n"
    }
   }
  },
  {
   "cell_type": "markdown",
   "source": [
    "查看模型准确度"
   ],
   "metadata": {}
  },
  {
   "cell_type": "code",
   "source": [
    "#modelgsGBC模型\n",
    "print('modelgsGBC模型得分为：%.3f'%modelgsGBC.best_score_)\n",
    "#modelgsLR模型\n",
    "print('modelgsLR模型得分为：%.3f'%modelgsLR.best_score_)\n",
    "#modelRFC模型\n",
    "print('modelRFC模型得分为：%.3f'%modelRFC.best_score_)\n",
    "#混合模型\n",
    "print('混合模型得分为：%.3f'%eclf1.score(experData_X,experData_y))"
   ],
   "metadata": {
    "execution": {
     "iopub.status.busy": "2022-07-08T08:16:45.983614Z",
     "iopub.execute_input": "2022-07-08T08:16:45.984745Z",
     "iopub.status.idle": "2022-07-08T08:16:45.993710Z",
     "shell.execute_reply.started": "2022-07-08T08:16:45.984671Z",
     "shell.execute_reply": "2022-07-08T08:16:45.992290Z"
    },
    "trusted": true
   },
   "execution_count": 179,
   "outputs": [
    {
     "name": "stdout",
     "output_type": "stream",
     "text": [
      "modelgsGBC模型得分为：0.843\n",
      "modelgsLR模型得分为：0.832\n",
      "modelRFC模型得分为：0.838\n",
      "混合模型得分为：0.860\n"
     ]
    }
   ]
  },
  {
   "cell_type": "markdown",
   "source": [
    "利用模型进行预测，并按规则导出预测结果。"
   ],
   "metadata": {}
  },
  {
   "cell_type": "code",
   "source": [
    "#TitanicRFCmodle\n",
    "preData_y=eclf1.predict(preData_X)\n",
    "preData_y=preData_y.astype(int)\n",
    "#导出预测结果\n",
    "preResultDf=pd.DataFrame()\n",
    "preResultDf['PassengerId']=full['PassengerId'][full['Survived'].isnull()]\n",
    "preResultDf['Survived']=preData_y\n",
    "preResultDf\n",
    "#将预测结果导出为csv文件\n",
    "preResultDf.to_csv('submission.csv',index=False)"
   ],
   "metadata": {
    "execution": {
     "iopub.status.busy": "2022-07-08T08:16:45.996066Z",
     "iopub.execute_input": "2022-07-08T08:16:45.997239Z",
     "iopub.status.idle": "2022-07-08T08:16:46.032976Z",
     "shell.execute_reply.started": "2022-07-08T08:16:45.997182Z",
     "shell.execute_reply": "2022-07-08T08:16:46.031528Z"
    },
    "trusted": true
   },
   "execution_count": 180,
   "outputs": []
  }
 ]
}