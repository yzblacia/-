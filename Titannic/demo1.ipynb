{
 "metadata": {
  "kernelspec": {
   "language": "python",
   "display_name": "Python 3",
   "name": "python3"
  },
  "language_info": {
   "name": "python",
   "version": "3.7.12",
   "mimetype": "text/x-python",
   "codemirror_mode": {
    "name": "ipython",
    "version": 3
   },
   "pygments_lexer": "ipython3",
   "nbconvert_exporter": "python",
   "file_extension": ".py"
  }
 },
 "nbformat_minor": 4,
 "nbformat": 4,
 "cells": [
  {
   "cell_type": "code",
   "source": [
    "import pandas as pd\n",
    "import numpy as np\n",
    "np.seterr(divide='ignore',invalid='ignore')\n",
    "import matplotlib.pyplot as plt\n",
    "import seaborn as sns\n",
    "import warnings\n",
    "warnings.filterwarnings(\"ignore\")"
   ],
   "metadata": {
    "_uuid": "8f2839f25d086af736a60e9eeb907d3b93b6e0e5",
    "_cell_guid": "b1076dfc-b9ad-4769-8c92-a6c4dae69d19",
    "execution": {
     "iopub.status.busy": "2022-07-07T11:03:36.725881Z",
     "iopub.execute_input": "2022-07-07T11:03:36.726925Z",
     "iopub.status.idle": "2022-07-07T11:03:36.733526Z",
     "shell.execute_reply.started": "2022-07-07T11:03:36.726889Z",
     "shell.execute_reply": "2022-07-07T11:03:36.732545Z"
    },
    "trusted": true
   },
   "execution_count": 3,
   "outputs": []
  },
  {
   "cell_type": "code",
   "source": [
    "train_data = pd.read_csv('train.csv')\n",
    "train_data.head()"
   ],
   "metadata": {
    "execution": {
     "iopub.status.busy": "2022-07-07T11:03:36.735420Z",
     "iopub.execute_input": "2022-07-07T11:03:36.736238Z",
     "iopub.status.idle": "2022-07-07T11:03:36.780578Z",
     "shell.execute_reply.started": "2022-07-07T11:03:36.736206Z",
     "shell.execute_reply": "2022-07-07T11:03:36.779781Z"
    },
    "trusted": true
   },
   "execution_count": 4,
   "outputs": [
    {
     "data": {
      "text/plain": "   PassengerId  Survived  Pclass  \\\n0            1         0       3   \n1            2         1       1   \n2            3         1       3   \n3            4         1       1   \n4            5         0       3   \n\n                                                Name     Sex   Age  SibSp  \\\n0                            Braund, Mr. Owen Harris    male  22.0      1   \n1  Cumings, Mrs. John Bradley (Florence Briggs Th...  female  38.0      1   \n2                             Heikkinen, Miss. Laina  female  26.0      0   \n3       Futrelle, Mrs. Jacques Heath (Lily May Peel)  female  35.0      1   \n4                           Allen, Mr. William Henry    male  35.0      0   \n\n   Parch            Ticket     Fare Cabin Embarked  \n0      0         A/5 21171   7.2500   NaN        S  \n1      0          PC 17599  71.2833   C85        C  \n2      0  STON/O2. 3101282   7.9250   NaN        S  \n3      0            113803  53.1000  C123        S  \n4      0            373450   8.0500   NaN        S  ",
      "text/html": "<div>\n<style scoped>\n    .dataframe tbody tr th:only-of-type {\n        vertical-align: middle;\n    }\n\n    .dataframe tbody tr th {\n        vertical-align: top;\n    }\n\n    .dataframe thead th {\n        text-align: right;\n    }\n</style>\n<table border=\"1\" class=\"dataframe\">\n  <thead>\n    <tr style=\"text-align: right;\">\n      <th></th>\n      <th>PassengerId</th>\n      <th>Survived</th>\n      <th>Pclass</th>\n      <th>Name</th>\n      <th>Sex</th>\n      <th>Age</th>\n      <th>SibSp</th>\n      <th>Parch</th>\n      <th>Ticket</th>\n      <th>Fare</th>\n      <th>Cabin</th>\n      <th>Embarked</th>\n    </tr>\n  </thead>\n  <tbody>\n    <tr>\n      <th>0</th>\n      <td>1</td>\n      <td>0</td>\n      <td>3</td>\n      <td>Braund, Mr. Owen Harris</td>\n      <td>male</td>\n      <td>22.0</td>\n      <td>1</td>\n      <td>0</td>\n      <td>A/5 21171</td>\n      <td>7.2500</td>\n      <td>NaN</td>\n      <td>S</td>\n    </tr>\n    <tr>\n      <th>1</th>\n      <td>2</td>\n      <td>1</td>\n      <td>1</td>\n      <td>Cumings, Mrs. John Bradley (Florence Briggs Th...</td>\n      <td>female</td>\n      <td>38.0</td>\n      <td>1</td>\n      <td>0</td>\n      <td>PC 17599</td>\n      <td>71.2833</td>\n      <td>C85</td>\n      <td>C</td>\n    </tr>\n    <tr>\n      <th>2</th>\n      <td>3</td>\n      <td>1</td>\n      <td>3</td>\n      <td>Heikkinen, Miss. Laina</td>\n      <td>female</td>\n      <td>26.0</td>\n      <td>0</td>\n      <td>0</td>\n      <td>STON/O2. 3101282</td>\n      <td>7.9250</td>\n      <td>NaN</td>\n      <td>S</td>\n    </tr>\n    <tr>\n      <th>3</th>\n      <td>4</td>\n      <td>1</td>\n      <td>1</td>\n      <td>Futrelle, Mrs. Jacques Heath (Lily May Peel)</td>\n      <td>female</td>\n      <td>35.0</td>\n      <td>1</td>\n      <td>0</td>\n      <td>113803</td>\n      <td>53.1000</td>\n      <td>C123</td>\n      <td>S</td>\n    </tr>\n    <tr>\n      <th>4</th>\n      <td>5</td>\n      <td>0</td>\n      <td>3</td>\n      <td>Allen, Mr. William Henry</td>\n      <td>male</td>\n      <td>35.0</td>\n      <td>0</td>\n      <td>0</td>\n      <td>373450</td>\n      <td>8.0500</td>\n      <td>NaN</td>\n      <td>S</td>\n    </tr>\n  </tbody>\n</table>\n</div>"
     },
     "execution_count": 4,
     "metadata": {},
     "output_type": "execute_result"
    }
   ]
  },
  {
   "cell_type": "markdown",
   "source": [
    "### 训练集特征说明\n",
    "- PassengerID (ID)\n",
    "- Survived (是否存活)\n",
    "- Pclass (客舱等级，重要)\n",
    "- Name (姓名，可结合爬虫)\n",
    "- Sex (性别，重要)\n",
    "- Age (年龄，重要)\n",
    "- SibSp (旁系亲友)\n",
    "- Parch (直系亲属)\n",
    "- Ticket (票编号)\n",
    "- Fare (票价)\n",
    "- Cabin (客舱编号)\n",
    "- Embarked (上船港口编号)"
   ],
   "metadata": {}
  },
  {
   "cell_type": "code",
   "source": [
    "train_data.info()"
   ],
   "metadata": {
    "execution": {
     "iopub.status.busy": "2022-07-07T11:03:36.782191Z",
     "iopub.execute_input": "2022-07-07T11:03:36.783317Z",
     "iopub.status.idle": "2022-07-07T11:03:36.800092Z",
     "shell.execute_reply.started": "2022-07-07T11:03:36.783270Z",
     "shell.execute_reply": "2022-07-07T11:03:36.798886Z"
    },
    "trusted": true
   },
   "execution_count": 5,
   "outputs": [
    {
     "name": "stdout",
     "output_type": "stream",
     "text": [
      "<class 'pandas.core.frame.DataFrame'>\n",
      "RangeIndex: 891 entries, 0 to 890\n",
      "Data columns (total 12 columns):\n",
      "PassengerId    891 non-null int64\n",
      "Survived       891 non-null int64\n",
      "Pclass         891 non-null int64\n",
      "Name           891 non-null object\n",
      "Sex            891 non-null object\n",
      "Age            714 non-null float64\n",
      "SibSp          891 non-null int64\n",
      "Parch          891 non-null int64\n",
      "Ticket         891 non-null object\n",
      "Fare           891 non-null float64\n",
      "Cabin          204 non-null object\n",
      "Embarked       889 non-null object\n",
      "dtypes: float64(2), int64(5), object(5)\n",
      "memory usage: 83.6+ KB\n"
     ]
    }
   ]
  },
  {
   "cell_type": "markdown",
   "source": [
    "可以看到 Age 和 Cabin 和 Embarked都存在空值"
   ],
   "metadata": {}
  },
  {
   "cell_type": "code",
   "source": [
    "test_data = pd.read_csv('test.csv')\n",
    "test_data.head()"
   ],
   "metadata": {
    "execution": {
     "iopub.status.busy": "2022-07-07T11:03:36.801733Z",
     "iopub.execute_input": "2022-07-07T11:03:36.802592Z",
     "iopub.status.idle": "2022-07-07T11:03:36.829567Z",
     "shell.execute_reply.started": "2022-07-07T11:03:36.802544Z",
     "shell.execute_reply": "2022-07-07T11:03:36.828464Z"
    },
    "trusted": true
   },
   "execution_count": 6,
   "outputs": [
    {
     "data": {
      "text/plain": "   PassengerId  Pclass                                          Name     Sex  \\\n0          892       3                              Kelly, Mr. James    male   \n1          893       3              Wilkes, Mrs. James (Ellen Needs)  female   \n2          894       2                     Myles, Mr. Thomas Francis    male   \n3          895       3                              Wirz, Mr. Albert    male   \n4          896       3  Hirvonen, Mrs. Alexander (Helga E Lindqvist)  female   \n\n    Age  SibSp  Parch   Ticket     Fare Cabin Embarked  \n0  34.5      0      0   330911   7.8292   NaN        Q  \n1  47.0      1      0   363272   7.0000   NaN        S  \n2  62.0      0      0   240276   9.6875   NaN        Q  \n3  27.0      0      0   315154   8.6625   NaN        S  \n4  22.0      1      1  3101298  12.2875   NaN        S  ",
      "text/html": "<div>\n<style scoped>\n    .dataframe tbody tr th:only-of-type {\n        vertical-align: middle;\n    }\n\n    .dataframe tbody tr th {\n        vertical-align: top;\n    }\n\n    .dataframe thead th {\n        text-align: right;\n    }\n</style>\n<table border=\"1\" class=\"dataframe\">\n  <thead>\n    <tr style=\"text-align: right;\">\n      <th></th>\n      <th>PassengerId</th>\n      <th>Pclass</th>\n      <th>Name</th>\n      <th>Sex</th>\n      <th>Age</th>\n      <th>SibSp</th>\n      <th>Parch</th>\n      <th>Ticket</th>\n      <th>Fare</th>\n      <th>Cabin</th>\n      <th>Embarked</th>\n    </tr>\n  </thead>\n  <tbody>\n    <tr>\n      <th>0</th>\n      <td>892</td>\n      <td>3</td>\n      <td>Kelly, Mr. James</td>\n      <td>male</td>\n      <td>34.5</td>\n      <td>0</td>\n      <td>0</td>\n      <td>330911</td>\n      <td>7.8292</td>\n      <td>NaN</td>\n      <td>Q</td>\n    </tr>\n    <tr>\n      <th>1</th>\n      <td>893</td>\n      <td>3</td>\n      <td>Wilkes, Mrs. James (Ellen Needs)</td>\n      <td>female</td>\n      <td>47.0</td>\n      <td>1</td>\n      <td>0</td>\n      <td>363272</td>\n      <td>7.0000</td>\n      <td>NaN</td>\n      <td>S</td>\n    </tr>\n    <tr>\n      <th>2</th>\n      <td>894</td>\n      <td>2</td>\n      <td>Myles, Mr. Thomas Francis</td>\n      <td>male</td>\n      <td>62.0</td>\n      <td>0</td>\n      <td>0</td>\n      <td>240276</td>\n      <td>9.6875</td>\n      <td>NaN</td>\n      <td>Q</td>\n    </tr>\n    <tr>\n      <th>3</th>\n      <td>895</td>\n      <td>3</td>\n      <td>Wirz, Mr. Albert</td>\n      <td>male</td>\n      <td>27.0</td>\n      <td>0</td>\n      <td>0</td>\n      <td>315154</td>\n      <td>8.6625</td>\n      <td>NaN</td>\n      <td>S</td>\n    </tr>\n    <tr>\n      <th>4</th>\n      <td>896</td>\n      <td>3</td>\n      <td>Hirvonen, Mrs. Alexander (Helga E Lindqvist)</td>\n      <td>female</td>\n      <td>22.0</td>\n      <td>1</td>\n      <td>1</td>\n      <td>3101298</td>\n      <td>12.2875</td>\n      <td>NaN</td>\n      <td>S</td>\n    </tr>\n  </tbody>\n</table>\n</div>"
     },
     "execution_count": 6,
     "metadata": {},
     "output_type": "execute_result"
    }
   ]
  },
  {
   "cell_type": "code",
   "source": [
    "test_data.info()"
   ],
   "metadata": {
    "execution": {
     "iopub.status.busy": "2022-07-07T11:03:36.832125Z",
     "iopub.execute_input": "2022-07-07T11:03:36.832456Z",
     "iopub.status.idle": "2022-07-07T11:03:36.849790Z",
     "shell.execute_reply.started": "2022-07-07T11:03:36.832426Z",
     "shell.execute_reply": "2022-07-07T11:03:36.848412Z"
    },
    "trusted": true
   },
   "execution_count": 7,
   "outputs": [
    {
     "name": "stdout",
     "output_type": "stream",
     "text": [
      "<class 'pandas.core.frame.DataFrame'>\n",
      "RangeIndex: 418 entries, 0 to 417\n",
      "Data columns (total 11 columns):\n",
      "PassengerId    418 non-null int64\n",
      "Pclass         418 non-null int64\n",
      "Name           418 non-null object\n",
      "Sex            418 non-null object\n",
      "Age            332 non-null float64\n",
      "SibSp          418 non-null int64\n",
      "Parch          418 non-null int64\n",
      "Ticket         418 non-null object\n",
      "Fare           417 non-null float64\n",
      "Cabin          91 non-null object\n",
      "Embarked       418 non-null object\n",
      "dtypes: float64(2), int64(4), object(5)\n",
      "memory usage: 36.0+ KB\n"
     ]
    }
   ]
  },
  {
   "cell_type": "code",
   "source": [
    "all_data = pd.concat([train_data,test_data],ignore_index=True)\n",
    "all_data.info()"
   ],
   "metadata": {
    "execution": {
     "iopub.status.busy": "2022-07-07T11:03:36.851320Z",
     "iopub.execute_input": "2022-07-07T11:03:36.851683Z",
     "iopub.status.idle": "2022-07-07T11:03:36.871936Z",
     "shell.execute_reply.started": "2022-07-07T11:03:36.851650Z",
     "shell.execute_reply": "2022-07-07T11:03:36.870807Z"
    },
    "trusted": true
   },
   "execution_count": 8,
   "outputs": [
    {
     "name": "stdout",
     "output_type": "stream",
     "text": [
      "<class 'pandas.core.frame.DataFrame'>\n",
      "RangeIndex: 1309 entries, 0 to 1308\n",
      "Data columns (total 12 columns):\n",
      "Age            1046 non-null float64\n",
      "Cabin          295 non-null object\n",
      "Embarked       1307 non-null object\n",
      "Fare           1308 non-null float64\n",
      "Name           1309 non-null object\n",
      "Parch          1309 non-null int64\n",
      "PassengerId    1309 non-null int64\n",
      "Pclass         1309 non-null int64\n",
      "Sex            1309 non-null object\n",
      "SibSp          1309 non-null int64\n",
      "Survived       891 non-null float64\n",
      "Ticket         1309 non-null object\n",
      "dtypes: float64(3), int64(4), object(5)\n",
      "memory usage: 122.8+ KB\n"
     ]
    }
   ]
  },
  {
   "cell_type": "markdown",
   "source": [
    "## 数据初步分析"
   ],
   "metadata": {}
  },
  {
   "cell_type": "code",
   "source": [
    "train_data['Survived'].value_counts()"
   ],
   "metadata": {
    "execution": {
     "iopub.status.busy": "2022-07-07T11:03:36.873794Z",
     "iopub.execute_input": "2022-07-07T11:03:36.874518Z",
     "iopub.status.idle": "2022-07-07T11:03:36.885109Z",
     "shell.execute_reply.started": "2022-07-07T11:03:36.874472Z",
     "shell.execute_reply": "2022-07-07T11:03:36.883625Z"
    },
    "trusted": true
   },
   "execution_count": 9,
   "outputs": [
    {
     "data": {
      "text/plain": "0    549\n1    342\nName: Survived, dtype: int64"
     },
     "execution_count": 9,
     "metadata": {},
     "output_type": "execute_result"
    }
   ]
  },
  {
   "cell_type": "code",
   "source": [
    "cdt=train_data['Survived'].value_counts()\n",
    "plt.bar(x=('0','1'),height=cdt/sum(cdt))"
   ],
   "metadata": {
    "execution": {
     "iopub.status.busy": "2022-07-07T11:03:36.887035Z",
     "iopub.execute_input": "2022-07-07T11:03:36.887777Z",
     "iopub.status.idle": "2022-07-07T11:03:37.054816Z",
     "shell.execute_reply.started": "2022-07-07T11:03:36.887728Z",
     "shell.execute_reply": "2022-07-07T11:03:37.053279Z"
    },
    "trusted": true
   },
   "execution_count": 10,
   "outputs": [
    {
     "data": {
      "text/plain": "<BarContainer object of 2 artists>"
     },
     "execution_count": 10,
     "metadata": {},
     "output_type": "execute_result"
    },
    {
     "data": {
      "text/plain": "<Figure size 432x288 with 1 Axes>",
      "image/png": "[encoded data removed]"
     },
     "metadata": {
      "needs_background": "light"
     },
     "output_type": "display_data"
    }
   ]
  },
  {
   "cell_type": "markdown",
   "source": [
    "1. 性别与存活率的关系"
   ],
   "metadata": {}
  },
  {
   "cell_type": "code",
   "source": [
    "sns.barplot(x = 'Sex' , y = 'Survived',data = train_data)"
   ],
   "metadata": {
    "execution": {
     "iopub.status.busy": "2022-07-07T11:03:37.056364Z",
     "iopub.execute_input": "2022-07-07T11:03:37.057176Z",
     "iopub.status.idle": "2022-07-07T11:03:37.302541Z",
     "shell.execute_reply.started": "2022-07-07T11:03:37.057131Z",
     "shell.execute_reply": "2022-07-07T11:03:37.301269Z"
    },
    "trusted": true
   },
   "execution_count": 11,
   "outputs": [
    {
     "data": {
      "text/plain": "<matplotlib.axes._subplots.AxesSubplot at 0x1f9710cee10>"
     },
     "execution_count": 11,
     "metadata": {},
     "output_type": "execute_result"
    },
    {
     "data": {
      "text/plain": "<Figure size 432x288 with 1 Axes>",
      "image/png": "[encoded data removed]"
     },
     "metadata": {
      "needs_background": "light"
     },
     "output_type": "display_data"
    }
   ]
  },
  {
   "cell_type": "markdown",
   "source": [
    "2.客舱等级和存活率关系"
   ],
   "metadata": {}
  },
  {
   "cell_type": "code",
   "source": [
    "sns.barplot(x = 'Pclass' , y = 'Survived' , data = train_data)"
   ],
   "metadata": {
    "execution": {
     "iopub.status.busy": "2022-07-07T11:03:37.306053Z",
     "iopub.execute_input": "2022-07-07T11:03:37.306372Z",
     "iopub.status.idle": "2022-07-07T11:03:37.582591Z",
     "shell.execute_reply.started": "2022-07-07T11:03:37.306344Z",
     "shell.execute_reply": "2022-07-07T11:03:37.581276Z"
    },
    "trusted": true
   },
   "execution_count": 12,
   "outputs": [
    {
     "data": {
      "text/plain": "<matplotlib.axes._subplots.AxesSubplot at 0x1f971139a20>"
     },
     "execution_count": 12,
     "metadata": {},
     "output_type": "execute_result"
    },
    {
     "data": {
      "text/plain": "<Figure size 432x288 with 1 Axes>",
      "image/png": "[encoded data removed]"
     },
     "metadata": {
      "needs_background": "light"
     },
     "output_type": "display_data"
    }
   ]
  },
  {
   "cell_type": "markdown",
   "source": [
    "3. 旁系亲属数量和存活率的关系"
   ],
   "metadata": {}
  },
  {
   "cell_type": "code",
   "source": [
    "sns.barplot(x = 'SibSp' , y = 'Survived' , data = train_data)"
   ],
   "metadata": {
    "execution": {
     "iopub.status.busy": "2022-07-07T11:03:37.584069Z",
     "iopub.execute_input": "2022-07-07T11:03:37.584408Z",
     "iopub.status.idle": "2022-07-07T11:03:38.007629Z",
     "shell.execute_reply.started": "2022-07-07T11:03:37.584377Z",
     "shell.execute_reply": "2022-07-07T11:03:38.006846Z"
    },
    "trusted": true
   },
   "execution_count": 13,
   "outputs": [
    {
     "data": {
      "text/plain": "<matplotlib.axes._subplots.AxesSubplot at 0x1f9711a16d8>"
     },
     "execution_count": 13,
     "metadata": {},
     "output_type": "execute_result"
    },
    {
     "data": {
      "text/plain": "<Figure size 432x288 with 1 Axes>",
      "image/png": "[encoded data removed]"
     },
     "metadata": {
      "needs_background": "light"
     },
     "output_type": "display_data"
    }
   ]
  },
  {
   "cell_type": "markdown",
   "source": [
    "4.直系亲属数量和存活率的关系"
   ],
   "metadata": {}
  },
  {
   "cell_type": "code",
   "source": [
    "sns.barplot(x = 'Parch' , y = 'Survived' , data = train_data)"
   ],
   "metadata": {
    "execution": {
     "iopub.status.busy": "2022-07-07T11:03:38.011408Z",
     "iopub.execute_input": "2022-07-07T11:03:38.012283Z",
     "iopub.status.idle": "2022-07-07T11:03:38.350743Z",
     "shell.execute_reply.started": "2022-07-07T11:03:38.012248Z",
     "shell.execute_reply": "2022-07-07T11:03:38.349625Z"
    },
    "trusted": true
   },
   "execution_count": 14,
   "outputs": [
    {
     "data": {
      "text/plain": "<matplotlib.axes._subplots.AxesSubplot at 0x1f971225d68>"
     },
     "execution_count": 14,
     "metadata": {},
     "output_type": "execute_result"
    },
    {
     "data": {
      "text/plain": "<Figure size 432x288 with 1 Axes>",
      "image/png": "[encoded data removed]"
     },
     "metadata": {
      "needs_background": "light"
     },
     "output_type": "display_data"
    }
   ]
  },
  {
   "cell_type": "markdown",
   "source": [
    "5.从不同的生还情况的密度图看，15岁附近的生还率有明显区别"
   ],
   "metadata": {}
  },
  {
   "cell_type": "code",
   "source": [
    "facet = sns.FacetGrid(train_data , hue = 'Survived' , aspect= 2 )\n",
    "facet.map(sns.kdeplot , 'Age',shade = True)\n",
    "#kdeplot核密度估计\n",
    "facet.set(xlim = (0,train_data['Age'].max()))\n",
    "facet.add_legend()\n",
    "plt.xlabel('Age')\n",
    "plt.ylabel('density')"
   ],
   "metadata": {
    "execution": {
     "iopub.status.busy": "2022-07-07T11:03:38.352853Z",
     "iopub.execute_input": "2022-07-07T11:03:38.353658Z",
     "iopub.status.idle": "2022-07-07T11:03:38.731237Z",
     "shell.execute_reply.started": "2022-07-07T11:03:38.353607Z",
     "shell.execute_reply": "2022-07-07T11:03:38.730350Z"
    },
    "trusted": true
   },
   "execution_count": 15,
   "outputs": [
    {
     "data": {
      "text/plain": "Text(12.3598,0.5,'density')"
     },
     "execution_count": 15,
     "metadata": {},
     "output_type": "execute_result"
    },
    {
     "data": {
      "text/plain": "<Figure size 483.875x216 with 1 Axes>",
      "image/png": "[encoded data removed]"
     },
     "metadata": {
      "needs_background": "light"
     },
     "output_type": "display_data"
    }
   ]
  },
  {
   "cell_type": "markdown",
   "source": [
    "6.上船港口和存活率的关系\n"
   ],
   "metadata": {}
  },
  {
   "cell_type": "code",
   "source": [
    "sns.countplot('Embarked' , hue = 'Survived' , data = train_data)"
   ],
   "metadata": {
    "execution": {
     "iopub.status.busy": "2022-07-07T11:03:38.732460Z",
     "iopub.execute_input": "2022-07-07T11:03:38.733071Z",
     "iopub.status.idle": "2022-07-07T11:03:38.933126Z",
     "shell.execute_reply.started": "2022-07-07T11:03:38.733038Z",
     "shell.execute_reply": "2022-07-07T11:03:38.931951Z"
    },
    "trusted": true
   },
   "execution_count": 16,
   "outputs": [
    {
     "data": {
      "text/plain": "<matplotlib.axes._subplots.AxesSubplot at 0x1f971342a58>"
     },
     "execution_count": 16,
     "metadata": {},
     "output_type": "execute_result"
    },
    {
     "data": {
      "text/plain": "<Figure size 432x288 with 1 Axes>",
      "image/png": "[encoded data removed]"
     },
     "metadata": {
      "needs_background": "light"
     },
     "output_type": "display_data"
    }
   ]
  },
  {
   "cell_type": "markdown",
   "source": [
    "7.不同称呼的乘客幸存率不同(把name中的称呼都提取出来，并且对同个人具有多个称呼标签进行统一）"
   ],
   "metadata": {}
  },
  {
   "cell_type": "code",
   "source": [
    "train_data['Name']"
   ],
   "metadata": {
    "execution": {
     "iopub.status.busy": "2022-07-07T11:03:38.934492Z",
     "iopub.execute_input": "2022-07-07T11:03:38.935352Z",
     "iopub.status.idle": "2022-07-07T11:03:38.944902Z",
     "shell.execute_reply.started": "2022-07-07T11:03:38.935311Z",
     "shell.execute_reply": "2022-07-07T11:03:38.943974Z"
    },
    "trusted": true
   },
   "execution_count": 17,
   "outputs": [
    {
     "data": {
      "text/plain": "0                                Braund, Mr. Owen Harris\n1      Cumings, Mrs. John Bradley (Florence Briggs Th...\n2                                 Heikkinen, Miss. Laina\n3           Futrelle, Mrs. Jacques Heath (Lily May Peel)\n4                               Allen, Mr. William Henry\n5                                       Moran, Mr. James\n6                                McCarthy, Mr. Timothy J\n7                         Palsson, Master. Gosta Leonard\n8      Johnson, Mrs. Oscar W (Elisabeth Vilhelmina Berg)\n9                    Nasser, Mrs. Nicholas (Adele Achem)\n10                       Sandstrom, Miss. Marguerite Rut\n11                              Bonnell, Miss. Elizabeth\n12                        Saundercock, Mr. William Henry\n13                           Andersson, Mr. Anders Johan\n14                  Vestrom, Miss. Hulda Amanda Adolfina\n15                      Hewlett, Mrs. (Mary D Kingcome) \n16                                  Rice, Master. Eugene\n17                          Williams, Mr. Charles Eugene\n18     Vander Planke, Mrs. Julius (Emelia Maria Vande...\n19                               Masselmani, Mrs. Fatima\n20                                  Fynney, Mr. Joseph J\n21                                 Beesley, Mr. Lawrence\n22                           McGowan, Miss. Anna \"Annie\"\n23                          Sloper, Mr. William Thompson\n24                         Palsson, Miss. Torborg Danira\n25     Asplund, Mrs. Carl Oscar (Selma Augusta Emilia...\n26                               Emir, Mr. Farred Chehab\n27                        Fortune, Mr. Charles Alexander\n28                         O'Dwyer, Miss. Ellen \"Nellie\"\n29                                   Todoroff, Mr. Lalio\n                             ...                        \n861                          Giles, Mr. Frederick Edward\n862    Swift, Mrs. Frederick Joel (Margaret Welles Ba...\n863                    Sage, Miss. Dorothy Edith \"Dolly\"\n864                               Gill, Mr. John William\n865                             Bystrom, Mrs. (Karolina)\n866                         Duran y More, Miss. Asuncion\n867                 Roebling, Mr. Washington Augustus II\n868                          van Melkebeke, Mr. Philemon\n869                      Johnson, Master. Harold Theodor\n870                                    Balkic, Mr. Cerin\n871     Beckwith, Mrs. Richard Leonard (Sallie Monypeny)\n872                             Carlsson, Mr. Frans Olof\n873                          Vander Cruyssen, Mr. Victor\n874                Abelson, Mrs. Samuel (Hannah Wizosky)\n875                     Najib, Miss. Adele Kiamie \"Jane\"\n876                        Gustafsson, Mr. Alfred Ossian\n877                                 Petroff, Mr. Nedelio\n878                                   Laleff, Mr. Kristo\n879        Potter, Mrs. Thomas Jr (Lily Alexenia Wilson)\n880         Shelley, Mrs. William (Imanita Parrish Hall)\n881                                   Markun, Mr. Johann\n882                         Dahlberg, Miss. Gerda Ulrika\n883                        Banfield, Mr. Frederick James\n884                               Sutehall, Mr. Henry Jr\n885                 Rice, Mrs. William (Margaret Norton)\n886                                Montvila, Rev. Juozas\n887                         Graham, Miss. Margaret Edith\n888             Johnston, Miss. Catherine Helen \"Carrie\"\n889                                Behr, Mr. Karl Howell\n890                                  Dooley, Mr. Patrick\nName: Name, Length: 891, dtype: object"
     },
     "execution_count": 17,
     "metadata": {},
     "output_type": "execute_result"
    }
   ]
  },
  {
   "cell_type": "code",
   "source": [
    "all_data['Title'] = all_data['Name'].apply(lambda x:x.split(',')[1].split('.')[0].strip())"
   ],
   "metadata": {
    "execution": {
     "iopub.status.busy": "2022-07-07T11:03:38.946218Z",
     "iopub.execute_input": "2022-07-07T11:03:38.946982Z",
     "iopub.status.idle": "2022-07-07T11:03:38.955873Z",
     "shell.execute_reply.started": "2022-07-07T11:03:38.946947Z",
     "shell.execute_reply": "2022-07-07T11:03:38.954479Z"
    },
    "trusted": true
   },
   "execution_count": 18,
   "outputs": []
  },
  {
   "cell_type": "code",
   "source": [
    "all_data['Title'].head()"
   ],
   "metadata": {
    "execution": {
     "iopub.status.busy": "2022-07-07T11:03:38.957646Z",
     "iopub.execute_input": "2022-07-07T11:03:38.958497Z",
     "iopub.status.idle": "2022-07-07T11:03:38.973000Z",
     "shell.execute_reply.started": "2022-07-07T11:03:38.958448Z",
     "shell.execute_reply": "2022-07-07T11:03:38.971729Z"
    },
    "trusted": true
   },
   "execution_count": 19,
   "outputs": [
    {
     "data": {
      "text/plain": "0      Mr\n1     Mrs\n2    Miss\n3     Mrs\n4      Mr\nName: Title, dtype: object"
     },
     "execution_count": 19,
     "metadata": {},
     "output_type": "execute_result"
    }
   ]
  },
  {
   "cell_type": "code",
   "source": [
    "all_data['Title']"
   ],
   "metadata": {
    "execution": {
     "iopub.status.busy": "2022-07-07T11:03:38.974662Z",
     "iopub.execute_input": "2022-07-07T11:03:38.975031Z",
     "iopub.status.idle": "2022-07-07T11:03:38.987632Z",
     "shell.execute_reply.started": "2022-07-07T11:03:38.975000Z",
     "shell.execute_reply": "2022-07-07T11:03:38.986870Z"
    },
    "trusted": true
   },
   "execution_count": 20,
   "outputs": [
    {
     "data": {
      "text/plain": "0           Mr\n1          Mrs\n2         Miss\n3          Mrs\n4           Mr\n5           Mr\n6           Mr\n7       Master\n8          Mrs\n9          Mrs\n10        Miss\n11        Miss\n12          Mr\n13          Mr\n14        Miss\n15         Mrs\n16      Master\n17          Mr\n18         Mrs\n19         Mrs\n20          Mr\n21          Mr\n22        Miss\n23          Mr\n24        Miss\n25         Mrs\n26          Mr\n27          Mr\n28        Miss\n29          Mr\n         ...  \n1279        Mr\n1280    Master\n1281        Mr\n1282       Mrs\n1283    Master\n1284        Mr\n1285        Mr\n1286       Mrs\n1287        Mr\n1288       Mrs\n1289        Mr\n1290        Mr\n1291      Miss\n1292        Mr\n1293      Miss\n1294        Mr\n1295        Mr\n1296        Mr\n1297        Mr\n1298        Mr\n1299      Miss\n1300      Miss\n1301      Miss\n1302       Mrs\n1303      Miss\n1304        Mr\n1305      Dona\n1306        Mr\n1307        Mr\n1308    Master\nName: Title, Length: 1309, dtype: object"
     },
     "execution_count": 20,
     "metadata": {},
     "output_type": "execute_result"
    }
   ]
  },
  {
   "cell_type": "code",
   "source": [
    "Title_dict = {}\n",
    "Title_dict.update(dict.fromkeys(['Capt','Col','Major','Dr','Rev'],'Officer'))\n",
    "Title_dict.update(dict.fromkeys(['Don','Str','the Countess','Dona','Lady'],'Royalty'))\n",
    "Title_dict.update(dict.fromkeys(['Mme','Ms','Mrs'],'Mrs'))\n",
    "Title_dict.update(dict.fromkeys(['Mlle','Miss'],'Miss'))\n",
    "Title_dict.update(dict.fromkeys(['Mr'],'Mr'))\n",
    "Title_dict.update(dict.fromkeys(['Master','Jonkheer'],'Master'))\n",
    "\n",
    "all_data['Title'] = all_data['Title'].map(Title_dict)\n",
    "sns.barplot(x = 'Title',  y = 'Survived', data = all_data)"
   ],
   "metadata": {
    "execution": {
     "iopub.status.busy": "2022-07-07T11:03:38.988831Z",
     "iopub.execute_input": "2022-07-07T11:03:38.989403Z",
     "iopub.status.idle": "2022-07-07T11:03:39.378496Z",
     "shell.execute_reply.started": "2022-07-07T11:03:38.989369Z",
     "shell.execute_reply": "2022-07-07T11:03:39.377261Z"
    },
    "trusted": true
   },
   "execution_count": 21,
   "outputs": [
    {
     "data": {
      "text/plain": "<matplotlib.axes._subplots.AxesSubplot at 0x1f9713d3e80>"
     },
     "execution_count": 21,
     "metadata": {},
     "output_type": "execute_result"
    },
    {
     "data": {
      "text/plain": "<Figure size 432x288 with 1 Axes>",
      "image/png": "[encoded data removed]"
     },
     "metadata": {
      "needs_background": "light"
     },
     "output_type": "display_data"
    }
   ]
  },
  {
   "cell_type": "markdown",
   "source": [
    "8.亲属数量和存活率的关系"
   ],
   "metadata": {}
  },
  {
   "cell_type": "code",
   "source": [
    "all_data['FamilySize'] = all_data['SibSp'] + all_data['Parch'] + 1\n",
    "sns.barplot(x = 'FamilySize' , y = 'Survived' , data = all_data)"
   ],
   "metadata": {
    "execution": {
     "iopub.status.busy": "2022-07-07T11:03:39.380153Z",
     "iopub.execute_input": "2022-07-07T11:03:39.380519Z",
     "iopub.status.idle": "2022-07-07T11:03:39.862654Z",
     "shell.execute_reply.started": "2022-07-07T11:03:39.380484Z",
     "shell.execute_reply": "2022-07-07T11:03:39.861519Z"
    },
    "trusted": true
   },
   "execution_count": 22,
   "outputs": [
    {
     "data": {
      "text/plain": "<matplotlib.axes._subplots.AxesSubplot at 0x1f9716f2dd8>"
     },
     "execution_count": 22,
     "metadata": {},
     "output_type": "execute_result"
    },
    {
     "data": {
      "text/plain": "<Figure size 432x288 with 1 Axes>",
      "image/png": "[encoded data removed]"
     },
     "metadata": {
      "needs_background": "light"
     },
     "output_type": "display_data"
    }
   ]
  },
  {
   "cell_type": "markdown",
   "source": [
    "9.不同客舱的乘客幸存率不同\n",
    "（新增Deck特征，先把Cabin空缺值填充为Unknown，再提取Cabin中的首字母构成乘客的甲板号）"
   ],
   "metadata": {}
  },
  {
   "cell_type": "code",
   "source": [
    "all_data['Cabin'] = all_data['Cabin'].fillna('Unknown')\n",
    "all_data['Desk'] = all_data['Cabin'].str.get(0)\n",
    "sns.barplot(x = 'Desk' , y = 'Survived' , data = all_data)"
   ],
   "metadata": {
    "execution": {
     "iopub.status.busy": "2022-07-07T11:03:39.864454Z",
     "iopub.execute_input": "2022-07-07T11:03:39.864906Z",
     "iopub.status.idle": "2022-07-07T11:03:40.331039Z",
     "shell.execute_reply.started": "2022-07-07T11:03:39.864871Z",
     "shell.execute_reply": "2022-07-07T11:03:40.329762Z"
    },
    "trusted": true
   },
   "execution_count": 23,
   "outputs": [
    {
     "data": {
      "text/plain": "<matplotlib.axes._subplots.AxesSubplot at 0x1f971776978>"
     },
     "execution_count": 23,
     "metadata": {},
     "output_type": "execute_result"
    },
    {
     "data": {
      "text/plain": "<Figure size 432x288 with 1 Axes>",
      "image/png": "[encoded data removed]"
     },
     "metadata": {
      "needs_background": "light"
     },
     "output_type": "display_data"
    }
   ]
  },
  {
   "cell_type": "markdown",
   "source": [
    "10.共票数与生存率的关系（统计每个乘客的共票数）"
   ],
   "metadata": {}
  },
  {
   "cell_type": "code",
   "source": [
    "Ticket_count = dict(all_data['Ticket'].value_counts())\n",
    "all_data['TicketGroup'] = all_data['Ticket'].apply(lambda x:Ticket_count[x])\n",
    "sns.barplot(x = 'TicketGroup', y = 'Survived' , data = all_data)"
   ],
   "metadata": {
    "execution": {
     "iopub.status.busy": "2022-07-07T11:03:40.332767Z",
     "iopub.execute_input": "2022-07-07T11:03:40.333101Z",
     "iopub.status.idle": "2022-07-07T11:03:40.762563Z",
     "shell.execute_reply.started": "2022-07-07T11:03:40.333072Z",
     "shell.execute_reply": "2022-07-07T11:03:40.761047Z"
    },
    "trusted": true
   },
   "execution_count": 24,
   "outputs": [
    {
     "data": {
      "text/plain": "<matplotlib.axes._subplots.AxesSubplot at 0x1f9717f1a58>"
     },
     "execution_count": 24,
     "metadata": {},
     "output_type": "execute_result"
    },
    {
     "data": {
      "text/plain": "<Figure size 432x288 with 1 Axes>",
      "image/png": "[encoded data removed]"
     },
     "metadata": {
      "needs_background": "light"
     },
     "output_type": "display_data"
    }
   ]
  },
  {
   "cell_type": "code",
   "source": [
    "def Ticket_depart(s):\n",
    "    if (s >= 2) and (s <= 4):\n",
    "        return 2\n",
    "    elif ((s>4) and (s<=8)) or (s == 1):\n",
    "        return 1\n",
    "    elif s > 8:\n",
    "        return 0\n",
    "all_data['TicketGroup'] = all_data['TicketGroup'].apply(Ticket_depart)\n",
    "sns.barplot(x = 'TicketGroup' , y = 'Survived' , data = all_data)"
   ],
   "metadata": {
    "execution": {
     "iopub.status.busy": "2022-07-07T11:03:40.764248Z",
     "iopub.execute_input": "2022-07-07T11:03:40.765210Z",
     "iopub.status.idle": "2022-07-07T11:03:41.006205Z",
     "shell.execute_reply.started": "2022-07-07T11:03:40.765172Z",
     "shell.execute_reply": "2022-07-07T11:03:41.004855Z"
    },
    "trusted": true
   },
   "execution_count": 25,
   "outputs": [
    {
     "data": {
      "text/plain": "<matplotlib.axes._subplots.AxesSubplot at 0x1f9718933c8>"
     },
     "execution_count": 25,
     "metadata": {},
     "output_type": "execute_result"
    },
    {
     "data": {
      "text/plain": "<Figure size 432x288 with 1 Axes>",
      "image/png": "[encoded data removed]"
     },
     "metadata": {
      "needs_background": "light"
     },
     "output_type": "display_data"
    }
   ]
  },
  {
   "cell_type": "markdown",
   "source": [
    "## 数据清洗"
   ],
   "metadata": {}
  },
  {
   "cell_type": "markdown",
   "source": [
    "1. 缺失值清洗         \n",
    "Age缺失值为263，用Sex,Title,Pclass三个特征构建随机森林模型，填充年龄缺失值"
   ],
   "metadata": {}
  },
  {
   "cell_type": "code",
   "source": [
    "from sklearn.ensemble import RandomForestRegressor\n",
    "age_df = all_data[['Age','Pclass','Sex','Title']]\n",
    "age_df = pd.get_dummies(age_df)\n",
    "#只会将分类变量变成虚拟变量，不会将连续的数值变量变成虚拟变量\n",
    "age_df"
   ],
   "metadata": {
    "execution": {
     "iopub.status.busy": "2022-07-07T11:03:41.007823Z",
     "iopub.execute_input": "2022-07-07T11:03:41.008243Z",
     "iopub.status.idle": "2022-07-07T11:03:41.034742Z",
     "shell.execute_reply.started": "2022-07-07T11:03:41.008208Z",
     "shell.execute_reply": "2022-07-07T11:03:41.033840Z"
    },
    "trusted": true
   },
   "execution_count": 26,
   "outputs": [
    {
     "name": "stderr",
     "output_type": "stream",
     "text": [
      "E:\\Anaconda\\lib\\site-packages\\sklearn\\ensemble\\weight_boosting.py:29: DeprecationWarning: numpy.core.umath_tests is an internal NumPy module and should not be imported. It will be removed in a future NumPy release.\n",
      "  from numpy.core.umath_tests import inner1d\n"
     ]
    },
    {
     "data": {
      "text/plain": "       Age  Pclass  Sex_female  Sex_male  Title_Master  Title_Miss  Title_Mr  \\\n0     22.0       3           0         1             0           0         1   \n1     38.0       1           1         0             0           0         0   \n2     26.0       3           1         0             0           1         0   \n3     35.0       1           1         0             0           0         0   \n4     35.0       3           0         1             0           0         1   \n5      NaN       3           0         1             0           0         1   \n6     54.0       1           0         1             0           0         1   \n7      2.0       3           0         1             1           0         0   \n8     27.0       3           1         0             0           0         0   \n9     14.0       2           1         0             0           0         0   \n10     4.0       3           1         0             0           1         0   \n11    58.0       1           1         0             0           1         0   \n12    20.0       3           0         1             0           0         1   \n13    39.0       3           0         1             0           0         1   \n14    14.0       3           1         0             0           1         0   \n15    55.0       2           1         0             0           0         0   \n16     2.0       3           0         1             1           0         0   \n17     NaN       2           0         1             0           0         1   \n18    31.0       3           1         0             0           0         0   \n19     NaN       3           1         0             0           0         0   \n20    35.0       2           0         1             0           0         1   \n21    34.0       2           0         1             0           0         1   \n22    15.0       3           1         0             0           1         0   \n23    28.0       1           0         1             0           0         1   \n24     8.0       3           1         0             0           1         0   \n25    38.0       3           1         0             0           0         0   \n26     NaN       3           0         1             0           0         1   \n27    19.0       1           0         1             0           0         1   \n28     NaN       3           1         0             0           1         0   \n29     NaN       3           0         1             0           0         1   \n...    ...     ...         ...       ...           ...         ...       ...   \n1279  21.0       3           0         1             0           0         1   \n1280   6.0       3           0         1             1           0         0   \n1281  23.0       1           0         1             0           0         1   \n1282  51.0       1           1         0             0           0         0   \n1283  13.0       3           0         1             1           0         0   \n1284  47.0       2           0         1             0           0         1   \n1285  29.0       3           0         1             0           0         1   \n1286  18.0       1           1         0             0           0         0   \n1287  24.0       3           0         1             0           0         1   \n1288  48.0       1           1         0             0           0         0   \n1289  22.0       3           0         1             0           0         1   \n1290  31.0       3           0         1             0           0         1   \n1291  30.0       1           1         0             0           1         0   \n1292  38.0       2           0         1             0           0         1   \n1293  22.0       1           1         0             0           1         0   \n1294  17.0       1           0         1             0           0         1   \n1295  43.0       1           0         1             0           0         1   \n1296  20.0       2           0         1             0           0         1   \n1297  23.0       2           0         1             0           0         1   \n1298  50.0       1           0         1             0           0         1   \n1299   NaN       3           1         0             0           1         0   \n1300   3.0       3           1         0             0           1         0   \n1301   NaN       3           1         0             0           1         0   \n1302  37.0       1           1         0             0           0         0   \n1303  28.0       3           1         0             0           1         0   \n1304   NaN       3           0         1             0           0         1   \n1305  39.0       1           1         0             0           0         0   \n1306  38.5       3           0         1             0           0         1   \n1307   NaN       3           0         1             0           0         1   \n1308   NaN       3           0         1             1           0         0   \n\n      Title_Mrs  Title_Officer  Title_Royalty  \n0             0              0              0  \n1             1              0              0  \n2             0              0              0  \n3             1              0              0  \n4             0              0              0  \n5             0              0              0  \n6             0              0              0  \n7             0              0              0  \n8             1              0              0  \n9             1              0              0  \n10            0              0              0  \n11            0              0              0  \n12            0              0              0  \n13            0              0              0  \n14            0              0              0  \n15            1              0              0  \n16            0              0              0  \n17            0              0              0  \n18            1              0              0  \n19            1              0              0  \n20            0              0              0  \n21            0              0              0  \n22            0              0              0  \n23            0              0              0  \n24            0              0              0  \n25            1              0              0  \n26            0              0              0  \n27            0              0              0  \n28            0              0              0  \n29            0              0              0  \n...         ...            ...            ...  \n1279          0              0              0  \n1280          0              0              0  \n1281          0              0              0  \n1282          1              0              0  \n1283          0              0              0  \n1284          0              0              0  \n1285          0              0              0  \n1286          1              0              0  \n1287          0              0              0  \n1288          1              0              0  \n1289          0              0              0  \n1290          0              0              0  \n1291          0              0              0  \n1292          0              0              0  \n1293          0              0              0  \n1294          0              0              0  \n1295          0              0              0  \n1296          0              0              0  \n1297          0              0              0  \n1298          0              0              0  \n1299          0              0              0  \n1300          0              0              0  \n1301          0              0              0  \n1302          1              0              0  \n1303          0              0              0  \n1304          0              0              0  \n1305          0              0              1  \n1306          0              0              0  \n1307          0              0              0  \n1308          0              0              0  \n\n[1309 rows x 10 columns]",
      "text/html": "<div>\n<style scoped>\n    .dataframe tbody tr th:only-of-type {\n        vertical-align: middle;\n    }\n\n    .dataframe tbody tr th {\n        vertical-align: top;\n    }\n\n    .dataframe thead th {\n        text-align: right;\n    }\n</style>\n<table border=\"1\" class=\"dataframe\">\n  <thead>\n    <tr style=\"text-align: right;\">\n      <th></th>\n      <th>Age</th>\n      <th>Pclass</th>\n      <th>Sex_female</th>\n      <th>Sex_male</th>\n      <th>Title_Master</th>\n      <th>Title_Miss</th>\n      <th>Title_Mr</th>\n      <th>Title_Mrs</th>\n      <th>Title_Officer</th>\n      <th>Title_Royalty</th>\n    </tr>\n  </thead>\n  <tbody>\n    <tr>\n      <th>0</th>\n      <td>22.0</td>\n      <td>3</td>\n      <td>0</td>\n      <td>1</td>\n      <td>0</td>\n      <td>0</td>\n      <td>1</td>\n      <td>0</td>\n      <td>0</td>\n      <td>0</td>\n    </tr>\n    <tr>\n      <th>1</th>\n      <td>38.0</td>\n      <td>1</td>\n      <td>1</td>\n      <td>0</td>\n      <td>0</td>\n      <td>0</td>\n      <td>0</td>\n      <td>1</td>\n      <td>0</td>\n      <td>0</td>\n    </tr>\n    <tr>\n      <th>2</th>\n      <td>26.0</td>\n      <td>3</td>\n      <td>1</td>\n      <td>0</td>\n      <td>0</td>\n      <td>1</td>\n      <td>0</td>\n      <td>0</td>\n      <td>0</td>\n      <td>0</td>\n    </tr>\n    <tr>\n      <th>3</th>\n      <td>35.0</td>\n      <td>1</td>\n      <td>1</td>\n      <td>0</td>\n      <td>0</td>\n      <td>0</td>\n      <td>0</td>\n      <td>1</td>\n      <td>0</td>\n      <td>0</td>\n    </tr>\n    <tr>\n      <th>4</th>\n      <td>35.0</td>\n      <td>3</td>\n      <td>0</td>\n      <td>1</td>\n      <td>0</td>\n      <td>0</td>\n      <td>1</td>\n      <td>0</td>\n      <td>0</td>\n      <td>0</td>\n    </tr>\n    <tr>\n      <th>5</th>\n      <td>NaN</td>\n      <td>3</td>\n      <td>0</td>\n      <td>1</td>\n      <td>0</td>\n      <td>0</td>\n      <td>1</td>\n      <td>0</td>\n      <td>0</td>\n      <td>0</td>\n    </tr>\n    <tr>\n      <th>6</th>\n      <td>54.0</td>\n      <td>1</td>\n      <td>0</td>\n      <td>1</td>\n      <td>0</td>\n      <td>0</td>\n      <td>1</td>\n      <td>0</td>\n      <td>0</td>\n      <td>0</td>\n    </tr>\n    <tr>\n      <th>7</th>\n      <td>2.0</td>\n      <td>3</td>\n      <td>0</td>\n      <td>1</td>\n      <td>1</td>\n      <td>0</td>\n      <td>0</td>\n      <td>0</td>\n      <td>0</td>\n      <td>0</td>\n    </tr>\n    <tr>\n      <th>8</th>\n      <td>27.0</td>\n      <td>3</td>\n      <td>1</td>\n      <td>0</td>\n      <td>0</td>\n      <td>0</td>\n      <td>0</td>\n      <td>1</td>\n      <td>0</td>\n      <td>0</td>\n    </tr>\n    <tr>\n      <th>9</th>\n      <td>14.0</td>\n      <td>2</td>\n      <td>1</td>\n      <td>0</td>\n      <td>0</td>\n      <td>0</td>\n      <td>0</td>\n      <td>1</td>\n      <td>0</td>\n      <td>0</td>\n    </tr>\n    <tr>\n      <th>10</th>\n      <td>4.0</td>\n      <td>3</td>\n      <td>1</td>\n      <td>0</td>\n      <td>0</td>\n      <td>1</td>\n      <td>0</td>\n      <td>0</td>\n      <td>0</td>\n      <td>0</td>\n    </tr>\n    <tr>\n      <th>11</th>\n      <td>58.0</td>\n      <td>1</td>\n      <td>1</td>\n      <td>0</td>\n      <td>0</td>\n      <td>1</td>\n      <td>0</td>\n      <td>0</td>\n      <td>0</td>\n      <td>0</td>\n    </tr>\n    <tr>\n      <th>12</th>\n      <td>20.0</td>\n      <td>3</td>\n      <td>0</td>\n      <td>1</td>\n      <td>0</td>\n      <td>0</td>\n      <td>1</td>\n      <td>0</td>\n      <td>0</td>\n      <td>0</td>\n    </tr>\n    <tr>\n      <th>13</th>\n      <td>39.0</td>\n      <td>3</td>\n      <td>0</td>\n      <td>1</td>\n      <td>0</td>\n      <td>0</td>\n      <td>1</td>\n      <td>0</td>\n      <td>0</td>\n      <td>0</td>\n    </tr>\n    <tr>\n      <th>14</th>\n      <td>14.0</td>\n      <td>3</td>\n      <td>1</td>\n      <td>0</td>\n      <td>0</td>\n      <td>1</td>\n      <td>0</td>\n      <td>0</td>\n      <td>0</td>\n      <td>0</td>\n    </tr>\n    <tr>\n      <th>15</th>\n      <td>55.0</td>\n      <td>2</td>\n      <td>1</td>\n      <td>0</td>\n      <td>0</td>\n      <td>0</td>\n      <td>0</td>\n      <td>1</td>\n      <td>0</td>\n      <td>0</td>\n    </tr>\n    <tr>\n      <th>16</th>\n      <td>2.0</td>\n      <td>3</td>\n      <td>0</td>\n      <td>1</td>\n      <td>1</td>\n      <td>0</td>\n      <td>0</td>\n      <td>0</td>\n      <td>0</td>\n      <td>0</td>\n    </tr>\n    <tr>\n      <th>17</th>\n      <td>NaN</td>\n      <td>2</td>\n      <td>0</td>\n      <td>1</td>\n      <td>0</td>\n      <td>0</td>\n      <td>1</td>\n      <td>0</td>\n      <td>0</td>\n      <td>0</td>\n    </tr>\n    <tr>\n      <th>18</th>\n      <td>31.0</td>\n      <td>3</td>\n      <td>1</td>\n      <td>0</td>\n      <td>0</td>\n      <td>0</td>\n      <td>0</td>\n      <td>1</td>\n      <td>0</td>\n      <td>0</td>\n    </tr>\n    <tr>\n      <th>19</th>\n      <td>NaN</td>\n      <td>3</td>\n      <td>1</td>\n      <td>0</td>\n      <td>0</td>\n      <td>0</td>\n      <td>0</td>\n      <td>1</td>\n      <td>0</td>\n      <td>0</td>\n    </tr>\n    <tr>\n      <th>20</th>\n      <td>35.0</td>\n      <td>2</td>\n      <td>0</td>\n      <td>1</td>\n      <td>0</td>\n      <td>0</td>\n      <td>1</td>\n      <td>0</td>\n      <td>0</td>\n      <td>0</td>\n    </tr>\n    <tr>\n      <th>21</th>\n      <td>34.0</td>\n      <td>2</td>\n      <td>0</td>\n      <td>1</td>\n      <td>0</td>\n      <td>0</td>\n      <td>1</td>\n      <td>0</td>\n      <td>0</td>\n      <td>0</td>\n    </tr>\n    <tr>\n      <th>22</th>\n      <td>15.0</td>\n      <td>3</td>\n      <td>1</td>\n      <td>0</td>\n      <td>0</td>\n      <td>1</td>\n      <td>0</td>\n      <td>0</td>\n      <td>0</td>\n      <td>0</td>\n    </tr>\n    <tr>\n      <th>23</th>\n      <td>28.0</td>\n      <td>1</td>\n      <td>0</td>\n      <td>1</td>\n      <td>0</td>\n      <td>0</td>\n      <td>1</td>\n      <td>0</td>\n      <td>0</td>\n      <td>0</td>\n    </tr>\n    <tr>\n      <th>24</th>\n      <td>8.0</td>\n      <td>3</td>\n      <td>1</td>\n      <td>0</td>\n      <td>0</td>\n      <td>1</td>\n      <td>0</td>\n      <td>0</td>\n      <td>0</td>\n      <td>0</td>\n    </tr>\n    <tr>\n      <th>25</th>\n      <td>38.0</td>\n      <td>3</td>\n      <td>1</td>\n      <td>0</td>\n      <td>0</td>\n      <td>0</td>\n      <td>0</td>\n      <td>1</td>\n      <td>0</td>\n      <td>0</td>\n    </tr>\n    <tr>\n      <th>26</th>\n      <td>NaN</td>\n      <td>3</td>\n      <td>0</td>\n      <td>1</td>\n      <td>0</td>\n      <td>0</td>\n      <td>1</td>\n      <td>0</td>\n      <td>0</td>\n      <td>0</td>\n    </tr>\n    <tr>\n      <th>27</th>\n      <td>19.0</td>\n      <td>1</td>\n      <td>0</td>\n      <td>1</td>\n      <td>0</td>\n      <td>0</td>\n      <td>1</td>\n      <td>0</td>\n      <td>0</td>\n      <td>0</td>\n    </tr>\n    <tr>\n      <th>28</th>\n      <td>NaN</td>\n      <td>3</td>\n      <td>1</td>\n      <td>0</td>\n      <td>0</td>\n      <td>1</td>\n      <td>0</td>\n      <td>0</td>\n      <td>0</td>\n      <td>0</td>\n    </tr>\n    <tr>\n      <th>29</th>\n      <td>NaN</td>\n      <td>3</td>\n      <td>0</td>\n      <td>1</td>\n      <td>0</td>\n      <td>0</td>\n      <td>1</td>\n      <td>0</td>\n      <td>0</td>\n      <td>0</td>\n    </tr>\n    <tr>\n      <th>...</th>\n      <td>...</td>\n      <td>...</td>\n      <td>...</td>\n      <td>...</td>\n      <td>...</td>\n      <td>...</td>\n      <td>...</td>\n      <td>...</td>\n      <td>...</td>\n      <td>...</td>\n    </tr>\n    <tr>\n      <th>1279</th>\n      <td>21.0</td>\n      <td>3</td>\n      <td>0</td>\n      <td>1</td>\n      <td>0</td>\n      <td>0</td>\n      <td>1</td>\n      <td>0</td>\n      <td>0</td>\n      <td>0</td>\n    </tr>\n    <tr>\n      <th>1280</th>\n      <td>6.0</td>\n      <td>3</td>\n      <td>0</td>\n      <td>1</td>\n      <td>1</td>\n      <td>0</td>\n      <td>0</td>\n      <td>0</td>\n      <td>0</td>\n      <td>0</td>\n    </tr>\n    <tr>\n      <th>1281</th>\n      <td>23.0</td>\n      <td>1</td>\n      <td>0</td>\n      <td>1</td>\n      <td>0</td>\n      <td>0</td>\n      <td>1</td>\n      <td>0</td>\n      <td>0</td>\n      <td>0</td>\n    </tr>\n    <tr>\n      <th>1282</th>\n      <td>51.0</td>\n      <td>1</td>\n      <td>1</td>\n      <td>0</td>\n      <td>0</td>\n      <td>0</td>\n      <td>0</td>\n      <td>1</td>\n      <td>0</td>\n      <td>0</td>\n    </tr>\n    <tr>\n      <th>1283</th>\n      <td>13.0</td>\n      <td>3</td>\n      <td>0</td>\n      <td>1</td>\n      <td>1</td>\n      <td>0</td>\n      <td>0</td>\n      <td>0</td>\n      <td>0</td>\n      <td>0</td>\n    </tr>\n    <tr>\n      <th>1284</th>\n      <td>47.0</td>\n      <td>2</td>\n      <td>0</td>\n      <td>1</td>\n      <td>0</td>\n      <td>0</td>\n      <td>1</td>\n      <td>0</td>\n      <td>0</td>\n      <td>0</td>\n    </tr>\n    <tr>\n      <th>1285</th>\n      <td>29.0</td>\n      <td>3</td>\n      <td>0</td>\n      <td>1</td>\n      <td>0</td>\n      <td>0</td>\n      <td>1</td>\n      <td>0</td>\n      <td>0</td>\n      <td>0</td>\n    </tr>\n    <tr>\n      <th>1286</th>\n      <td>18.0</td>\n      <td>1</td>\n      <td>1</td>\n      <td>0</td>\n      <td>0</td>\n      <td>0</td>\n      <td>0</td>\n      <td>1</td>\n      <td>0</td>\n      <td>0</td>\n    </tr>\n    <tr>\n      <th>1287</th>\n      <td>24.0</td>\n      <td>3</td>\n      <td>0</td>\n      <td>1</td>\n      <td>0</td>\n      <td>0</td>\n      <td>1</td>\n      <td>0</td>\n      <td>0</td>\n      <td>0</td>\n    </tr>\n    <tr>\n      <th>1288</th>\n      <td>48.0</td>\n      <td>1</td>\n      <td>1</td>\n      <td>0</td>\n      <td>0</td>\n      <td>0</td>\n      <td>0</td>\n      <td>1</td>\n      <td>0</td>\n      <td>0</td>\n    </tr>\n    <tr>\n      <th>1289</th>\n      <td>22.0</td>\n      <td>3</td>\n      <td>0</td>\n      <td>1</td>\n      <td>0</td>\n      <td>0</td>\n      <td>1</td>\n      <td>0</td>\n      <td>0</td>\n      <td>0</td>\n    </tr>\n    <tr>\n      <th>1290</th>\n      <td>31.0</td>\n      <td>3</td>\n      <td>0</td>\n      <td>1</td>\n      <td>0</td>\n      <td>0</td>\n      <td>1</td>\n      <td>0</td>\n      <td>0</td>\n      <td>0</td>\n    </tr>\n    <tr>\n      <th>1291</th>\n      <td>30.0</td>\n      <td>1</td>\n      <td>1</td>\n      <td>0</td>\n      <td>0</td>\n      <td>1</td>\n      <td>0</td>\n      <td>0</td>\n      <td>0</td>\n      <td>0</td>\n    </tr>\n    <tr>\n      <th>1292</th>\n      <td>38.0</td>\n      <td>2</td>\n      <td>0</td>\n      <td>1</td>\n      <td>0</td>\n      <td>0</td>\n      <td>1</td>\n      <td>0</td>\n      <td>0</td>\n      <td>0</td>\n    </tr>\n    <tr>\n      <th>1293</th>\n      <td>22.0</td>\n      <td>1</td>\n      <td>1</td>\n      <td>0</td>\n      <td>0</td>\n      <td>1</td>\n      <td>0</td>\n      <td>0</td>\n      <td>0</td>\n      <td>0</td>\n    </tr>\n    <tr>\n      <th>1294</th>\n      <td>17.0</td>\n      <td>1</td>\n      <td>0</td>\n      <td>1</td>\n      <td>0</td>\n      <td>0</td>\n      <td>1</td>\n      <td>0</td>\n      <td>0</td>\n      <td>0</td>\n    </tr>\n    <tr>\n      <th>1295</th>\n      <td>43.0</td>\n      <td>1</td>\n      <td>0</td>\n      <td>1</td>\n      <td>0</td>\n      <td>0</td>\n      <td>1</td>\n      <td>0</td>\n      <td>0</td>\n      <td>0</td>\n    </tr>\n    <tr>\n      <th>1296</th>\n      <td>20.0</td>\n      <td>2</td>\n      <td>0</td>\n      <td>1</td>\n      <td>0</td>\n      <td>0</td>\n      <td>1</td>\n      <td>0</td>\n      <td>0</td>\n      <td>0</td>\n    </tr>\n    <tr>\n      <th>1297</th>\n      <td>23.0</td>\n      <td>2</td>\n      <td>0</td>\n      <td>1</td>\n      <td>0</td>\n      <td>0</td>\n      <td>1</td>\n      <td>0</td>\n      <td>0</td>\n      <td>0</td>\n    </tr>\n    <tr>\n      <th>1298</th>\n      <td>50.0</td>\n      <td>1</td>\n      <td>0</td>\n      <td>1</td>\n      <td>0</td>\n      <td>0</td>\n      <td>1</td>\n      <td>0</td>\n      <td>0</td>\n      <td>0</td>\n    </tr>\n    <tr>\n      <th>1299</th>\n      <td>NaN</td>\n      <td>3</td>\n      <td>1</td>\n      <td>0</td>\n      <td>0</td>\n      <td>1</td>\n      <td>0</td>\n      <td>0</td>\n      <td>0</td>\n      <td>0</td>\n    </tr>\n    <tr>\n      <th>1300</th>\n      <td>3.0</td>\n      <td>3</td>\n      <td>1</td>\n      <td>0</td>\n      <td>0</td>\n      <td>1</td>\n      <td>0</td>\n      <td>0</td>\n      <td>0</td>\n      <td>0</td>\n    </tr>\n    <tr>\n      <th>1301</th>\n      <td>NaN</td>\n      <td>3</td>\n      <td>1</td>\n      <td>0</td>\n      <td>0</td>\n      <td>1</td>\n      <td>0</td>\n      <td>0</td>\n      <td>0</td>\n      <td>0</td>\n    </tr>\n    <tr>\n      <th>1302</th>\n      <td>37.0</td>\n      <td>1</td>\n      <td>1</td>\n      <td>0</td>\n      <td>0</td>\n      <td>0</td>\n      <td>0</td>\n      <td>1</td>\n      <td>0</td>\n      <td>0</td>\n    </tr>\n    <tr>\n      <th>1303</th>\n      <td>28.0</td>\n      <td>3</td>\n      <td>1</td>\n      <td>0</td>\n      <td>0</td>\n      <td>1</td>\n      <td>0</td>\n      <td>0</td>\n      <td>0</td>\n      <td>0</td>\n    </tr>\n    <tr>\n      <th>1304</th>\n      <td>NaN</td>\n      <td>3</td>\n      <td>0</td>\n      <td>1</td>\n      <td>0</td>\n      <td>0</td>\n      <td>1</td>\n      <td>0</td>\n      <td>0</td>\n      <td>0</td>\n    </tr>\n    <tr>\n      <th>1305</th>\n      <td>39.0</td>\n      <td>1</td>\n      <td>1</td>\n      <td>0</td>\n      <td>0</td>\n      <td>0</td>\n      <td>0</td>\n      <td>0</td>\n      <td>0</td>\n      <td>1</td>\n    </tr>\n    <tr>\n      <th>1306</th>\n      <td>38.5</td>\n      <td>3</td>\n      <td>0</td>\n      <td>1</td>\n      <td>0</td>\n      <td>0</td>\n      <td>1</td>\n      <td>0</td>\n      <td>0</td>\n      <td>0</td>\n    </tr>\n    <tr>\n      <th>1307</th>\n      <td>NaN</td>\n      <td>3</td>\n      <td>0</td>\n      <td>1</td>\n      <td>0</td>\n      <td>0</td>\n      <td>1</td>\n      <td>0</td>\n      <td>0</td>\n      <td>0</td>\n    </tr>\n    <tr>\n      <th>1308</th>\n      <td>NaN</td>\n      <td>3</td>\n      <td>0</td>\n      <td>1</td>\n      <td>1</td>\n      <td>0</td>\n      <td>0</td>\n      <td>0</td>\n      <td>0</td>\n      <td>0</td>\n    </tr>\n  </tbody>\n</table>\n<p>1309 rows × 10 columns</p>\n</div>"
     },
     "execution_count": 26,
     "metadata": {},
     "output_type": "execute_result"
    }
   ]
  },
  {
   "cell_type": "code",
   "source": [
    "known_age = age_df[age_df.Age.notnull()].values\n",
    "unknown_age = age_df[age_df.Age.isnull()].values\n",
    "known_age"
   ],
   "metadata": {
    "execution": {
     "iopub.status.busy": "2022-07-07T11:03:41.036013Z",
     "iopub.execute_input": "2022-07-07T11:03:41.036499Z",
     "iopub.status.idle": "2022-07-07T11:03:41.047393Z",
     "shell.execute_reply.started": "2022-07-07T11:03:41.036469Z",
     "shell.execute_reply": "2022-07-07T11:03:41.046211Z"
    },
    "trusted": true
   },
   "execution_count": 27,
   "outputs": [
    {
     "data": {
      "text/plain": "array([[22. ,  3. ,  0. , ...,  0. ,  0. ,  0. ],\n       [38. ,  1. ,  1. , ...,  1. ,  0. ,  0. ],\n       [26. ,  3. ,  1. , ...,  0. ,  0. ,  0. ],\n       ...,\n       [28. ,  3. ,  1. , ...,  0. ,  0. ,  0. ],\n       [39. ,  1. ,  1. , ...,  0. ,  0. ,  1. ],\n       [38.5,  3. ,  0. , ...,  0. ,  0. ,  0. ]])"
     },
     "execution_count": 27,
     "metadata": {},
     "output_type": "execute_result"
    }
   ]
  },
  {
   "cell_type": "code",
   "source": [
    "y = known_age[:,0]\n",
    "X = known_age[:,1:]\n",
    "rfr = RandomForestRegressor(random_state=0,n_estimators=100,n_jobs=-1)\n",
    "rfr.fit(X,y)\n",
    "predictedAge = rfr.predict(unknown_age[:,1::])\n",
    "all_data.loc[(all_data.Age.isnull()) ,'Age'] = predictedAge"
   ],
   "metadata": {
    "execution": {
     "iopub.status.busy": "2022-07-07T11:03:41.049181Z",
     "iopub.execute_input": "2022-07-07T11:03:41.049763Z",
     "iopub.status.idle": "2022-07-07T11:03:41.410945Z",
     "shell.execute_reply.started": "2022-07-07T11:03:41.049729Z",
     "shell.execute_reply": "2022-07-07T11:03:41.409692Z"
    },
    "trusted": true
   },
   "execution_count": 28,
   "outputs": []
  },
  {
   "cell_type": "code",
   "source": [
    "predictedAge"
   ],
   "metadata": {
    "execution": {
     "iopub.status.busy": "2022-07-07T11:03:41.414694Z",
     "iopub.execute_input": "2022-07-07T11:03:41.415101Z",
     "iopub.status.idle": "2022-07-07T11:03:41.425175Z",
     "shell.execute_reply.started": "2022-07-07T11:03:41.415069Z",
     "shell.execute_reply": "2022-07-07T11:03:41.423767Z"
    },
    "trusted": true
   },
   "execution_count": 29,
   "outputs": [
    {
     "data": {
      "text/plain": "array([28.22625599, 32.5356406 , 32.49434306, 28.22625599, 17.33372951,\n       28.22625599, 43.11469647, 17.33372951, 28.22625599, 28.22625599,\n       28.22625599, 28.22625599, 17.33372951, 28.22625599, 41.5191194 ,\n       41.5191194 ,  6.03559861, 28.22625599, 28.22625599, 17.33372951,\n       28.22625599, 28.22625599, 28.22625599, 28.22625599, 17.33372951,\n       28.22625599, 28.22625599, 17.33372951, 32.49434306, 28.22625599,\n       28.22625599,  6.03559861, 43.11469647, 41.5191194 ,  6.03559861,\n       17.33372951, 32.5356406 , 41.5191194 , 32.49434306, 28.22625599,\n       17.33372951, 28.22625599, 28.22625599, 28.22625599, 17.33372951,\n       17.33372951, 17.33372951, 17.33372951, 28.22625599, 43.11469647,\n       28.22625599, 17.33372951, 41.5191194 , 17.33372951, 32.5356406 ,\n       41.5191194 , 41.5191194 , 41.5191194 , 17.33372951, 28.22625599,\n       20.67519139, 28.22625599, 30.11639038, 28.22625599, 17.33372951,\n       43.11469647, 28.22625599, 32.49434306, 41.5191194 , 28.22625599,\n       17.33372951, 17.33372951, 28.22625599, 32.49434306, 17.33372951,\n       43.11469647, 28.22625599, 28.22625599, 17.33372951, 28.22625599,\n       28.22625599, 32.5356406 , 32.49434306, 28.22625599, 28.22625599,\n       28.22625599, 32.49434306, 28.22625599, 28.22625599, 28.22625599,\n       43.11469647, 28.22625599, 28.22625599, 32.5356406 , 28.22625599,\n       28.22625599, 41.5191194 , 32.5356406 , 17.33372951, 28.22625599,\n       28.22625599, 28.22625599, 17.33372951, 41.5191194 , 28.22625599,\n       28.22625599, 28.22625599, 28.22625599, 41.5191194 , 28.22625599,\n       32.49434306, 28.22625599, 32.5356406 , 28.22625599, 41.5191194 ,\n       28.22625599, 28.22625599, 17.33372951, 28.22625599, 17.33372951,\n       32.49434306, 28.22625599, 28.22625599, 17.33372951, 20.67519139,\n       28.22625599, 28.22625599, 41.5191194 , 28.22625599, 17.33372951,\n       28.22625599, 28.22625599, 41.5191194 , 28.22625599, 28.22625599,\n       28.22625599, 28.22625599, 17.33372951, 28.22625599, 28.22625599,\n       43.11469647, 32.5356406 , 17.33372951, 28.22625599, 17.33372951,\n        6.03559861, 41.5191194 , 28.22625599, 17.33372951, 32.5356406 ,\n       28.22625599, 28.22625599, 41.5191194 , 28.22625599, 50.91784356,\n       28.22625599, 28.22625599, 28.22625599, 28.22625599, 28.22625599,\n       28.22625599, 17.33372951, 41.5191194 , 41.5191194 , 28.22625599,\n       28.22625599, 28.22625599, 28.22625599, 28.22625599, 41.5191194 ,\n       28.22625599, 43.11469647, 28.22625599, 17.33372951, 28.22625599,\n       28.22625599, 17.33372951, 28.22625599, 43.11469647, 28.22625599,\n       32.49434306, 17.33372951, 28.22625599, 41.5191194 , 28.22625599,\n       32.5356406 , 28.22625599, 33.34331036, 28.22625599, 28.22625599,\n       32.5356406 , 28.22625599, 32.49434306, 28.22625599, 28.22625599,\n       28.22625599, 28.22625599, 28.22625599, 17.33372951, 28.22625599,\n       28.22625599, 28.22625599, 17.33372951, 32.49434306, 28.22625599,\n       41.5191194 , 41.5191194 , 28.22625599, 17.33372951, 28.22625599,\n       43.11469647, 28.22625599, 28.22625599, 28.22625599, 17.33372951,\n       41.5191194 , 32.49434306, 17.33372951, 41.5191194 , 28.22625599,\n       17.33372951, 28.22625599, 32.49434306, 17.33372951, 28.22625599,\n       28.22625599,  6.03559861, 32.49434306, 28.22625599, 28.22625599,\n       28.22625599, 41.5191194 , 28.22625599, 17.33372951, 28.22625599,\n       17.33372951, 28.22625599, 17.33372951, 28.22625599, 28.22625599,\n       28.22625599, 41.5191194 , 28.22625599, 28.22625599, 32.5356406 ,\n       17.33372951, 28.22625599, 28.22625599,  6.03559861, 28.22625599,\n        6.03559861, 28.22625599, 28.22625599, 32.49434306, 28.22625599,\n       28.22625599, 32.49434306, 32.5356406 , 17.33372951, 17.33372951,\n       28.22625599, 28.22625599,  6.03559861])"
     },
     "execution_count": 29,
     "metadata": {},
     "output_type": "execute_result"
    }
   ]
  },
  {
   "cell_type": "markdown",
   "source": [
    "embarked 也有2个缺失值，根据这个个体的其他信息，直接填充"
   ],
   "metadata": {}
  },
  {
   "cell_type": "code",
   "source": [
    "all_data[all_data['Embarked'].isnull()]"
   ],
   "metadata": {
    "execution": {
     "iopub.status.busy": "2022-07-07T11:03:41.426723Z",
     "iopub.execute_input": "2022-07-07T11:03:41.427124Z",
     "iopub.status.idle": "2022-07-07T11:03:41.450015Z",
     "shell.execute_reply.started": "2022-07-07T11:03:41.427090Z",
     "shell.execute_reply": "2022-07-07T11:03:41.448805Z"
    },
    "trusted": true
   },
   "execution_count": 30,
   "outputs": [
    {
     "data": {
      "text/plain": "      Age Cabin Embarked  Fare                                       Name  \\\n61   38.0   B28      NaN  80.0                        Icard, Miss. Amelie   \n829  62.0   B28      NaN  80.0  Stone, Mrs. George Nelson (Martha Evelyn)   \n\n     Parch  PassengerId  Pclass     Sex  SibSp  Survived  Ticket Title  \\\n61       0           62       1  female      0       1.0  113572  Miss   \n829      0          830       1  female      0       1.0  113572   Mrs   \n\n     FamilySize Desk  TicketGroup  \n61            1    B            2  \n829           1    B            2  ",
      "text/html": "<div>\n<style scoped>\n    .dataframe tbody tr th:only-of-type {\n        vertical-align: middle;\n    }\n\n    .dataframe tbody tr th {\n        vertical-align: top;\n    }\n\n    .dataframe thead th {\n        text-align: right;\n    }\n</style>\n<table border=\"1\" class=\"dataframe\">\n  <thead>\n    <tr style=\"text-align: right;\">\n      <th></th>\n      <th>Age</th>\n      <th>Cabin</th>\n      <th>Embarked</th>\n      <th>Fare</th>\n      <th>Name</th>\n      <th>Parch</th>\n      <th>PassengerId</th>\n      <th>Pclass</th>\n      <th>Sex</th>\n      <th>SibSp</th>\n      <th>Survived</th>\n      <th>Ticket</th>\n      <th>Title</th>\n      <th>FamilySize</th>\n      <th>Desk</th>\n      <th>TicketGroup</th>\n    </tr>\n  </thead>\n  <tbody>\n    <tr>\n      <th>61</th>\n      <td>38.0</td>\n      <td>B28</td>\n      <td>NaN</td>\n      <td>80.0</td>\n      <td>Icard, Miss. Amelie</td>\n      <td>0</td>\n      <td>62</td>\n      <td>1</td>\n      <td>female</td>\n      <td>0</td>\n      <td>1.0</td>\n      <td>113572</td>\n      <td>Miss</td>\n      <td>1</td>\n      <td>B</td>\n      <td>2</td>\n    </tr>\n    <tr>\n      <th>829</th>\n      <td>62.0</td>\n      <td>B28</td>\n      <td>NaN</td>\n      <td>80.0</td>\n      <td>Stone, Mrs. George Nelson (Martha Evelyn)</td>\n      <td>0</td>\n      <td>830</td>\n      <td>1</td>\n      <td>female</td>\n      <td>0</td>\n      <td>1.0</td>\n      <td>113572</td>\n      <td>Mrs</td>\n      <td>1</td>\n      <td>B</td>\n      <td>2</td>\n    </tr>\n  </tbody>\n</table>\n</div>"
     },
     "execution_count": 30,
     "metadata": {},
     "output_type": "execute_result"
    }
   ]
  },
  {
   "cell_type": "code",
   "source": [
    "all_data.groupby(by=['Pclass','Embarked']).Fare.median()  #用fare的中位数"
   ],
   "metadata": {
    "execution": {
     "iopub.status.busy": "2022-07-07T11:03:41.451578Z",
     "iopub.execute_input": "2022-07-07T11:03:41.452211Z",
     "iopub.status.idle": "2022-07-07T11:03:41.468277Z",
     "shell.execute_reply.started": "2022-07-07T11:03:41.452175Z",
     "shell.execute_reply": "2022-07-07T11:03:41.467091Z"
    },
    "trusted": true
   },
   "execution_count": 31,
   "outputs": [
    {
     "data": {
      "text/plain": "Pclass  Embarked\n1       C           76.7292\n        Q           90.0000\n        S           52.0000\n2       C           15.3146\n        Q           12.3500\n        S           15.3750\n3       C            7.8958\n        Q            7.7500\n        S            8.0500\nName: Fare, dtype: float64"
     },
     "execution_count": 31,
     "metadata": {},
     "output_type": "execute_result"
    }
   ]
  },
  {
   "cell_type": "code",
   "source": [
    "all_data['Embarked'] = all_data['Embarked'].fillna('C')"
   ],
   "metadata": {
    "execution": {
     "iopub.status.busy": "2022-07-07T11:03:41.469812Z",
     "iopub.execute_input": "2022-07-07T11:03:41.470778Z",
     "iopub.status.idle": "2022-07-07T11:03:41.480889Z",
     "shell.execute_reply.started": "2022-07-07T11:03:41.470731Z",
     "shell.execute_reply": "2022-07-07T11:03:41.479847Z"
    },
    "trusted": true
   },
   "execution_count": 32,
   "outputs": []
  },
  {
   "cell_type": "markdown",
   "source": [
    "fare 的缺失值，用中位数填充"
   ],
   "metadata": {}
  },
  {
   "cell_type": "code",
   "source": [
    "all_data[all_data['Fare'].isnull()]"
   ],
   "metadata": {
    "execution": {
     "iopub.status.busy": "2022-07-07T11:03:41.482377Z",
     "iopub.execute_input": "2022-07-07T11:03:41.483485Z",
     "iopub.status.idle": "2022-07-07T11:03:41.503476Z",
     "shell.execute_reply.started": "2022-07-07T11:03:41.483435Z",
     "shell.execute_reply": "2022-07-07T11:03:41.502299Z"
    },
    "trusted": true
   },
   "execution_count": 33,
   "outputs": [
    {
     "data": {
      "text/plain": "       Age    Cabin Embarked  Fare                Name  Parch  PassengerId  \\\n1043  60.5  Unknown        S   NaN  Storey, Mr. Thomas      0         1044   \n\n      Pclass   Sex  SibSp  Survived Ticket Title  FamilySize Desk  TicketGroup  \n1043       3  male      0       NaN   3701    Mr           1    U            1  ",
      "text/html": "<div>\n<style scoped>\n    .dataframe tbody tr th:only-of-type {\n        vertical-align: middle;\n    }\n\n    .dataframe tbody tr th {\n        vertical-align: top;\n    }\n\n    .dataframe thead th {\n        text-align: right;\n    }\n</style>\n<table border=\"1\" class=\"dataframe\">\n  <thead>\n    <tr style=\"text-align: right;\">\n      <th></th>\n      <th>Age</th>\n      <th>Cabin</th>\n      <th>Embarked</th>\n      <th>Fare</th>\n      <th>Name</th>\n      <th>Parch</th>\n      <th>PassengerId</th>\n      <th>Pclass</th>\n      <th>Sex</th>\n      <th>SibSp</th>\n      <th>Survived</th>\n      <th>Ticket</th>\n      <th>Title</th>\n      <th>FamilySize</th>\n      <th>Desk</th>\n      <th>TicketGroup</th>\n    </tr>\n  </thead>\n  <tbody>\n    <tr>\n      <th>1043</th>\n      <td>60.5</td>\n      <td>Unknown</td>\n      <td>S</td>\n      <td>NaN</td>\n      <td>Storey, Mr. Thomas</td>\n      <td>0</td>\n      <td>1044</td>\n      <td>3</td>\n      <td>male</td>\n      <td>0</td>\n      <td>NaN</td>\n      <td>3701</td>\n      <td>Mr</td>\n      <td>1</td>\n      <td>U</td>\n      <td>1</td>\n    </tr>\n  </tbody>\n</table>\n</div>"
     },
     "execution_count": 33,
     "metadata": {},
     "output_type": "execute_result"
    }
   ]
  },
  {
   "cell_type": "code",
   "source": [
    "fare = all_data[(all_data['Embarked'] == 'S') & (all_data['Pclass'] == 3)].Fare.median()\n",
    "all_data['Fare'] = all_data['Fare'].fillna(fare)"
   ],
   "metadata": {
    "execution": {
     "iopub.status.busy": "2022-07-07T11:03:41.509767Z",
     "iopub.execute_input": "2022-07-07T11:03:41.510341Z",
     "iopub.status.idle": "2022-07-07T11:03:41.518446Z",
     "shell.execute_reply.started": "2022-07-07T11:03:41.510309Z",
     "shell.execute_reply": "2022-07-07T11:03:41.517462Z"
    },
    "trusted": true
   },
   "execution_count": 34,
   "outputs": []
  },
  {
   "cell_type": "markdown",
   "source": [
    "2.异常值处理         \n",
    "- 多人家庭中没有获救的女性和儿童为异常值"
   ],
   "metadata": {}
  },
  {
   "cell_type": "code",
   "source": [
    "all_data['Surname'] = all_data['Name'].apply(lambda x : x.split(',')[0].strip()) "
   ],
   "metadata": {
    "execution": {
     "iopub.status.busy": "2022-07-07T11:03:41.519812Z",
     "iopub.execute_input": "2022-07-07T11:03:41.520262Z",
     "iopub.status.idle": "2022-07-07T11:03:41.531092Z",
     "shell.execute_reply.started": "2022-07-07T11:03:41.520229Z",
     "shell.execute_reply": "2022-07-07T11:03:41.530009Z"
    },
    "trusted": true
   },
   "execution_count": 35,
   "outputs": []
  },
  {
   "cell_type": "code",
   "source": [
    "Surname_count = dict(all_data['Surname'].value_counts())\n",
    "all_data['Family_count'] = all_data['Surname'].apply(lambda x : Surname_count[x])"
   ],
   "metadata": {
    "execution": {
     "iopub.status.busy": "2022-07-07T11:03:41.532604Z",
     "iopub.execute_input": "2022-07-07T11:03:41.533174Z",
     "iopub.status.idle": "2022-07-07T11:03:41.550628Z",
     "shell.execute_reply.started": "2022-07-07T11:03:41.533131Z",
     "shell.execute_reply": "2022-07-07T11:03:41.549349Z"
    },
    "trusted": true
   },
   "execution_count": 36,
   "outputs": []
  },
  {
   "cell_type": "code",
   "source": [
    "#找出所有处于多人家庭的儿童和妇女和成年男性\n",
    "Female_Child_Count = all_data.loc[(all_data['Family_count'] >= 2) & ((all_data['Age'] <= 12) | (all_data['Sex'] == 'female'))]\n",
    "Male_Adult_Count = all_data.loc[(all_data['Family_count'] >= 2) & (all_data['Age'] > 12) & (all_data['Sex'] == 'male')]"
   ],
   "metadata": {
    "execution": {
     "iopub.status.busy": "2022-07-07T11:03:41.552296Z",
     "iopub.execute_input": "2022-07-07T11:03:41.553240Z",
     "iopub.status.idle": "2022-07-07T11:03:41.567211Z",
     "shell.execute_reply.started": "2022-07-07T11:03:41.553194Z",
     "shell.execute_reply": "2022-07-07T11:03:41.566344Z"
    },
    "trusted": true
   },
   "execution_count": 37,
   "outputs": []
  },
  {
   "cell_type": "code",
   "source": [
    "Female_Child_Count"
   ],
   "metadata": {
    "execution": {
     "iopub.status.busy": "2022-07-07T11:03:41.568909Z",
     "iopub.execute_input": "2022-07-07T11:03:41.569333Z",
     "iopub.status.idle": "2022-07-07T11:03:41.605051Z",
     "shell.execute_reply.started": "2022-07-07T11:03:41.569290Z",
     "shell.execute_reply": "2022-07-07T11:03:41.603948Z"
    },
    "trusted": true
   },
   "execution_count": 38,
   "outputs": [
    {
     "data": {
      "text/plain": "            Age        Cabin Embarked      Fare  \\\n1     38.000000          C85        C   71.2833   \n3     35.000000         C123        S   53.1000   \n7      2.000000      Unknown        S   21.0750   \n8     27.000000      Unknown        S   11.1333   \n9     14.000000      Unknown        C   30.0708   \n10     4.000000           G6        S   16.7000   \n11    58.000000         C103        S   26.5500   \n16     2.000000      Unknown        Q   29.1250   \n18    31.000000      Unknown        S   18.0000   \n22    15.000000      Unknown        Q    8.0292   \n24     8.000000      Unknown        S   21.0750   \n25    38.000000      Unknown        S   31.3875   \n31    43.114696          B78        C  146.5208   \n38    18.000000      Unknown        S   18.0000   \n39    14.000000      Unknown        C   11.2417   \n41    27.000000      Unknown        S   21.0000   \n43     3.000000      Unknown        C   41.5792   \n49    18.000000      Unknown        S   17.8000   \n50     7.000000      Unknown        S   39.6875   \n52    49.000000          D33        C   76.7292   \n53    29.000000      Unknown        S   26.0000   \n58     5.000000      Unknown        S   27.7500   \n59    11.000000      Unknown        S   46.9000   \n63     4.000000      Unknown        S   27.9000   \n65     6.035599      Unknown        C   15.2458   \n68    17.000000      Unknown        S    7.9250   \n71    16.000000      Unknown        S   46.9000   \n78     0.830000      Unknown        S   29.0000   \n85    33.000000      Unknown        S   15.8500   \n88    23.000000  C23 C25 C27        S  263.0000   \n...         ...          ...      ...       ...   \n1224  19.000000      Unknown        C   15.7417   \n1230   6.035599      Unknown        C    7.2292   \n1234  58.000000  B51 B53 B55        C  512.3292   \n1235   6.035599      Unknown        S   14.5000   \n1236  16.000000      Unknown        S    7.6500   \n1241  45.000000      D10 D12        C   63.3583   \n1245   0.170000      Unknown        S   20.5750   \n1247  59.000000         C101        S   51.4792   \n1250  30.000000      Unknown        S   15.5500   \n1252  24.000000      Unknown        C   37.0042   \n1253  31.000000      Unknown        S   21.0000   \n1255  25.000000          E50        C   55.4417   \n1256  32.494343      Unknown        S   69.5500   \n1259  45.000000      Unknown        C   59.4000   \n1265  54.000000          A34        S   81.8583   \n1266  45.000000      Unknown        C  262.3750   \n1267  22.000000      Unknown        S    8.6625   \n1270   5.000000      Unknown        S   31.3875   \n1273  32.494343      Unknown        S   14.5000   \n1274  19.000000      Unknown        S   16.1000   \n1276  24.000000      Unknown        S   65.0000   \n1280   6.000000      Unknown        S   21.0750   \n1282  51.000000          D28        S   39.4000   \n1286  18.000000          C31        S   60.0000   \n1288  48.000000          B41        C   79.2000   \n1291  30.000000           C7        S  164.8667   \n1293  22.000000      Unknown        C   59.4000   \n1300   3.000000      Unknown        S   13.7750   \n1302  37.000000          C78        Q   90.0000   \n1308   6.035599      Unknown        C   22.3583   \n\n                                                   Name  Parch  PassengerId  \\\n1     Cumings, Mrs. John Bradley (Florence Briggs Th...      0            2   \n3          Futrelle, Mrs. Jacques Heath (Lily May Peel)      0            4   \n7                        Palsson, Master. Gosta Leonard      1            8   \n8     Johnson, Mrs. Oscar W (Elisabeth Vilhelmina Berg)      2            9   \n9                   Nasser, Mrs. Nicholas (Adele Achem)      0           10   \n10                      Sandstrom, Miss. Marguerite Rut      1           11   \n11                             Bonnell, Miss. Elizabeth      0           12   \n16                                 Rice, Master. Eugene      1           17   \n18    Vander Planke, Mrs. Julius (Emelia Maria Vande...      0           19   \n22                          McGowan, Miss. Anna \"Annie\"      0           23   \n24                        Palsson, Miss. Torborg Danira      1           25   \n25    Asplund, Mrs. Carl Oscar (Selma Augusta Emilia...      5           26   \n31       Spencer, Mrs. William Augustus (Marie Eugenie)      0           32   \n38                   Vander Planke, Miss. Augusta Maria      0           39   \n39                          Nicola-Yarred, Miss. Jamila      0           40   \n41    Turpin, Mrs. William John Robert (Dorothy Ann ...      0           42   \n43             Laroche, Miss. Simonne Marie Anne Andree      2           44   \n49        Arnold-Franchi, Mrs. Josef (Josefine Franchi)      0           50   \n50                           Panula, Master. Juha Niilo      1           51   \n52             Harper, Mrs. Henry Sleeper (Myna Haxtun)      0           53   \n53    Faunthorpe, Mrs. Lizzie (Elizabeth Anne Wilkin...      0           54   \n58                         West, Miss. Constance Mirium      2           59   \n59                   Goodwin, Master. William Frederick      2           60   \n63                                Skoog, Master. Harald      2           64   \n65                             Moubarek, Master. Gerios      1           66   \n68                      Andersson, Miss. Erna Alexandra      2           69   \n71                           Goodwin, Miss. Lillian Amy      2           72   \n78                        Caldwell, Master. Alden Gates      2           79   \n85    Backstrom, Mrs. Karl Alfred (Maria Mathilda Gu...      0           86   \n88                           Fortune, Miss. Mabel Helen      2           89   \n...                                                 ...    ...          ...   \n1224              Nakid, Mrs. Said (Waika Mary\" Mowad)\"      1         1225   \n1230                              Betros, Master. Seman      0         1231   \n1234  Cardeza, Mrs. James Warburton Martinez (Charlo...      1         1235   \n1235                van Billiard, Master. James William      1         1236   \n1236                        Abelseth, Miss. Karen Marie      0         1237   \n1241       Greenfield, Mrs. Leo David (Blanche Strouse)      1         1242   \n1245            Dean, Miss. Elizabeth Gladys Millvina\"\"      2         1246   \n1247     Brown, Mrs. John Murray (Caroline Lane Lamson)      0         1248   \n1250  Lindell, Mrs. Edvard Bengtsson (Elin Gerda Per...      0         1251   \n1252            Mallet, Mrs. Albert (Antoinette Magnin)      1         1253   \n1253       Ware, Mrs. John James (Florence Louise Long)      0         1254   \n1255       Harder, Mrs. George Achilles (Dorothy Annan)      0         1256   \n1256                     Sage, Mrs. John (Annie Bullen)      9         1257   \n1259            Gibson, Mrs. Leonard (Pauline C Boeson)      1         1260   \n1265              Dodge, Mrs. Washington (Ruth Vidaver)      1         1266   \n1266                           Bowen, Miss. Grace Scott      0         1267   \n1267                                  Kink, Miss. Maria      0         1268   \n1270                        Asplund, Master. Carl Edgar      2         1271   \n1273                         Risien, Mrs. Samuel (Emma)      0         1274   \n1274                McNamee, Mrs. Neal (Eileen O'Leary)      0         1275   \n1276                                 Herman, Miss. Kate      2         1277   \n1280                        Palsson, Master. Paul Folke      1         1281   \n1282     Lines, Mrs. Ernest H (Elizabeth Lindsey James)      1         1283   \n1286     Smith, Mrs. Lucien Philip (Mary Eloise Hughes)      0         1287   \n1288  Frolicher-Stehli, Mrs. Maxmillian (Margaretha ...      1         1289   \n1291                            Bonnell, Miss. Caroline      0         1292   \n1293                     Gibson, Miss. Dorothy Winifred      1         1294   \n1300                          Peacock, Miss. Treasteall      1         1301   \n1302    Minahan, Mrs. William Edward (Lillian E Thorpe)      0         1303   \n1308                           Peter, Master. Michael J      1         1309   \n\n      Pclass     Sex  SibSp  Survived              Ticket   Title  FamilySize  \\\n1          1  female      1       1.0            PC 17599     Mrs           2   \n3          1  female      1       1.0              113803     Mrs           2   \n7          3    male      3       0.0              349909  Master           5   \n8          3  female      0       1.0              347742     Mrs           3   \n9          2  female      1       1.0              237736     Mrs           2   \n10         3  female      1       1.0             PP 9549    Miss           3   \n11         1  female      0       1.0              113783    Miss           1   \n16         3    male      4       0.0              382652  Master           6   \n18         3  female      1       0.0              345763     Mrs           2   \n22         3  female      0       1.0              330923    Miss           1   \n24         3  female      3       0.0              349909    Miss           5   \n25         3  female      1       1.0              347077     Mrs           7   \n31         1  female      1       1.0            PC 17569     Mrs           2   \n38         3  female      2       0.0              345764    Miss           3   \n39         3  female      1       1.0                2651    Miss           2   \n41         2  female      1       0.0               11668     Mrs           2   \n43         2  female      1       1.0       SC/Paris 2123    Miss           4   \n49         3  female      1       0.0              349237     Mrs           2   \n50         3    male      4       0.0             3101295  Master           6   \n52         1  female      1       1.0            PC 17572     Mrs           2   \n53         2  female      1       1.0                2926     Mrs           2   \n58         2  female      1       1.0          C.A. 34651    Miss           4   \n59         3    male      5       0.0             CA 2144  Master           8   \n63         3    male      3       0.0              347088  Master           6   \n65         3    male      1       1.0                2661  Master           3   \n68         3  female      4       1.0             3101281    Miss           7   \n71         3  female      5       0.0             CA 2144    Miss           8   \n78         2    male      0       1.0              248738  Master           3   \n85         3  female      3       1.0             3101278     Mrs           4   \n88         1  female      3       1.0               19950    Miss           6   \n...      ...     ...    ...       ...                 ...     ...         ...   \n1224       3  female      1       NaN                2653     Mrs           3   \n1230       3    male      0       NaN                2622  Master           1   \n1234       1  female      0       NaN            PC 17755     Mrs           2   \n1235       3    male      1       NaN            A/5. 851  Master           3   \n1236       3  female      0       NaN              348125    Miss           1   \n1241       1  female      0       NaN            PC 17759     Mrs           2   \n1245       3  female      1       NaN           C.A. 2315    Miss           4   \n1247       1  female      2       NaN               11769     Mrs           3   \n1250       3  female      1       NaN              349910     Mrs           2   \n1252       2  female      1       NaN     S.C./PARIS 2079     Mrs           3   \n1253       2  female      0       NaN            CA 31352     Mrs           1   \n1255       1  female      1       NaN               11765     Mrs           2   \n1256       3  female      1       NaN            CA. 2343     Mrs          11   \n1259       1  female      0       NaN              112378     Mrs           2   \n1265       1  female      1       NaN               33638     Mrs           3   \n1266       1  female      0       NaN            PC 17608    Miss           1   \n1267       3  female      2       NaN              315152    Miss           3   \n1270       3    male      4       NaN              347077  Master           7   \n1273       3  female      0       NaN              364498     Mrs           1   \n1274       3  female      1       NaN              376566     Mrs           2   \n1276       2  female      1       NaN              220845    Miss           4   \n1280       3    male      3       NaN              349909  Master           5   \n1282       1  female      0       NaN            PC 17592     Mrs           2   \n1286       1  female      1       NaN               13695     Mrs           2   \n1288       1  female      1       NaN               13567     Mrs           3   \n1291       1  female      0       NaN               36928    Miss           1   \n1293       1  female      0       NaN              112378    Miss           2   \n1300       3  female      1       NaN  SOTON/O.Q. 3101315    Miss           3   \n1302       1  female      1       NaN               19928     Mrs           2   \n1308       3    male      1       NaN                2668  Master           3   \n\n     Desk  TicketGroup           Surname  Family_count  \n1       C            2           Cumings             2  \n3       C            2          Futrelle             2  \n7       U            1           Palsson             5  \n8       U            2           Johnson             6  \n9       U            2            Nasser             2  \n10      G            2         Sandstrom             3  \n11      C            1           Bonnell             2  \n16      U            1              Rice             6  \n18      U            2     Vander Planke             4  \n22      U            1           McGowan             2  \n24      U            1           Palsson             5  \n25      U            1           Asplund             8  \n31      B            2           Spencer             2  \n38      U            2     Vander Planke             4  \n39      U            2     Nicola-Yarred             2  \n41      U            2            Turpin             2  \n43      U            2           Laroche             4  \n49      U            2    Arnold-Franchi             2  \n50      U            1            Panula             6  \n52      D            2            Harper             4  \n53      U            2        Faunthorpe             2  \n58      U            2              West             4  \n59      U            1           Goodwin             8  \n63      U            1             Skoog             6  \n65      U            2          Moubarek             3  \n68      U            1         Andersson            11  \n71      U            1           Goodwin             8  \n78      U            2          Caldwell             3  \n85      U            2         Backstrom             2  \n88      C            1           Fortune             6  \n...   ...          ...               ...           ...  \n1224    U            2             Nakid             3  \n1230    U            1            Betros             2  \n1234    B            2           Cardeza             2  \n1235    U            2      van Billiard             3  \n1236    U            1          Abelseth             2  \n1241    D            2        Greenfield             2  \n1245    U            2              Dean             4  \n1247    C            2             Brown             6  \n1250    U            2           Lindell             2  \n1252    U            2            Mallet             3  \n1253    U            2              Ware             4  \n1255    E            2            Harder             2  \n1256    U            0              Sage            11  \n1259    U            2            Gibson             2  \n1265    A            2             Dodge             3  \n1266    U            1             Bowen             2  \n1267    U            1              Kink             2  \n1270    U            1           Asplund             8  \n1273    U            2            Risien             2  \n1274    U            2           McNamee             2  \n1276    U            1            Herman             4  \n1280    U            1           Palsson             5  \n1282    D            2             Lines             2  \n1286    C            2             Smith             6  \n1288    B            2  Frolicher-Stehli             2  \n1291    C            2           Bonnell             2  \n1293    U            2            Gibson             2  \n1300    U            2           Peacock             3  \n1302    C            2           Minahan             3  \n1308    U            2             Peter             3  \n\n[358 rows x 18 columns]",
      "text/html": "<div>\n<style scoped>\n    .dataframe tbody tr th:only-of-type {\n        vertical-align: middle;\n    }\n\n    .dataframe tbody tr th {\n        vertical-align: top;\n    }\n\n    .dataframe thead th {\n        text-align: right;\n    }\n</style>\n<table border=\"1\" class=\"dataframe\">\n  <thead>\n    <tr style=\"text-align: right;\">\n      <th></th>\n      <th>Age</th>\n      <th>Cabin</th>\n      <th>Embarked</th>\n      <th>Fare</th>\n      <th>Name</th>\n      <th>Parch</th>\n      <th>PassengerId</th>\n      <th>Pclass</th>\n      <th>Sex</th>\n      <th>SibSp</th>\n      <th>Survived</th>\n      <th>Ticket</th>\n      <th>Title</th>\n      <th>FamilySize</th>\n      <th>Desk</th>\n      <th>TicketGroup</th>\n      <th>Surname</th>\n      <th>Family_count</th>\n    </tr>\n  </thead>\n  <tbody>\n    <tr>\n      <th>1</th>\n      <td>38.000000</td>\n      <td>C85</td>\n      <td>C</td>\n      <td>71.2833</td>\n      <td>Cumings, Mrs. John Bradley (Florence Briggs Th...</td>\n      <td>0</td>\n      <td>2</td>\n      <td>1</td>\n      <td>female</td>\n      <td>1</td>\n      <td>1.0</td>\n      <td>PC 17599</td>\n      <td>Mrs</td>\n      <td>2</td>\n      <td>C</td>\n      <td>2</td>\n      <td>Cumings</td>\n      <td>2</td>\n    </tr>\n    <tr>\n      <th>3</th>\n      <td>35.000000</td>\n      <td>C123</td>\n      <td>S</td>\n      <td>53.1000</td>\n      <td>Futrelle, Mrs. Jacques Heath (Lily May Peel)</td>\n      <td>0</td>\n      <td>4</td>\n      <td>1</td>\n      <td>female</td>\n      <td>1</td>\n      <td>1.0</td>\n      <td>113803</td>\n      <td>Mrs</td>\n      <td>2</td>\n      <td>C</td>\n      <td>2</td>\n      <td>Futrelle</td>\n      <td>2</td>\n    </tr>\n    <tr>\n      <th>7</th>\n      <td>2.000000</td>\n      <td>Unknown</td>\n      <td>S</td>\n      <td>21.0750</td>\n      <td>Palsson, Master. Gosta Leonard</td>\n      <td>1</td>\n      <td>8</td>\n      <td>3</td>\n      <td>male</td>\n      <td>3</td>\n      <td>0.0</td>\n      <td>349909</td>\n      <td>Master</td>\n      <td>5</td>\n      <td>U</td>\n      <td>1</td>\n      <td>Palsson</td>\n      <td>5</td>\n    </tr>\n    <tr>\n      <th>8</th>\n      <td>27.000000</td>\n      <td>Unknown</td>\n      <td>S</td>\n      <td>11.1333</td>\n      <td>Johnson, Mrs. Oscar W (Elisabeth Vilhelmina Berg)</td>\n      <td>2</td>\n      <td>9</td>\n      <td>3</td>\n      <td>female</td>\n      <td>0</td>\n      <td>1.0</td>\n      <td>347742</td>\n      <td>Mrs</td>\n      <td>3</td>\n      <td>U</td>\n      <td>2</td>\n      <td>Johnson</td>\n      <td>6</td>\n    </tr>\n    <tr>\n      <th>9</th>\n      <td>14.000000</td>\n      <td>Unknown</td>\n      <td>C</td>\n      <td>30.0708</td>\n      <td>Nasser, Mrs. Nicholas (Adele Achem)</td>\n      <td>0</td>\n      <td>10</td>\n      <td>2</td>\n      <td>female</td>\n      <td>1</td>\n      <td>1.0</td>\n      <td>237736</td>\n      <td>Mrs</td>\n      <td>2</td>\n      <td>U</td>\n      <td>2</td>\n      <td>Nasser</td>\n      <td>2</td>\n    </tr>\n    <tr>\n      <th>10</th>\n      <td>4.000000</td>\n      <td>G6</td>\n      <td>S</td>\n      <td>16.7000</td>\n      <td>Sandstrom, Miss. Marguerite Rut</td>\n      <td>1</td>\n      <td>11</td>\n      <td>3</td>\n      <td>female</td>\n      <td>1</td>\n      <td>1.0</td>\n      <td>PP 9549</td>\n      <td>Miss</td>\n      <td>3</td>\n      <td>G</td>\n      <td>2</td>\n      <td>Sandstrom</td>\n      <td>3</td>\n    </tr>\n    <tr>\n      <th>11</th>\n      <td>58.000000</td>\n      <td>C103</td>\n      <td>S</td>\n      <td>26.5500</td>\n      <td>Bonnell, Miss. Elizabeth</td>\n      <td>0</td>\n      <td>12</td>\n      <td>1</td>\n      <td>female</td>\n      <td>0</td>\n      <td>1.0</td>\n      <td>113783</td>\n      <td>Miss</td>\n      <td>1</td>\n      <td>C</td>\n      <td>1</td>\n      <td>Bonnell</td>\n      <td>2</td>\n    </tr>\n    <tr>\n      <th>16</th>\n      <td>2.000000</td>\n      <td>Unknown</td>\n      <td>Q</td>\n      <td>29.1250</td>\n      <td>Rice, Master. Eugene</td>\n      <td>1</td>\n      <td>17</td>\n      <td>3</td>\n      <td>male</td>\n      <td>4</td>\n      <td>0.0</td>\n      <td>382652</td>\n      <td>Master</td>\n      <td>6</td>\n      <td>U</td>\n      <td>1</td>\n      <td>Rice</td>\n      <td>6</td>\n    </tr>\n    <tr>\n      <th>18</th>\n      <td>31.000000</td>\n      <td>Unknown</td>\n      <td>S</td>\n      <td>18.0000</td>\n      <td>Vander Planke, Mrs. Julius (Emelia Maria Vande...</td>\n      <td>0</td>\n      <td>19</td>\n      <td>3</td>\n      <td>female</td>\n      <td>1</td>\n      <td>0.0</td>\n      <td>345763</td>\n      <td>Mrs</td>\n      <td>2</td>\n      <td>U</td>\n      <td>2</td>\n      <td>Vander Planke</td>\n      <td>4</td>\n    </tr>\n    <tr>\n      <th>22</th>\n      <td>15.000000</td>\n      <td>Unknown</td>\n      <td>Q</td>\n      <td>8.0292</td>\n      <td>McGowan, Miss. Anna \"Annie\"</td>\n      <td>0</td>\n      <td>23</td>\n      <td>3</td>\n      <td>female</td>\n      <td>0</td>\n      <td>1.0</td>\n      <td>330923</td>\n      <td>Miss</td>\n      <td>1</td>\n      <td>U</td>\n      <td>1</td>\n      <td>McGowan</td>\n      <td>2</td>\n    </tr>\n    <tr>\n      <th>24</th>\n      <td>8.000000</td>\n      <td>Unknown</td>\n      <td>S</td>\n      <td>21.0750</td>\n      <td>Palsson, Miss. Torborg Danira</td>\n      <td>1</td>\n      <td>25</td>\n      <td>3</td>\n      <td>female</td>\n      <td>3</td>\n      <td>0.0</td>\n      <td>349909</td>\n      <td>Miss</td>\n      <td>5</td>\n      <td>U</td>\n      <td>1</td>\n      <td>Palsson</td>\n      <td>5</td>\n    </tr>\n    <tr>\n      <th>25</th>\n      <td>38.000000</td>\n      <td>Unknown</td>\n      <td>S</td>\n      <td>31.3875</td>\n      <td>Asplund, Mrs. Carl Oscar (Selma Augusta Emilia...</td>\n      <td>5</td>\n      <td>26</td>\n      <td>3</td>\n      <td>female</td>\n      <td>1</td>\n      <td>1.0</td>\n      <td>347077</td>\n      <td>Mrs</td>\n      <td>7</td>\n      <td>U</td>\n      <td>1</td>\n      <td>Asplund</td>\n      <td>8</td>\n    </tr>\n    <tr>\n      <th>31</th>\n      <td>43.114696</td>\n      <td>B78</td>\n      <td>C</td>\n      <td>146.5208</td>\n      <td>Spencer, Mrs. William Augustus (Marie Eugenie)</td>\n      <td>0</td>\n      <td>32</td>\n      <td>1</td>\n      <td>female</td>\n      <td>1</td>\n      <td>1.0</td>\n      <td>PC 17569</td>\n      <td>Mrs</td>\n      <td>2</td>\n      <td>B</td>\n      <td>2</td>\n      <td>Spencer</td>\n      <td>2</td>\n    </tr>\n    <tr>\n      <th>38</th>\n      <td>18.000000</td>\n      <td>Unknown</td>\n      <td>S</td>\n      <td>18.0000</td>\n      <td>Vander Planke, Miss. Augusta Maria</td>\n      <td>0</td>\n      <td>39</td>\n      <td>3</td>\n      <td>female</td>\n      <td>2</td>\n      <td>0.0</td>\n      <td>345764</td>\n      <td>Miss</td>\n      <td>3</td>\n      <td>U</td>\n      <td>2</td>\n      <td>Vander Planke</td>\n      <td>4</td>\n    </tr>\n    <tr>\n      <th>39</th>\n      <td>14.000000</td>\n      <td>Unknown</td>\n      <td>C</td>\n      <td>11.2417</td>\n      <td>Nicola-Yarred, Miss. Jamila</td>\n      <td>0</td>\n      <td>40</td>\n      <td>3</td>\n      <td>female</td>\n      <td>1</td>\n      <td>1.0</td>\n      <td>2651</td>\n      <td>Miss</td>\n      <td>2</td>\n      <td>U</td>\n      <td>2</td>\n      <td>Nicola-Yarred</td>\n      <td>2</td>\n    </tr>\n    <tr>\n      <th>41</th>\n      <td>27.000000</td>\n      <td>Unknown</td>\n      <td>S</td>\n      <td>21.0000</td>\n      <td>Turpin, Mrs. William John Robert (Dorothy Ann ...</td>\n      <td>0</td>\n      <td>42</td>\n      <td>2</td>\n      <td>female</td>\n      <td>1</td>\n      <td>0.0</td>\n      <td>11668</td>\n      <td>Mrs</td>\n      <td>2</td>\n      <td>U</td>\n      <td>2</td>\n      <td>Turpin</td>\n      <td>2</td>\n    </tr>\n    <tr>\n      <th>43</th>\n      <td>3.000000</td>\n      <td>Unknown</td>\n      <td>C</td>\n      <td>41.5792</td>\n      <td>Laroche, Miss. Simonne Marie Anne Andree</td>\n      <td>2</td>\n      <td>44</td>\n      <td>2</td>\n      <td>female</td>\n      <td>1</td>\n      <td>1.0</td>\n      <td>SC/Paris 2123</td>\n      <td>Miss</td>\n      <td>4</td>\n      <td>U</td>\n      <td>2</td>\n      <td>Laroche</td>\n      <td>4</td>\n    </tr>\n    <tr>\n      <th>49</th>\n      <td>18.000000</td>\n      <td>Unknown</td>\n      <td>S</td>\n      <td>17.8000</td>\n      <td>Arnold-Franchi, Mrs. Josef (Josefine Franchi)</td>\n      <td>0</td>\n      <td>50</td>\n      <td>3</td>\n      <td>female</td>\n      <td>1</td>\n      <td>0.0</td>\n      <td>349237</td>\n      <td>Mrs</td>\n      <td>2</td>\n      <td>U</td>\n      <td>2</td>\n      <td>Arnold-Franchi</td>\n      <td>2</td>\n    </tr>\n    <tr>\n      <th>50</th>\n      <td>7.000000</td>\n      <td>Unknown</td>\n      <td>S</td>\n      <td>39.6875</td>\n      <td>Panula, Master. Juha Niilo</td>\n      <td>1</td>\n      <td>51</td>\n      <td>3</td>\n      <td>male</td>\n      <td>4</td>\n      <td>0.0</td>\n      <td>3101295</td>\n      <td>Master</td>\n      <td>6</td>\n      <td>U</td>\n      <td>1</td>\n      <td>Panula</td>\n      <td>6</td>\n    </tr>\n    <tr>\n      <th>52</th>\n      <td>49.000000</td>\n      <td>D33</td>\n      <td>C</td>\n      <td>76.7292</td>\n      <td>Harper, Mrs. Henry Sleeper (Myna Haxtun)</td>\n      <td>0</td>\n      <td>53</td>\n      <td>1</td>\n      <td>female</td>\n      <td>1</td>\n      <td>1.0</td>\n      <td>PC 17572</td>\n      <td>Mrs</td>\n      <td>2</td>\n      <td>D</td>\n      <td>2</td>\n      <td>Harper</td>\n      <td>4</td>\n    </tr>\n    <tr>\n      <th>53</th>\n      <td>29.000000</td>\n      <td>Unknown</td>\n      <td>S</td>\n      <td>26.0000</td>\n      <td>Faunthorpe, Mrs. Lizzie (Elizabeth Anne Wilkin...</td>\n      <td>0</td>\n      <td>54</td>\n      <td>2</td>\n      <td>female</td>\n      <td>1</td>\n      <td>1.0</td>\n      <td>2926</td>\n      <td>Mrs</td>\n      <td>2</td>\n      <td>U</td>\n      <td>2</td>\n      <td>Faunthorpe</td>\n      <td>2</td>\n    </tr>\n    <tr>\n      <th>58</th>\n      <td>5.000000</td>\n      <td>Unknown</td>\n      <td>S</td>\n      <td>27.7500</td>\n      <td>West, Miss. Constance Mirium</td>\n      <td>2</td>\n      <td>59</td>\n      <td>2</td>\n      <td>female</td>\n      <td>1</td>\n      <td>1.0</td>\n      <td>C.A. 34651</td>\n      <td>Miss</td>\n      <td>4</td>\n      <td>U</td>\n      <td>2</td>\n      <td>West</td>\n      <td>4</td>\n    </tr>\n    <tr>\n      <th>59</th>\n      <td>11.000000</td>\n      <td>Unknown</td>\n      <td>S</td>\n      <td>46.9000</td>\n      <td>Goodwin, Master. William Frederick</td>\n      <td>2</td>\n      <td>60</td>\n      <td>3</td>\n      <td>male</td>\n      <td>5</td>\n      <td>0.0</td>\n      <td>CA 2144</td>\n      <td>Master</td>\n      <td>8</td>\n      <td>U</td>\n      <td>1</td>\n      <td>Goodwin</td>\n      <td>8</td>\n    </tr>\n    <tr>\n      <th>63</th>\n      <td>4.000000</td>\n      <td>Unknown</td>\n      <td>S</td>\n      <td>27.9000</td>\n      <td>Skoog, Master. Harald</td>\n      <td>2</td>\n      <td>64</td>\n      <td>3</td>\n      <td>male</td>\n      <td>3</td>\n      <td>0.0</td>\n      <td>347088</td>\n      <td>Master</td>\n      <td>6</td>\n      <td>U</td>\n      <td>1</td>\n      <td>Skoog</td>\n      <td>6</td>\n    </tr>\n    <tr>\n      <th>65</th>\n      <td>6.035599</td>\n      <td>Unknown</td>\n      <td>C</td>\n      <td>15.2458</td>\n      <td>Moubarek, Master. Gerios</td>\n      <td>1</td>\n      <td>66</td>\n      <td>3</td>\n      <td>male</td>\n      <td>1</td>\n      <td>1.0</td>\n      <td>2661</td>\n      <td>Master</td>\n      <td>3</td>\n      <td>U</td>\n      <td>2</td>\n      <td>Moubarek</td>\n      <td>3</td>\n    </tr>\n    <tr>\n      <th>68</th>\n      <td>17.000000</td>\n      <td>Unknown</td>\n      <td>S</td>\n      <td>7.9250</td>\n      <td>Andersson, Miss. Erna Alexandra</td>\n      <td>2</td>\n      <td>69</td>\n      <td>3</td>\n      <td>female</td>\n      <td>4</td>\n      <td>1.0</td>\n      <td>3101281</td>\n      <td>Miss</td>\n      <td>7</td>\n      <td>U</td>\n      <td>1</td>\n      <td>Andersson</td>\n      <td>11</td>\n    </tr>\n    <tr>\n      <th>71</th>\n      <td>16.000000</td>\n      <td>Unknown</td>\n      <td>S</td>\n      <td>46.9000</td>\n      <td>Goodwin, Miss. Lillian Amy</td>\n      <td>2</td>\n      <td>72</td>\n      <td>3</td>\n      <td>female</td>\n      <td>5</td>\n      <td>0.0</td>\n      <td>CA 2144</td>\n      <td>Miss</td>\n      <td>8</td>\n      <td>U</td>\n      <td>1</td>\n      <td>Goodwin</td>\n      <td>8</td>\n    </tr>\n    <tr>\n      <th>78</th>\n      <td>0.830000</td>\n      <td>Unknown</td>\n      <td>S</td>\n      <td>29.0000</td>\n      <td>Caldwell, Master. Alden Gates</td>\n      <td>2</td>\n      <td>79</td>\n      <td>2</td>\n      <td>male</td>\n      <td>0</td>\n      <td>1.0</td>\n      <td>248738</td>\n      <td>Master</td>\n      <td>3</td>\n      <td>U</td>\n      <td>2</td>\n      <td>Caldwell</td>\n      <td>3</td>\n    </tr>\n    <tr>\n      <th>85</th>\n      <td>33.000000</td>\n      <td>Unknown</td>\n      <td>S</td>\n      <td>15.8500</td>\n      <td>Backstrom, Mrs. Karl Alfred (Maria Mathilda Gu...</td>\n      <td>0</td>\n      <td>86</td>\n      <td>3</td>\n      <td>female</td>\n      <td>3</td>\n      <td>1.0</td>\n      <td>3101278</td>\n      <td>Mrs</td>\n      <td>4</td>\n      <td>U</td>\n      <td>2</td>\n      <td>Backstrom</td>\n      <td>2</td>\n    </tr>\n    <tr>\n      <th>88</th>\n      <td>23.000000</td>\n      <td>C23 C25 C27</td>\n      <td>S</td>\n      <td>263.0000</td>\n      <td>Fortune, Miss. Mabel Helen</td>\n      <td>2</td>\n      <td>89</td>\n      <td>1</td>\n      <td>female</td>\n      <td>3</td>\n      <td>1.0</td>\n      <td>19950</td>\n      <td>Miss</td>\n      <td>6</td>\n      <td>C</td>\n      <td>1</td>\n      <td>Fortune</td>\n      <td>6</td>\n    </tr>\n    <tr>\n      <th>...</th>\n      <td>...</td>\n      <td>...</td>\n      <td>...</td>\n      <td>...</td>\n      <td>...</td>\n      <td>...</td>\n      <td>...</td>\n      <td>...</td>\n      <td>...</td>\n      <td>...</td>\n      <td>...</td>\n      <td>...</td>\n      <td>...</td>\n      <td>...</td>\n      <td>...</td>\n      <td>...</td>\n      <td>...</td>\n      <td>...</td>\n    </tr>\n    <tr>\n      <th>1224</th>\n      <td>19.000000</td>\n      <td>Unknown</td>\n      <td>C</td>\n      <td>15.7417</td>\n      <td>Nakid, Mrs. Said (Waika Mary\" Mowad)\"</td>\n      <td>1</td>\n      <td>1225</td>\n      <td>3</td>\n      <td>female</td>\n      <td>1</td>\n      <td>NaN</td>\n      <td>2653</td>\n      <td>Mrs</td>\n      <td>3</td>\n      <td>U</td>\n      <td>2</td>\n      <td>Nakid</td>\n      <td>3</td>\n    </tr>\n    <tr>\n      <th>1230</th>\n      <td>6.035599</td>\n      <td>Unknown</td>\n      <td>C</td>\n      <td>7.2292</td>\n      <td>Betros, Master. Seman</td>\n      <td>0</td>\n      <td>1231</td>\n      <td>3</td>\n      <td>male</td>\n      <td>0</td>\n      <td>NaN</td>\n      <td>2622</td>\n      <td>Master</td>\n      <td>1</td>\n      <td>U</td>\n      <td>1</td>\n      <td>Betros</td>\n      <td>2</td>\n    </tr>\n    <tr>\n      <th>1234</th>\n      <td>58.000000</td>\n      <td>B51 B53 B55</td>\n      <td>C</td>\n      <td>512.3292</td>\n      <td>Cardeza, Mrs. James Warburton Martinez (Charlo...</td>\n      <td>1</td>\n      <td>1235</td>\n      <td>1</td>\n      <td>female</td>\n      <td>0</td>\n      <td>NaN</td>\n      <td>PC 17755</td>\n      <td>Mrs</td>\n      <td>2</td>\n      <td>B</td>\n      <td>2</td>\n      <td>Cardeza</td>\n      <td>2</td>\n    </tr>\n    <tr>\n      <th>1235</th>\n      <td>6.035599</td>\n      <td>Unknown</td>\n      <td>S</td>\n      <td>14.5000</td>\n      <td>van Billiard, Master. James William</td>\n      <td>1</td>\n      <td>1236</td>\n      <td>3</td>\n      <td>male</td>\n      <td>1</td>\n      <td>NaN</td>\n      <td>A/5. 851</td>\n      <td>Master</td>\n      <td>3</td>\n      <td>U</td>\n      <td>2</td>\n      <td>van Billiard</td>\n      <td>3</td>\n    </tr>\n    <tr>\n      <th>1236</th>\n      <td>16.000000</td>\n      <td>Unknown</td>\n      <td>S</td>\n      <td>7.6500</td>\n      <td>Abelseth, Miss. Karen Marie</td>\n      <td>0</td>\n      <td>1237</td>\n      <td>3</td>\n      <td>female</td>\n      <td>0</td>\n      <td>NaN</td>\n      <td>348125</td>\n      <td>Miss</td>\n      <td>1</td>\n      <td>U</td>\n      <td>1</td>\n      <td>Abelseth</td>\n      <td>2</td>\n    </tr>\n    <tr>\n      <th>1241</th>\n      <td>45.000000</td>\n      <td>D10 D12</td>\n      <td>C</td>\n      <td>63.3583</td>\n      <td>Greenfield, Mrs. Leo David (Blanche Strouse)</td>\n      <td>1</td>\n      <td>1242</td>\n      <td>1</td>\n      <td>female</td>\n      <td>0</td>\n      <td>NaN</td>\n      <td>PC 17759</td>\n      <td>Mrs</td>\n      <td>2</td>\n      <td>D</td>\n      <td>2</td>\n      <td>Greenfield</td>\n      <td>2</td>\n    </tr>\n    <tr>\n      <th>1245</th>\n      <td>0.170000</td>\n      <td>Unknown</td>\n      <td>S</td>\n      <td>20.5750</td>\n      <td>Dean, Miss. Elizabeth Gladys Millvina\"\"</td>\n      <td>2</td>\n      <td>1246</td>\n      <td>3</td>\n      <td>female</td>\n      <td>1</td>\n      <td>NaN</td>\n      <td>C.A. 2315</td>\n      <td>Miss</td>\n      <td>4</td>\n      <td>U</td>\n      <td>2</td>\n      <td>Dean</td>\n      <td>4</td>\n    </tr>\n    <tr>\n      <th>1247</th>\n      <td>59.000000</td>\n      <td>C101</td>\n      <td>S</td>\n      <td>51.4792</td>\n      <td>Brown, Mrs. John Murray (Caroline Lane Lamson)</td>\n      <td>0</td>\n      <td>1248</td>\n      <td>1</td>\n      <td>female</td>\n      <td>2</td>\n      <td>NaN</td>\n      <td>11769</td>\n      <td>Mrs</td>\n      <td>3</td>\n      <td>C</td>\n      <td>2</td>\n      <td>Brown</td>\n      <td>6</td>\n    </tr>\n    <tr>\n      <th>1250</th>\n      <td>30.000000</td>\n      <td>Unknown</td>\n      <td>S</td>\n      <td>15.5500</td>\n      <td>Lindell, Mrs. Edvard Bengtsson (Elin Gerda Per...</td>\n      <td>0</td>\n      <td>1251</td>\n      <td>3</td>\n      <td>female</td>\n      <td>1</td>\n      <td>NaN</td>\n      <td>349910</td>\n      <td>Mrs</td>\n      <td>2</td>\n      <td>U</td>\n      <td>2</td>\n      <td>Lindell</td>\n      <td>2</td>\n    </tr>\n    <tr>\n      <th>1252</th>\n      <td>24.000000</td>\n      <td>Unknown</td>\n      <td>C</td>\n      <td>37.0042</td>\n      <td>Mallet, Mrs. Albert (Antoinette Magnin)</td>\n      <td>1</td>\n      <td>1253</td>\n      <td>2</td>\n      <td>female</td>\n      <td>1</td>\n      <td>NaN</td>\n      <td>S.C./PARIS 2079</td>\n      <td>Mrs</td>\n      <td>3</td>\n      <td>U</td>\n      <td>2</td>\n      <td>Mallet</td>\n      <td>3</td>\n    </tr>\n    <tr>\n      <th>1253</th>\n      <td>31.000000</td>\n      <td>Unknown</td>\n      <td>S</td>\n      <td>21.0000</td>\n      <td>Ware, Mrs. John James (Florence Louise Long)</td>\n      <td>0</td>\n      <td>1254</td>\n      <td>2</td>\n      <td>female</td>\n      <td>0</td>\n      <td>NaN</td>\n      <td>CA 31352</td>\n      <td>Mrs</td>\n      <td>1</td>\n      <td>U</td>\n      <td>2</td>\n      <td>Ware</td>\n      <td>4</td>\n    </tr>\n    <tr>\n      <th>1255</th>\n      <td>25.000000</td>\n      <td>E50</td>\n      <td>C</td>\n      <td>55.4417</td>\n      <td>Harder, Mrs. George Achilles (Dorothy Annan)</td>\n      <td>0</td>\n      <td>1256</td>\n      <td>1</td>\n      <td>female</td>\n      <td>1</td>\n      <td>NaN</td>\n      <td>11765</td>\n      <td>Mrs</td>\n      <td>2</td>\n      <td>E</td>\n      <td>2</td>\n      <td>Harder</td>\n      <td>2</td>\n    </tr>\n    <tr>\n      <th>1256</th>\n      <td>32.494343</td>\n      <td>Unknown</td>\n      <td>S</td>\n      <td>69.5500</td>\n      <td>Sage, Mrs. John (Annie Bullen)</td>\n      <td>9</td>\n      <td>1257</td>\n      <td>3</td>\n      <td>female</td>\n      <td>1</td>\n      <td>NaN</td>\n      <td>CA. 2343</td>\n      <td>Mrs</td>\n      <td>11</td>\n      <td>U</td>\n      <td>0</td>\n      <td>Sage</td>\n      <td>11</td>\n    </tr>\n    <tr>\n      <th>1259</th>\n      <td>45.000000</td>\n      <td>Unknown</td>\n      <td>C</td>\n      <td>59.4000</td>\n      <td>Gibson, Mrs. Leonard (Pauline C Boeson)</td>\n      <td>1</td>\n      <td>1260</td>\n      <td>1</td>\n      <td>female</td>\n      <td>0</td>\n      <td>NaN</td>\n      <td>112378</td>\n      <td>Mrs</td>\n      <td>2</td>\n      <td>U</td>\n      <td>2</td>\n      <td>Gibson</td>\n      <td>2</td>\n    </tr>\n    <tr>\n      <th>1265</th>\n      <td>54.000000</td>\n      <td>A34</td>\n      <td>S</td>\n      <td>81.8583</td>\n      <td>Dodge, Mrs. Washington (Ruth Vidaver)</td>\n      <td>1</td>\n      <td>1266</td>\n      <td>1</td>\n      <td>female</td>\n      <td>1</td>\n      <td>NaN</td>\n      <td>33638</td>\n      <td>Mrs</td>\n      <td>3</td>\n      <td>A</td>\n      <td>2</td>\n      <td>Dodge</td>\n      <td>3</td>\n    </tr>\n    <tr>\n      <th>1266</th>\n      <td>45.000000</td>\n      <td>Unknown</td>\n      <td>C</td>\n      <td>262.3750</td>\n      <td>Bowen, Miss. Grace Scott</td>\n      <td>0</td>\n      <td>1267</td>\n      <td>1</td>\n      <td>female</td>\n      <td>0</td>\n      <td>NaN</td>\n      <td>PC 17608</td>\n      <td>Miss</td>\n      <td>1</td>\n      <td>U</td>\n      <td>1</td>\n      <td>Bowen</td>\n      <td>2</td>\n    </tr>\n    <tr>\n      <th>1267</th>\n      <td>22.000000</td>\n      <td>Unknown</td>\n      <td>S</td>\n      <td>8.6625</td>\n      <td>Kink, Miss. Maria</td>\n      <td>0</td>\n      <td>1268</td>\n      <td>3</td>\n      <td>female</td>\n      <td>2</td>\n      <td>NaN</td>\n      <td>315152</td>\n      <td>Miss</td>\n      <td>3</td>\n      <td>U</td>\n      <td>1</td>\n      <td>Kink</td>\n      <td>2</td>\n    </tr>\n    <tr>\n      <th>1270</th>\n      <td>5.000000</td>\n      <td>Unknown</td>\n      <td>S</td>\n      <td>31.3875</td>\n      <td>Asplund, Master. Carl Edgar</td>\n      <td>2</td>\n      <td>1271</td>\n      <td>3</td>\n      <td>male</td>\n      <td>4</td>\n      <td>NaN</td>\n      <td>347077</td>\n      <td>Master</td>\n      <td>7</td>\n      <td>U</td>\n      <td>1</td>\n      <td>Asplund</td>\n      <td>8</td>\n    </tr>\n    <tr>\n      <th>1273</th>\n      <td>32.494343</td>\n      <td>Unknown</td>\n      <td>S</td>\n      <td>14.5000</td>\n      <td>Risien, Mrs. Samuel (Emma)</td>\n      <td>0</td>\n      <td>1274</td>\n      <td>3</td>\n      <td>female</td>\n      <td>0</td>\n      <td>NaN</td>\n      <td>364498</td>\n      <td>Mrs</td>\n      <td>1</td>\n      <td>U</td>\n      <td>2</td>\n      <td>Risien</td>\n      <td>2</td>\n    </tr>\n    <tr>\n      <th>1274</th>\n      <td>19.000000</td>\n      <td>Unknown</td>\n      <td>S</td>\n      <td>16.1000</td>\n      <td>McNamee, Mrs. Neal (Eileen O'Leary)</td>\n      <td>0</td>\n      <td>1275</td>\n      <td>3</td>\n      <td>female</td>\n      <td>1</td>\n      <td>NaN</td>\n      <td>376566</td>\n      <td>Mrs</td>\n      <td>2</td>\n      <td>U</td>\n      <td>2</td>\n      <td>McNamee</td>\n      <td>2</td>\n    </tr>\n    <tr>\n      <th>1276</th>\n      <td>24.000000</td>\n      <td>Unknown</td>\n      <td>S</td>\n      <td>65.0000</td>\n      <td>Herman, Miss. Kate</td>\n      <td>2</td>\n      <td>1277</td>\n      <td>2</td>\n      <td>female</td>\n      <td>1</td>\n      <td>NaN</td>\n      <td>220845</td>\n      <td>Miss</td>\n      <td>4</td>\n      <td>U</td>\n      <td>1</td>\n      <td>Herman</td>\n      <td>4</td>\n    </tr>\n    <tr>\n      <th>1280</th>\n      <td>6.000000</td>\n      <td>Unknown</td>\n      <td>S</td>\n      <td>21.0750</td>\n      <td>Palsson, Master. Paul Folke</td>\n      <td>1</td>\n      <td>1281</td>\n      <td>3</td>\n      <td>male</td>\n      <td>3</td>\n      <td>NaN</td>\n      <td>349909</td>\n      <td>Master</td>\n      <td>5</td>\n      <td>U</td>\n      <td>1</td>\n      <td>Palsson</td>\n      <td>5</td>\n    </tr>\n    <tr>\n      <th>1282</th>\n      <td>51.000000</td>\n      <td>D28</td>\n      <td>S</td>\n      <td>39.4000</td>\n      <td>Lines, Mrs. Ernest H (Elizabeth Lindsey James)</td>\n      <td>1</td>\n      <td>1283</td>\n      <td>1</td>\n      <td>female</td>\n      <td>0</td>\n      <td>NaN</td>\n      <td>PC 17592</td>\n      <td>Mrs</td>\n      <td>2</td>\n      <td>D</td>\n      <td>2</td>\n      <td>Lines</td>\n      <td>2</td>\n    </tr>\n    <tr>\n      <th>1286</th>\n      <td>18.000000</td>\n      <td>C31</td>\n      <td>S</td>\n      <td>60.0000</td>\n      <td>Smith, Mrs. Lucien Philip (Mary Eloise Hughes)</td>\n      <td>0</td>\n      <td>1287</td>\n      <td>1</td>\n      <td>female</td>\n      <td>1</td>\n      <td>NaN</td>\n      <td>13695</td>\n      <td>Mrs</td>\n      <td>2</td>\n      <td>C</td>\n      <td>2</td>\n      <td>Smith</td>\n      <td>6</td>\n    </tr>\n    <tr>\n      <th>1288</th>\n      <td>48.000000</td>\n      <td>B41</td>\n      <td>C</td>\n      <td>79.2000</td>\n      <td>Frolicher-Stehli, Mrs. Maxmillian (Margaretha ...</td>\n      <td>1</td>\n      <td>1289</td>\n      <td>1</td>\n      <td>female</td>\n      <td>1</td>\n      <td>NaN</td>\n      <td>13567</td>\n      <td>Mrs</td>\n      <td>3</td>\n      <td>B</td>\n      <td>2</td>\n      <td>Frolicher-Stehli</td>\n      <td>2</td>\n    </tr>\n    <tr>\n      <th>1291</th>\n      <td>30.000000</td>\n      <td>C7</td>\n      <td>S</td>\n      <td>164.8667</td>\n      <td>Bonnell, Miss. Caroline</td>\n      <td>0</td>\n      <td>1292</td>\n      <td>1</td>\n      <td>female</td>\n      <td>0</td>\n      <td>NaN</td>\n      <td>36928</td>\n      <td>Miss</td>\n      <td>1</td>\n      <td>C</td>\n      <td>2</td>\n      <td>Bonnell</td>\n      <td>2</td>\n    </tr>\n    <tr>\n      <th>1293</th>\n      <td>22.000000</td>\n      <td>Unknown</td>\n      <td>C</td>\n      <td>59.4000</td>\n      <td>Gibson, Miss. Dorothy Winifred</td>\n      <td>1</td>\n      <td>1294</td>\n      <td>1</td>\n      <td>female</td>\n      <td>0</td>\n      <td>NaN</td>\n      <td>112378</td>\n      <td>Miss</td>\n      <td>2</td>\n      <td>U</td>\n      <td>2</td>\n      <td>Gibson</td>\n      <td>2</td>\n    </tr>\n    <tr>\n      <th>1300</th>\n      <td>3.000000</td>\n      <td>Unknown</td>\n      <td>S</td>\n      <td>13.7750</td>\n      <td>Peacock, Miss. Treasteall</td>\n      <td>1</td>\n      <td>1301</td>\n      <td>3</td>\n      <td>female</td>\n      <td>1</td>\n      <td>NaN</td>\n      <td>SOTON/O.Q. 3101315</td>\n      <td>Miss</td>\n      <td>3</td>\n      <td>U</td>\n      <td>2</td>\n      <td>Peacock</td>\n      <td>3</td>\n    </tr>\n    <tr>\n      <th>1302</th>\n      <td>37.000000</td>\n      <td>C78</td>\n      <td>Q</td>\n      <td>90.0000</td>\n      <td>Minahan, Mrs. William Edward (Lillian E Thorpe)</td>\n      <td>0</td>\n      <td>1303</td>\n      <td>1</td>\n      <td>female</td>\n      <td>1</td>\n      <td>NaN</td>\n      <td>19928</td>\n      <td>Mrs</td>\n      <td>2</td>\n      <td>C</td>\n      <td>2</td>\n      <td>Minahan</td>\n      <td>3</td>\n    </tr>\n    <tr>\n      <th>1308</th>\n      <td>6.035599</td>\n      <td>Unknown</td>\n      <td>C</td>\n      <td>22.3583</td>\n      <td>Peter, Master. Michael J</td>\n      <td>1</td>\n      <td>1309</td>\n      <td>3</td>\n      <td>male</td>\n      <td>1</td>\n      <td>NaN</td>\n      <td>2668</td>\n      <td>Master</td>\n      <td>3</td>\n      <td>U</td>\n      <td>2</td>\n      <td>Peter</td>\n      <td>3</td>\n    </tr>\n  </tbody>\n</table>\n<p>358 rows × 18 columns</p>\n</div>"
     },
     "execution_count": 38,
     "metadata": {},
     "output_type": "execute_result"
    }
   ]
  },
  {
   "cell_type": "code",
   "source": [
    "Female_Child = pd.DataFrame(Female_Child_Count.groupby('Surname')['Survived'].mean().value_counts())\n",
    "Female_Child.columns = ['GroupCount']\n",
    "Female_Child"
   ],
   "metadata": {
    "execution": {
     "iopub.status.busy": "2022-07-07T11:03:41.606182Z",
     "iopub.execute_input": "2022-07-07T11:03:41.607338Z",
     "iopub.status.idle": "2022-07-07T11:03:41.626204Z",
     "shell.execute_reply.started": "2022-07-07T11:03:41.607287Z",
     "shell.execute_reply": "2022-07-07T11:03:41.624765Z"
    },
    "trusted": true
   },
   "execution_count": 39,
   "outputs": [
    {
     "data": {
      "text/plain": "          GroupCount\n1.000000         115\n0.000000          31\n0.750000           2\n0.333333           1\n0.142857           1",
      "text/html": "<div>\n<style scoped>\n    .dataframe tbody tr th:only-of-type {\n        vertical-align: middle;\n    }\n\n    .dataframe tbody tr th {\n        vertical-align: top;\n    }\n\n    .dataframe thead th {\n        text-align: right;\n    }\n</style>\n<table border=\"1\" class=\"dataframe\">\n  <thead>\n    <tr style=\"text-align: right;\">\n      <th></th>\n      <th>GroupCount</th>\n    </tr>\n  </thead>\n  <tbody>\n    <tr>\n      <th>1.000000</th>\n      <td>115</td>\n    </tr>\n    <tr>\n      <th>0.000000</th>\n      <td>31</td>\n    </tr>\n    <tr>\n      <th>0.750000</th>\n      <td>2</td>\n    </tr>\n    <tr>\n      <th>0.333333</th>\n      <td>1</td>\n    </tr>\n    <tr>\n      <th>0.142857</th>\n      <td>1</td>\n    </tr>\n  </tbody>\n</table>\n</div>"
     },
     "execution_count": 39,
     "metadata": {},
     "output_type": "execute_result"
    }
   ]
  },
  {
   "cell_type": "code",
   "source": [
    "sns.barplot(x = Female_Child.index , y = Female_Child['GroupCount'] , data = all_data).set_xlabel('AverageSurvived')"
   ],
   "metadata": {
    "execution": {
     "iopub.status.busy": "2022-07-07T11:03:41.628083Z",
     "iopub.execute_input": "2022-07-07T11:03:41.629100Z",
     "iopub.status.idle": "2022-07-07T11:03:41.820672Z",
     "shell.execute_reply.started": "2022-07-07T11:03:41.629047Z",
     "shell.execute_reply": "2022-07-07T11:03:41.819386Z"
    },
    "trusted": true
   },
   "execution_count": 40,
   "outputs": [
    {
     "data": {
      "text/plain": "Text(0.5,0,'AverageSurvived')"
     },
     "execution_count": 40,
     "metadata": {},
     "output_type": "execute_result"
    },
    {
     "data": {
      "text/plain": "<Figure size 432x288 with 1 Axes>",
      "image/png": "[encoded data removed]"
     },
     "metadata": {
      "needs_background": "light"
     },
     "output_type": "display_data"
    }
   ]
  },
  {
   "cell_type": "code",
   "source": [
    "Male_Adult = pd.DataFrame(Male_Adult_Count.groupby('Surname')['Survived'].mean().value_counts())\n",
    "Male_Adult.columns = ['GroupCount']\n",
    "Male_Adult"
   ],
   "metadata": {
    "execution": {
     "iopub.status.busy": "2022-07-07T11:03:41.822525Z",
     "iopub.execute_input": "2022-07-07T11:03:41.823021Z",
     "iopub.status.idle": "2022-07-07T11:03:41.839374Z",
     "shell.execute_reply.started": "2022-07-07T11:03:41.822974Z",
     "shell.execute_reply": "2022-07-07T11:03:41.837904Z"
    },
    "trusted": true
   },
   "execution_count": 41,
   "outputs": [
    {
     "data": {
      "text/plain": "          GroupCount\n0.000000         122\n1.000000          20\n0.500000           6\n0.333333           2\n0.250000           1",
      "text/html": "<div>\n<style scoped>\n    .dataframe tbody tr th:only-of-type {\n        vertical-align: middle;\n    }\n\n    .dataframe tbody tr th {\n        vertical-align: top;\n    }\n\n    .dataframe thead th {\n        text-align: right;\n    }\n</style>\n<table border=\"1\" class=\"dataframe\">\n  <thead>\n    <tr style=\"text-align: right;\">\n      <th></th>\n      <th>GroupCount</th>\n    </tr>\n  </thead>\n  <tbody>\n    <tr>\n      <th>0.000000</th>\n      <td>122</td>\n    </tr>\n    <tr>\n      <th>1.000000</th>\n      <td>20</td>\n    </tr>\n    <tr>\n      <th>0.500000</th>\n      <td>6</td>\n    </tr>\n    <tr>\n      <th>0.333333</th>\n      <td>2</td>\n    </tr>\n    <tr>\n      <th>0.250000</th>\n      <td>1</td>\n    </tr>\n  </tbody>\n</table>\n</div>"
     },
     "execution_count": 41,
     "metadata": {},
     "output_type": "execute_result"
    }
   ]
  },
  {
   "cell_type": "markdown",
   "source": [
    "普遍规律是女性和儿童的幸存率较高， 成年男性的幸存率较低，所以把不符合普遍规律的反常组选出来单独处理。          \n",
    "把女性和儿童组里幸存率为0的组设置为遇难组，成年男性组里存活率为1的组设为幸存组，推测处于遇难组的女性和儿童幸存的可能性可能较低，处于幸存组的成年男性幸存的可能性较高。"
   ],
   "metadata": {}
  },
  {
   "cell_type": "code",
   "source": [
    "Female_Child_Count = Female_Child_Count.groupby('Surname')['Survived'].mean()\n",
    "Dead_List = set(Female_Child_Count[Female_Child_Count.apply(lambda x : x==0)].index)\n",
    "Dead_List"
   ],
   "metadata": {
    "execution": {
     "iopub.status.busy": "2022-07-07T11:03:41.840939Z",
     "iopub.execute_input": "2022-07-07T11:03:41.841315Z",
     "iopub.status.idle": "2022-07-07T11:03:41.855235Z",
     "shell.execute_reply.started": "2022-07-07T11:03:41.841285Z",
     "shell.execute_reply": "2022-07-07T11:03:41.853807Z"
    },
    "trusted": true
   },
   "execution_count": 42,
   "outputs": [
    {
     "data": {
      "text/plain": "{'Arnold-Franchi',\n 'Attalah',\n 'Barbara',\n 'Boulos',\n 'Bourke',\n 'Cacic',\n 'Canavan',\n 'Caram',\n 'Danbom',\n 'Ford',\n 'Goodwin',\n 'Ilmakangas',\n 'Johnston',\n 'Jussila',\n 'Lahtinen',\n 'Lefebre',\n 'Lobb',\n 'Olsson',\n 'Oreskovic',\n 'Palsson',\n 'Panula',\n 'Rice',\n 'Robins',\n 'Rosblom',\n 'Sage',\n 'Skoog',\n 'Strom',\n 'Turpin',\n 'Van Impe',\n 'Vander Planke',\n 'Zabour'}"
     },
     "execution_count": 42,
     "metadata": {},
     "output_type": "execute_result"
    }
   ]
  },
  {
   "cell_type": "code",
   "source": [
    "Male_Adult_Count = Male_Adult_Count.groupby('Surname')['Survived'].mean()\n",
    "Survived_List = set(Male_Adult_Count[Male_Adult_Count.apply(lambda x : x== 1)].index)\n",
    "Survived_List"
   ],
   "metadata": {
    "execution": {
     "iopub.status.busy": "2022-07-07T11:03:41.858494Z",
     "iopub.execute_input": "2022-07-07T11:03:41.859193Z",
     "iopub.status.idle": "2022-07-07T11:03:41.869488Z",
     "shell.execute_reply.started": "2022-07-07T11:03:41.859143Z",
     "shell.execute_reply": "2022-07-07T11:03:41.868306Z"
    },
    "trusted": true
   },
   "execution_count": 43,
   "outputs": [
    {
     "data": {
      "text/plain": "{'Beane',\n 'Beckwith',\n 'Bishop',\n 'Bradley',\n 'Cardeza',\n 'Chambers',\n 'Daly',\n 'Dick',\n 'Duff Gordon',\n 'Frauenthal',\n 'Frolicher-Stehli',\n 'Goldenberg',\n 'Greenfield',\n 'Harder',\n 'Jonsson',\n 'Jussila',\n 'Kimball',\n 'McCoy',\n 'Nakid',\n 'Taylor'}"
     },
     "execution_count": 43,
     "metadata": {},
     "output_type": "execute_result"
    }
   ]
  },
  {
   "cell_type": "markdown",
   "source": [
    "将测试集中的异常值改为正常值"
   ],
   "metadata": {}
  },
  {
   "cell_type": "code",
   "source": [
    "#将测试集中所有幸存组的成员改成女性和儿童，将遇难组的都改成男性\n",
    "train = all_data.loc[all_data['Survived'].notnull()]\n",
    "test = all_data.loc[all_data['Survived'].isnull()]\n",
    "\n",
    "test.loc[(test['Surname'].apply(lambda x : x in Dead_List)),'Sex'] = 'male'\n",
    "test.loc[(test['Surname'].apply(lambda x : x in Dead_List)),'Age'] = 60\n",
    "test.loc[(test['Surname'].apply(lambda x : x in Dead_List)),'Title'] = 'Mr'\n",
    "test.loc[(test['Surname'].apply(lambda x : x in Survived_List)),'Age'] = 5\n",
    "test.loc[(test['Surname'].apply(lambda x : x in Survived_List)),'Sex'] = 'female'\n",
    "test.loc[(test['Surname'].apply(lambda x : x in Survived_List)),'Title'] = 'Miss'"
   ],
   "metadata": {
    "execution": {
     "iopub.status.busy": "2022-07-07T11:03:41.871671Z",
     "iopub.execute_input": "2022-07-07T11:03:41.872142Z",
     "iopub.status.idle": "2022-07-07T11:03:41.891557Z",
     "shell.execute_reply.started": "2022-07-07T11:03:41.872062Z",
     "shell.execute_reply": "2022-07-07T11:03:41.890550Z"
    },
    "trusted": true
   },
   "execution_count": 44,
   "outputs": []
  },
  {
   "cell_type": "markdown",
   "source": [
    "## 特征转换"
   ],
   "metadata": {}
  },
  {
   "cell_type": "code",
   "source": [
    "\n",
    "all_data = pd.concat([train,test])\n",
    "all_data = all_data[['Survived','Pclass','Sex','Age','Fare','Embarked','Title','FamilySize','Desk','TicketGroup']]\n",
    "all_data = pd.get_dummies(all_data)\n",
    "train = all_data[all_data['Survived'].notnull()]\n",
    "test = all_data[all_data['Survived'].isnull()].drop('Survived',axis = 1)\n",
    "X = train.values[:,1:]\n",
    "y = train.values[:,0]"
   ],
   "metadata": {
    "execution": {
     "iopub.status.busy": "2022-07-07T11:03:41.893484Z",
     "iopub.execute_input": "2022-07-07T11:03:41.894358Z",
     "iopub.status.idle": "2022-07-07T11:03:41.920625Z",
     "shell.execute_reply.started": "2022-07-07T11:03:41.894311Z",
     "shell.execute_reply": "2022-07-07T11:03:41.919467Z"
    },
    "trusted": true
   },
   "execution_count": 45,
   "outputs": []
  },
  {
   "cell_type": "code",
   "source": [
    "all_data['Survived'].isnull()"
   ],
   "metadata": {
    "execution": {
     "iopub.status.busy": "2022-07-07T11:03:41.922140Z",
     "iopub.execute_input": "2022-07-07T11:03:41.922579Z",
     "iopub.status.idle": "2022-07-07T11:03:41.932485Z",
     "shell.execute_reply.started": "2022-07-07T11:03:41.922538Z",
     "shell.execute_reply": "2022-07-07T11:03:41.931311Z"
    },
    "trusted": true
   },
   "execution_count": 46,
   "outputs": [
    {
     "data": {
      "text/plain": "0       False\n1       False\n2       False\n3       False\n4       False\n5       False\n6       False\n7       False\n8       False\n9       False\n10      False\n11      False\n12      False\n13      False\n14      False\n15      False\n16      False\n17      False\n18      False\n19      False\n20      False\n21      False\n22      False\n23      False\n24      False\n25      False\n26      False\n27      False\n28      False\n29      False\n        ...  \n1279     True\n1280     True\n1281     True\n1282     True\n1283     True\n1284     True\n1285     True\n1286     True\n1287     True\n1288     True\n1289     True\n1290     True\n1291     True\n1292     True\n1293     True\n1294     True\n1295     True\n1296     True\n1297     True\n1298     True\n1299     True\n1300     True\n1301     True\n1302     True\n1303     True\n1304     True\n1305     True\n1306     True\n1307     True\n1308     True\nName: Survived, Length: 1309, dtype: bool"
     },
     "execution_count": 46,
     "metadata": {},
     "output_type": "execute_result"
    }
   ]
  },
  {
   "cell_type": "code",
   "source": [
    "train_data.head()"
   ],
   "metadata": {
    "execution": {
     "iopub.status.busy": "2022-07-07T11:03:41.934057Z",
     "iopub.execute_input": "2022-07-07T11:03:41.935331Z",
     "iopub.status.idle": "2022-07-07T11:03:41.955991Z",
     "shell.execute_reply.started": "2022-07-07T11:03:41.935281Z",
     "shell.execute_reply": "2022-07-07T11:03:41.955075Z"
    },
    "trusted": true
   },
   "execution_count": 47,
   "outputs": [
    {
     "data": {
      "text/plain": "   PassengerId  Survived  Pclass  \\\n0            1         0       3   \n1            2         1       1   \n2            3         1       3   \n3            4         1       1   \n4            5         0       3   \n\n                                                Name     Sex   Age  SibSp  \\\n0                            Braund, Mr. Owen Harris    male  22.0      1   \n1  Cumings, Mrs. John Bradley (Florence Briggs Th...  female  38.0      1   \n2                             Heikkinen, Miss. Laina  female  26.0      0   \n3       Futrelle, Mrs. Jacques Heath (Lily May Peel)  female  35.0      1   \n4                           Allen, Mr. William Henry    male  35.0      0   \n\n   Parch            Ticket     Fare Cabin Embarked  \n0      0         A/5 21171   7.2500   NaN        S  \n1      0          PC 17599  71.2833   C85        C  \n2      0  STON/O2. 3101282   7.9250   NaN        S  \n3      0            113803  53.1000  C123        S  \n4      0            373450   8.0500   NaN        S  ",
      "text/html": "<div>\n<style scoped>\n    .dataframe tbody tr th:only-of-type {\n        vertical-align: middle;\n    }\n\n    .dataframe tbody tr th {\n        vertical-align: top;\n    }\n\n    .dataframe thead th {\n        text-align: right;\n    }\n</style>\n<table border=\"1\" class=\"dataframe\">\n  <thead>\n    <tr style=\"text-align: right;\">\n      <th></th>\n      <th>PassengerId</th>\n      <th>Survived</th>\n      <th>Pclass</th>\n      <th>Name</th>\n      <th>Sex</th>\n      <th>Age</th>\n      <th>SibSp</th>\n      <th>Parch</th>\n      <th>Ticket</th>\n      <th>Fare</th>\n      <th>Cabin</th>\n      <th>Embarked</th>\n    </tr>\n  </thead>\n  <tbody>\n    <tr>\n      <th>0</th>\n      <td>1</td>\n      <td>0</td>\n      <td>3</td>\n      <td>Braund, Mr. Owen Harris</td>\n      <td>male</td>\n      <td>22.0</td>\n      <td>1</td>\n      <td>0</td>\n      <td>A/5 21171</td>\n      <td>7.2500</td>\n      <td>NaN</td>\n      <td>S</td>\n    </tr>\n    <tr>\n      <th>1</th>\n      <td>2</td>\n      <td>1</td>\n      <td>1</td>\n      <td>Cumings, Mrs. John Bradley (Florence Briggs Th...</td>\n      <td>female</td>\n      <td>38.0</td>\n      <td>1</td>\n      <td>0</td>\n      <td>PC 17599</td>\n      <td>71.2833</td>\n      <td>C85</td>\n      <td>C</td>\n    </tr>\n    <tr>\n      <th>2</th>\n      <td>3</td>\n      <td>1</td>\n      <td>3</td>\n      <td>Heikkinen, Miss. Laina</td>\n      <td>female</td>\n      <td>26.0</td>\n      <td>0</td>\n      <td>0</td>\n      <td>STON/O2. 3101282</td>\n      <td>7.9250</td>\n      <td>NaN</td>\n      <td>S</td>\n    </tr>\n    <tr>\n      <th>3</th>\n      <td>4</td>\n      <td>1</td>\n      <td>1</td>\n      <td>Futrelle, Mrs. Jacques Heath (Lily May Peel)</td>\n      <td>female</td>\n      <td>35.0</td>\n      <td>1</td>\n      <td>0</td>\n      <td>113803</td>\n      <td>53.1000</td>\n      <td>C123</td>\n      <td>S</td>\n    </tr>\n    <tr>\n      <th>4</th>\n      <td>5</td>\n      <td>0</td>\n      <td>3</td>\n      <td>Allen, Mr. William Henry</td>\n      <td>male</td>\n      <td>35.0</td>\n      <td>0</td>\n      <td>0</td>\n      <td>373450</td>\n      <td>8.0500</td>\n      <td>NaN</td>\n      <td>S</td>\n    </tr>\n  </tbody>\n</table>\n</div>"
     },
     "execution_count": 47,
     "metadata": {},
     "output_type": "execute_result"
    }
   ]
  },
  {
   "cell_type": "code",
   "source": [
    "from sklearn.pipeline import Pipeline\n",
    "from sklearn.ensemble import  RandomForestClassifier\n",
    "from sklearn.model_selection import  GridSearchCV\n",
    "from sklearn.feature_selection import SelectKBest\n",
    "from warnings import simplefilter\n",
    "simplefilter(action='ignore', category=FutureWarning)"
   ],
   "metadata": {
    "execution": {
     "iopub.status.busy": "2022-07-07T11:03:41.957320Z",
     "iopub.execute_input": "2022-07-07T11:03:41.958245Z",
     "iopub.status.idle": "2022-07-07T11:03:41.968432Z",
     "shell.execute_reply.started": "2022-07-07T11:03:41.958205Z",
     "shell.execute_reply": "2022-07-07T11:03:41.967197Z"
    },
    "trusted": true
   },
   "execution_count": 48,
   "outputs": []
  },
  {
   "cell_type": "code",
   "source": [
    "pipe = Pipeline([('select', SelectKBest(k=20)),\n",
    "            ('classify',RandomForestClassifier(random_state=10,max_features='sqrt'))\n",
    "            ])\n",
    "parm_test = {'classify__n_estimators':list(range(20,50,2)),\n",
    "            'classify__max_depth':list(range(3,60,3))\n",
    "            }\n",
    "\n",
    "gsearch = GridSearchCV(estimator=pipe,param_grid=parm_test,scoring='roc_auc',cv = 10)\n",
    "gsearch.fit(X,y)\n",
    "print(gsearch.best_params_,gsearch.best_score_)"
   ],
   "metadata": {
    "execution": {
     "iopub.status.busy": "2022-07-07T11:03:41.970248Z",
     "iopub.execute_input": "2022-07-07T11:03:41.970795Z",
     "iopub.status.idle": "2022-07-07T11:07:25.029005Z",
     "shell.execute_reply.started": "2022-07-07T11:03:41.970743Z",
     "shell.execute_reply": "2022-07-07T11:07:25.027543Z"
    },
    "trusted": true
   },
   "execution_count": 49,
   "outputs": [
    {
     "name": "stdout",
     "output_type": "stream",
     "text": [
      "{'classify__max_depth': 6, 'classify__n_estimators': 44} 0.8774903826102082\n"
     ]
    }
   ]
  },
  {
   "cell_type": "code",
   "source": [
    "from sklearn.pipeline import make_pipeline\n",
    "select = SelectKBest( k = 20)\n",
    "clf = RandomForestClassifier(random_state=10,warm_start=True,\n",
    "                            n_estimators = 26,\n",
    "                            max_depth = 6,\n",
    "                            max_features = 'sqrt'\n",
    "                            )\n",
    "pipeline = make_pipeline(select,clf)\n",
    "pipeline.fit(X,y)"
   ],
   "metadata": {
    "execution": {
     "iopub.status.busy": "2022-07-07T11:07:25.031156Z",
     "iopub.execute_input": "2022-07-07T11:07:25.031625Z",
     "iopub.status.idle": "2022-07-07T11:07:25.098304Z",
     "shell.execute_reply.started": "2022-07-07T11:07:25.031578Z",
     "shell.execute_reply": "2022-07-07T11:07:25.097183Z"
    },
    "trusted": true
   },
   "execution_count": 50,
   "outputs": [
    {
     "data": {
      "text/plain": "Pipeline(memory=None,\n     steps=[('selectkbest', SelectKBest(k=20, score_func=<function f_classif at 0x000001F971D36EA0>)), ('randomforestclassifier', RandomForestClassifier(bootstrap=True, class_weight=None, criterion='gini',\n            max_depth=6, max_features='sqrt', max_leaf_nodes=None,\n            min_impurity_decreas...estimators=26, n_jobs=1,\n            oob_score=False, random_state=10, verbose=0, warm_start=True))])"
     },
     "execution_count": 50,
     "metadata": {},
     "output_type": "execute_result"
    }
   ]
  },
  {
   "cell_type": "code",
   "source": [
    "\n",
    "from sklearn import model_selection,metrics\n",
    "cv_score = model_selection.cross_val_score(pipeline,X,y,cv = 10)\n",
    "print('CV score: Mean-%.7g | Std -%.7g' % (np.mean(cv_score),np.std(cv_score)))"
   ],
   "metadata": {
    "execution": {
     "iopub.status.busy": "2022-07-07T11:07:25.099886Z",
     "iopub.execute_input": "2022-07-07T11:07:25.100188Z",
     "iopub.status.idle": "2022-07-07T11:07:25.669276Z",
     "shell.execute_reply.started": "2022-07-07T11:07:25.100162Z",
     "shell.execute_reply": "2022-07-07T11:07:25.667814Z"
    },
    "trusted": true
   },
   "execution_count": 51,
   "outputs": [
    {
     "name": "stdout",
     "output_type": "stream",
     "text": [
      "CV score: Mean-0.8327545 | Std -0.03281119\n"
     ]
    }
   ]
  },
  {
   "cell_type": "code",
   "source": [
    "predictions = pipeline.predict(test)\n",
    "submission = pd.DataFrame({'PassengerID' : test.index+1 , 'Survived': predictions.astype(np.int32)})\n",
    "submission.to_csv(r'./submission.csv',index = False)"
   ],
   "metadata": {
    "execution": {
     "iopub.status.busy": "2022-07-07T11:07:25.670598Z",
     "iopub.execute_input": "2022-07-07T11:07:25.672964Z",
     "iopub.status.idle": "2022-07-07T11:07:25.690314Z",
     "shell.execute_reply.started": "2022-07-07T11:07:25.672921Z",
     "shell.execute_reply": "2022-07-07T11:07:25.689230Z"
    },
    "trusted": true
   },
   "execution_count": 52,
   "outputs": []
  }
 ]
}